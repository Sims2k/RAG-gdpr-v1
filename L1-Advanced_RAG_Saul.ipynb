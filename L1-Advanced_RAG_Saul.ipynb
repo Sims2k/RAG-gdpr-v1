{
 "cells": [
  {
   "cell_type": "markdown",
   "id": "a9bff53e",
   "metadata": {},
   "source": [
    "# Lesson 1: Advanced RAG Pipeline"
   ]
  },
  {
   "cell_type": "code",
   "execution_count": 3,
   "id": "feb98470-c136-471d-a63e-d50d8eb09c57",
   "metadata": {
    "height": 98,
    "tags": []
   },
   "outputs": [],
   "source": [
    "import utils\n",
    "\n",
    "import os\n",
    "import openai\n",
    "openai.api_key = utils.get_openai_api_key()\n",
    "\n",
    "#openai.api_key = \"sk-proj-QqtjsCZJacoM5OMr1mO3T3BlbkFJTyir0czUVQXsP4FHwMrU\""
   ]
  },
  {
   "cell_type": "code",
   "execution_count": 4,
   "id": "960d2278",
   "metadata": {},
   "outputs": [
    {
     "name": "stdout",
     "output_type": "stream",
     "text": [
      "certifi==2023.11.17\n",
      "jsonschema-specifications==2023.11.1\n",
      "regex==2023.10.3\n",
      "fsspec==2023.10.0\n",
      "pytz==2023.3.post1\n",
      "tzdata==2023.3\n",
      "pywin32==306\n",
      "setuptools==65.5.1\n",
      "pyzmq==25.1.1\n",
      "pip==24.0\n",
      "packaging==23.2\n",
      "argon2-cffi==23.1.0\n",
      "attrs==23.1.0\n",
      "argon2-cffi-bindings==21.2.0\n",
      "isoduration==20.11.0\n",
      "Faker==20.1.0\n",
      "pyarrow==14.0.1\n",
      "rich==13.7.0\n",
      "nvidia-nvjitlink-cu12==12.3.101\n",
      "nvidia-cuda-cupti-cu12==12.1.105\n",
      "nvidia-cuda-nvrtc-cu12==12.1.105\n",
      "nvidia-cuda-runtime-cu12==12.1.105\n",
      "nvidia-nvtx-cu12==12.1.105\n",
      "nvidia-cublas-cu12==12.1.3.1\n",
      "nvidia-cusparse-cu12==12.1.0.106\n",
      "nvidia-cusolver-cu12==11.4.5.107\n",
      "nvidia-cufft-cu12==11.0.2.54\n",
      "pymdown-extensions==10.5\n",
      "nvidia-curand-cu12==10.3.2.106\n",
      "more-itertools==10.1.0\n",
      "Pillow==10.1.0\n",
      "ipython==8.18.0\n",
      "nvidia-cudnn-cu12==8.9.4.25\n",
      "jupyter-client==8.6.0\n",
      "tenacity==8.2.3\n",
      "click==8.1.7\n",
      "ipywidgets==8.1.0\n",
      "python-slugify==8.0.1\n",
      "nbconvert==7.11.0\n",
      "overrides==7.4.0\n",
      "ipykernel==6.26.0\n",
      "importlib-metadata==6.8.0\n",
      "notebook==6.4.13\n",
      "tornado==6.3.3\n",
      "bleach==6.1.0\n",
      "multidict==6.0.4\n",
      "PyYAML==6.0.1\n",
      "psutil==5.9.6\n",
      "nbformat==5.9.2\n",
      "traitlets==5.9.0\n",
      "jupyter-core==5.5.0\n",
      "cachetools==5.3.2\n",
      "tzlocal==5.2\n",
      "altair==5.1.2\n",
      "decorator==5.1.1\n",
      "smmap==5.0.1\n",
      "tqdm==4.66.1\n",
      "fonttools==4.45.1\n",
      "cohere==4.36\n",
      "transformers==4.33.2\n",
      "protobuf==4.25.1\n",
      "jsonschema==4.20.0\n",
      "beautifulsoup4==4.12.2\n",
      "lxml==4.9.3\n",
      "humanize==4.9.0\n",
      "pexpect==4.9.0\n",
      "gdown==4.7.1\n",
      "typing-extensions==4.5.0\n",
      "gitdb==4.0.11\n",
      "widgetsnbextension==4.0.9\n",
      "async-timeout==4.0.3\n",
      "st-annotated-text==4.0.1\n",
      "munch==4.0.0\n",
      "platformdirs==4.0.0\n",
      "slack-sdk==3.26.0\n",
      "marshmallow==3.20.1\n",
      "zipp==3.17.0\n",
      "pypdf==3.16.1\n",
      "filelock==3.13.1\n",
      "aiohttp==3.9.1\n",
      "matplotlib==3.8.2\n",
      "nltk==3.8.1\n",
      "python-decouple==3.8\n",
      "anyio==3.7.1\n",
      "idna==3.6\n",
      "Markdown==3.5.1\n",
      "xxhash==3.4.1\n",
      "charset-normalizer==3.3.2\n",
      "networkx==3.2.1\n",
      "threadpoolctl==3.2.0\n",
      "GitPython==3.1.40\n",
      "Jinja2==3.1.2\n",
      "pyparsing==3.1.1\n",
      "prompt-toolkit==3.0.41\n",
      "jupyterlab-widgets==3.0.9\n",
      "mistune==3.0.2\n",
      "greenlet==3.0.1\n",
      "markdown-it-py==3.0.0\n",
      "watchdog==3.0.0\n",
      "requests==2.31.0\n",
      "pycparser==2.21\n",
      "fastjsonschema==2.19.0\n",
      "pygments==2.17.2\n",
      "datasets==2.15.0\n",
      "jupyter-server==2.10.1\n",
      "types-python-dateutil==2.8.19.14\n",
      "python-dateutil==2.8.2\n",
      "streamlit-vertical-slider==2.5.5\n",
      "soupsieve==2.5\n",
      "dnspython==2.4.2\n",
      "asttokens==2.4.1\n",
      "jsonpointer==2.4\n",
      "frozendict==2.3.9\n",
      "pinecone-client==2.2.4\n",
      "sentence-transformers==2.2.2\n",
      "backoff==2.2.1\n",
      "MarkupSafe==2.1.3\n",
      "pandas==2.1.3\n",
      "torch==2.1.1\n",
      "urllib3==2.1.0\n",
      "SQLAlchemy==2.0.23\n",
      "pywinpty==2.0.13\n",
      "python-json-logger==2.0.7\n",
      "executing==2.0.1\n",
      "jsonpatch==1.33\n",
      "streamlit==1.28.2\n",
      "numpy==1.26.2\n",
      "slack-bolt==1.18.1\n",
      "cffi==1.16.0\n",
      "six==1.16.0\n",
      "wrapt==1.16.0\n",
      "webcolors==1.13\n",
      "alembic==1.12.1\n",
      "sympy==1.12\n",
      "scipy==1.11.4\n",
      "pydantic==1.10.13\n",
      "yarl==1.9.3\n",
      "fastavro==1.8.2\n",
      "Send2Trash==1.8.2\n",
      "debugpy==1.8.0\n",
      "distro==1.8.0\n",
      "PySocks==1.7.1\n",
      "rich-click==1.7.1\n",
      "blinker==1.7.0\n",
      "websocket-client==1.6.4\n",
      "kaggle==1.5.16\n",
      "nest-asyncio==1.5.8\n",
      "fqdn==1.5.1\n",
      "pandocfilters==1.5.0\n",
      "kiwisolver==1.4.5\n",
      "frozenlist==1.4.0\n",
      "openai==1.3.5\n",
      "joblib==1.3.2\n",
      "scikit-learn==1.3.2\n",
      "aiosignal==1.3.1\n",
      "arrow==1.3.0\n",
      "Mako==1.3.0\n",
      "mpmath==1.3.0\n",
      "sniffio==1.3.0\n",
      "text-unidecode==1.3\n",
      "uri-template==1.3.0\n",
      "Deprecated==1.2.14\n",
      "tinycss2==1.2.1\n",
      "contourpy==1.2.0\n",
      "exceptiongroup==1.2.0\n",
      "win32-setctime==1.1.0\n",
      "httpcore==1.0.2\n",
      "streamlit-toggle-switch==1.0.2\n",
      "merkle-json==1.0.0\n",
      "mypy-extensions==1.0.0\n",
      "python-dotenv==1.0.0\n",
      "multiprocess==0.70.15\n",
      "wheel==0.41.3\n",
      "referencing==0.31.0\n",
      "httpx==0.25.2\n",
      "validators==0.22.0\n",
      "huggingface-hub==0.19.4\n",
      "jedi==0.19.1\n",
      "prometheus-client==0.19.0\n",
      "trulens-eval==0.18.1\n",
      "terminado==0.18.0\n",
      "torchvision==0.16.1\n",
      "h11==0.14.0\n",
      "tokenizers==0.13.3\n",
      "rpds-py==0.13.1\n",
      "cycler==0.12.1\n",
      "toolz==0.12.0\n",
      "toml==0.10.2\n",
      "llama-index==0.9.8\n",
      "jupyter-events==0.9.0\n",
      "nbclient==0.9.0\n",
      "parso==0.8.3\n",
      "pydeck==0.8.1b0\n",
      "typing-inspect==0.8.0\n",
      "loguru==0.7.2\n",
      "defusedxml==0.7.1\n",
      "favicon==0.7.0\n",
      "ptyprocess==0.7.0\n",
      "stack-data==0.6.3\n",
      "dataclasses-json==0.6.2\n",
      "htbuilder==0.6.2\n",
      "pyarrow-hotfix==0.6\n",
      "aiostream==0.5.2\n",
      "tiktoken==0.5.1\n",
      "webencodings==0.5.1\n",
      "colorama==0.4.6\n",
      "jupyter-server-terminals==0.4.4\n",
      "redlines==0.4.2\n",
      "entrypoints==0.4\n",
      "safetensors==0.4.0\n",
      "dill==0.3.7\n",
      "streamlit-extras==0.3.5\n",
      "streamlit-aggrid==0.3.4.post3\n",
      "jupyterlab-pygments==0.3.0\n",
      "wcwidth==0.2.12\n",
      "pure-eval==0.2.2\n",
      "comm==0.2.0\n",
      "ipython-genutils==0.2.0\n",
      "streamlit-camera-input-live==0.2.0\n",
      "streamlit-keyup==0.2.0\n",
      "sentencepiece==0.1.99\n",
      "matplotlib-inline==0.1.6\n",
      "streamlit-image-coordinates==0.1.6\n",
      "streamlit-javascript==0.1.5\n",
      "rfc3339-validator==0.1.4\n",
      "mdurl==0.1.2\n",
      "streamlit-embedcode==0.1.2\n",
      "millify==0.1.1\n",
      "rfc3986-validator==0.1.1\n",
      "langchain==0.0.340\n",
      "langsmith==0.0.66\n",
      "streamlit-card==0.0.61\n",
      "markdownlit==0.0.7\n",
      "streamlit-faker==0.0.3\n"
     ]
    }
   ],
   "source": [
    "import pkg_resources\n",
    "\n",
    "dists = [str(d).replace(\" \",\"==\") for d in pkg_resources.working_set]\n",
    "for i in dists:\n",
    "    print(i)"
   ]
  },
  {
   "cell_type": "code",
   "execution_count": 5,
   "id": "31e2859b-596e-40b3-867b-f4d6e91f74bc",
   "metadata": {
    "height": 98,
    "tags": []
   },
   "outputs": [],
   "source": [
    "from llama_index import SimpleDirectoryReader\n",
    "\n",
    "documents = SimpleDirectoryReader(\n",
    "    input_files=[\"./CELEX_32016R0679_EN_TXT.pdf\"]\n",
    ").load_data()"
   ]
  },
  {
   "cell_type": "code",
   "execution_count": 6,
   "id": "2d7d0857-b9d1-4feb-8243-bfd2f4953acd",
   "metadata": {
    "height": 81,
    "tags": []
   },
   "outputs": [
    {
     "name": "stdout",
     "output_type": "stream",
     "text": [
      "<class 'list'> \n",
      "\n",
      "88 \n",
      "\n",
      "<class 'llama_index.schema.Document'>\n",
      "Doc ID: 707847a1-5dca-4d2a-8a89-4a751f7c09df\n",
      "Text: I  (Legislativ e acts)  REGUL ATIONS  REGUL ATION (EU) 2016/679\n",
      "OF THE EUR OPEAN PARLIAMENT AND OF THE COUNCIL  of 27 Apr il 2016  on\n",
      "the protection of natural persons with regard to the processing of\n",
      "personal data and on the free  movement of such data, and repealing\n",
      "Directiv e 95/46/EC (General Data Protection Regulation)  (Text with\n",
      "EEA relev...\n"
     ]
    }
   ],
   "source": [
    "print(type(documents), \"\\n\")\n",
    "print(len(documents), \"\\n\")\n",
    "print(type(documents[0]))\n",
    "print(documents[0])"
   ]
  },
  {
   "cell_type": "markdown",
   "id": "f3123d3d",
   "metadata": {},
   "source": [
    "## Basic RAG pipeline"
   ]
  },
  {
   "cell_type": "code",
   "execution_count": 7,
   "id": "b4abc806-64f5-46bb-8c9f-6469ecb18d20",
   "metadata": {
    "height": 64,
    "tags": []
   },
   "outputs": [],
   "source": [
    "from llama_index import Document\n",
    "\n",
    "document = Document(text=\"\\n\\n\".join([doc.text for doc in documents]))"
   ]
  },
  {
   "cell_type": "code",
   "execution_count": 14,
   "id": "afc2baff-5e8b-4733-9899-16f248777b23",
   "metadata": {
    "height": 183,
    "tags": []
   },
   "outputs": [],
   "source": [
    "from llama_index import VectorStoreIndex\n",
    "from llama_index import ServiceContext\n",
    "from llama_index.llms.ollama import Ollama\n",
    "from llama_index.llms import OpenAI\n",
    "\n",
    "#llm = OpenAI(model=\"gpt-3.5-turbo\", temperature=0.1)\n",
    "llm = Ollama(model=\"Saul-Instruct-v1\")\n",
    "service_context = ServiceContext.from_defaults(\n",
    "    llm=llm, embed_model=\"local:BAAI/bge-small-en-v1.5\"\n",
    ")\n",
    "index = VectorStoreIndex.from_documents([document],\n",
    "                                        service_context=service_context)"
   ]
  },
  {
   "cell_type": "code",
   "execution_count": 15,
   "id": "ae52a26c-7d0c-44df-8043-4c7f19f794b9",
   "metadata": {
    "height": 30,
    "tags": []
   },
   "outputs": [],
   "source": [
    "query_engine = index.as_query_engine()"
   ]
  },
  {
   "cell_type": "code",
   "execution_count": 16,
   "id": "6b0d5b6e-cc2e-4648-b28c-5fa25a97d175",
   "metadata": {
    "height": 81,
    "tags": []
   },
   "outputs": [
    {
     "name": "stdout",
     "output_type": "stream",
     "text": [
      "In order to manage user authorizations for ensuring data security under GDPR, organizations need to adhere to certain principles and guidelines. These include the following steps:\n",
      "\n",
      "1. Determine the scope of personal data processing: Organizations should clearly define the purposes and means of processing personal data. This involves identifying the categories of data subjects, types of personal data, and the processing activities involved in providing goods or services.\n",
      "\n",
      "2. Appoint a representative for non-EU organizations: If an organization is not established within the European Union (EU) but processes personal data of EU residents, they are required to designate a representative unless their processing activities meet specific conditions. This representative should act on behalf of the controller or processor and be explicitly designated by a written mandate.\n",
      "\n",
      "3. Ensure compliance through processors: When entrusting processing activities to a third-party service provider (processor), organizations must ensure that they choose processors with sufficient guarantees, particularly in terms of expertise, reliability, and resources. Processors should implement appropriate technical and organizational measures for data security. Adherence to approved codes of conduct or certification mechanisms can serve as evidence of compliance with GDPR obligations.\n",
      "\n",
      "4. Use standard contractual clauses: The relationship between the controller and processor must be governed by a legally binding contract or other legal act under EU or Member State law. This contract should include specific details such as the subject matter, duration of processing, nature and purposes of processing, types of personal data involved, and the processor's responsibilities in the context of the processing tasks. Standard contractual clauses can be directly adopted by the Commission or approved by a supervisory authority through the consistency mechanism.\n",
      "\n",
      "5. Maintain records of processing activities: To demonstrate compliance with GDPR, organizations should maintain accurate records of their personal data processing activities. This includes documenting the scope and details of each processing activity under their responsibility.\n",
      "\n",
      "By following these steps and implementing appropriate technical and organizational measures for data security, organizations can effectively manage user authorizations and ensure compliance with the GDPR.\n"
     ]
    }
   ],
   "source": [
    "response = query_engine.query(\n",
    "    \"How should an organization manage user authorizations to ensure data security under GDPR?\"\n",
    ")\n",
    "print(str(response))"
   ]
  },
  {
   "cell_type": "markdown",
   "id": "e50a1ac5",
   "metadata": {},
   "source": [
    "## Evaluation setup using TruLens"
   ]
  },
  {
   "cell_type": "code",
   "execution_count": 10,
   "id": "0ead7dc1-71b2-4001-918f-bf8d610fd3fd",
   "metadata": {
    "height": 132,
    "tags": []
   },
   "outputs": [
    {
     "name": "stdout",
     "output_type": "stream",
     "text": [
      "What are the essential security measures for effective teleworking under GDPR?\n",
      "What organizational measures should be taken to ensure compliance with the GDPR in terms of data security?\n",
      "What technical measures are essential for ensuring the security of personal data under GDPR?\n",
      "What are the essential technical measures to secure equipment and workstations for protecting personal data?\n",
      "How should an organization protect its premises to ensure the security of personal data?\n",
      "How should an organization implement user authentication to protect personal data under GDPR requirements?\n",
      "How should an organization manage user authorizations to ensure data security under GDPR?\n",
      "What is pseudonymisation and how should it be implemented under GDPR?\n",
      "How does encryption and hash functions contribute to GDPR compliance?\n",
      "What does data anonymisation involve under GDPR, and how is it distinguished from pseudonymisation?\n"
     ]
    }
   ],
   "source": [
    "eval_questions = []\n",
    "with open('eval_questions.txt', 'r') as file:\n",
    "    for line in file:\n",
    "        # Remove newline character and convert to integer\n",
    "        item = line.strip()\n",
    "        print(item)\n",
    "        eval_questions.append(item)"
   ]
  },
  {
   "cell_type": "code",
   "execution_count": 11,
   "id": "87a278f8",
   "metadata": {
    "height": 64
   },
   "outputs": [],
   "source": [
    "# You can try your own question:\n",
    "new_question = \"What are the essential security measures for effective teleworking under GDPR?\"\n",
    "eval_questions.append(new_question)"
   ]
  },
  {
   "cell_type": "code",
   "execution_count": 12,
   "id": "8d5204e8",
   "metadata": {
    "height": 30
   },
   "outputs": [
    {
     "name": "stdout",
     "output_type": "stream",
     "text": [
      "['What are the essential security measures for effective teleworking under GDPR?', 'What organizational measures should be taken to ensure compliance with the GDPR in terms of data security?', 'What technical measures are essential for ensuring the security of personal data under GDPR?', 'What are the essential technical measures to secure equipment and workstations for protecting personal data?', 'How should an organization protect its premises to ensure the security of personal data?', 'How should an organization implement user authentication to protect personal data under GDPR requirements?', 'How should an organization manage user authorizations to ensure data security under GDPR?', 'What is pseudonymisation and how should it be implemented under GDPR?', 'How does encryption and hash functions contribute to GDPR compliance?', 'What does data anonymisation involve under GDPR, and how is it distinguished from pseudonymisation?', 'What are the essential security measures for effective teleworking under GDPR?']\n"
     ]
    }
   ],
   "source": [
    "print(eval_questions)"
   ]
  },
  {
   "cell_type": "code",
   "execution_count": 13,
   "id": "c063c9c7-bf1e-4b24-9a22-d4281c0f954e",
   "metadata": {
    "height": 81,
    "tags": []
   },
   "outputs": [
    {
     "name": "stdout",
     "output_type": "stream",
     "text": [
      "🦑 Tru initialized with db url sqlite:///default.sqlite .\n",
      "🛑 Secret keys may be written to the database. See the `database_redact_keys` option of `Tru` to prevent this.\n"
     ]
    }
   ],
   "source": [
    "from trulens_eval import Tru\n",
    "tru = Tru()\n",
    "\n",
    "tru.reset_database()"
   ]
  },
  {
   "cell_type": "markdown",
   "id": "03802825-6ce4-4563-aeec-d8d57e095ad1",
   "metadata": {},
   "source": [
    "For the classroom, we've written some of the code in helper functions inside a utils.py file.  \n",
    "- You can view the utils.py file in the file directory by clicking on the \"Jupyter\" logo at the top of the notebook.\n",
    "- In later lessons, you'll get to work directly with the code that's currently wrapped inside these helper functions, to give you more options to customize your RAG pipeline."
   ]
  },
  {
   "cell_type": "code",
   "execution_count": 14,
   "id": "4f754bed-d16f-4c8d-a1a1-b36096272570",
   "metadata": {
    "height": 81,
    "tags": []
   },
   "outputs": [],
   "source": [
    "from utils import get_prebuilt_trulens_recorder\n",
    "\n",
    "tru_recorder = get_prebuilt_trulens_recorder(query_engine,\n",
    "                                             app_id=\"Direct Query Engine\")"
   ]
  },
  {
   "cell_type": "code",
   "execution_count": 15,
   "id": "4dbdfbcc-aac7-4805-9894-4fc016c66bf6",
   "metadata": {
    "height": 64,
    "tags": []
   },
   "outputs": [],
   "source": [
    "with tru_recorder as recording:\n",
    "    for question in eval_questions:\n",
    "        response = query_engine.query(question)"
   ]
  },
  {
   "cell_type": "code",
   "execution_count": 16,
   "id": "e14f512b-601c-42d0-bfac-bf41d9c577e7",
   "metadata": {
    "height": 30,
    "tags": []
   },
   "outputs": [],
   "source": [
    "records, feedback = tru.get_records_and_feedback(app_ids=[])"
   ]
  },
  {
   "cell_type": "code",
   "execution_count": 17,
   "id": "2da4a602-0d56-4bf8-9fa6-03ef0b7e254b",
   "metadata": {
    "height": 30,
    "tags": []
   },
   "outputs": [
    {
     "data": {
      "text/html": [
       "<div>\n",
       "<style scoped>\n",
       "    .dataframe tbody tr th:only-of-type {\n",
       "        vertical-align: middle;\n",
       "    }\n",
       "\n",
       "    .dataframe tbody tr th {\n",
       "        vertical-align: top;\n",
       "    }\n",
       "\n",
       "    .dataframe thead th {\n",
       "        text-align: right;\n",
       "    }\n",
       "</style>\n",
       "<table border=\"1\" class=\"dataframe\">\n",
       "  <thead>\n",
       "    <tr style=\"text-align: right;\">\n",
       "      <th></th>\n",
       "      <th>app_id</th>\n",
       "      <th>app_json</th>\n",
       "      <th>type</th>\n",
       "      <th>record_id</th>\n",
       "      <th>input</th>\n",
       "      <th>output</th>\n",
       "      <th>tags</th>\n",
       "      <th>record_json</th>\n",
       "      <th>cost_json</th>\n",
       "      <th>perf_json</th>\n",
       "      <th>ts</th>\n",
       "      <th>Answer Relevance</th>\n",
       "      <th>Context Relevance</th>\n",
       "      <th>Groundedness</th>\n",
       "      <th>Answer Relevance_calls</th>\n",
       "      <th>Context Relevance_calls</th>\n",
       "      <th>Groundedness_calls</th>\n",
       "      <th>latency</th>\n",
       "      <th>total_tokens</th>\n",
       "      <th>total_cost</th>\n",
       "    </tr>\n",
       "  </thead>\n",
       "  <tbody>\n",
       "    <tr>\n",
       "      <th>0</th>\n",
       "      <td>Direct Query Engine</td>\n",
       "      <td>{\"app_id\": \"Direct Query Engine\", \"tags\": \"-\",...</td>\n",
       "      <td>RetrieverQueryEngine(llama_index.query_engine....</td>\n",
       "      <td>record_hash_62c341eb4737383f20816d6f4734d1de</td>\n",
       "      <td>\"What are the essential security measures for ...</td>\n",
       "      <td>\"Essential security measures for effective tel...</td>\n",
       "      <td>-</td>\n",
       "      <td>{\"record_id\": \"record_hash_62c341eb4737383f208...</td>\n",
       "      <td>{\"n_requests\": 1, \"n_successful_requests\": 1, ...</td>\n",
       "      <td>{\"start_time\": \"2024-06-05T14:54:43.741329\", \"...</td>\n",
       "      <td>2024-06-05T14:54:46.239427</td>\n",
       "      <td>1.0</td>\n",
       "      <td>0.00</td>\n",
       "      <td>0.88</td>\n",
       "      <td>[{'args': {'prompt': 'What are the essential s...</td>\n",
       "      <td>[{'args': {'prompt': 'What are the essential s...</td>\n",
       "      <td>[{'args': {'source': 'Where such \n",
       "notification...</td>\n",
       "      <td>2</td>\n",
       "      <td>2108</td>\n",
       "      <td>0.003197</td>\n",
       "    </tr>\n",
       "    <tr>\n",
       "      <th>1</th>\n",
       "      <td>Direct Query Engine</td>\n",
       "      <td>{\"app_id\": \"Direct Query Engine\", \"tags\": \"-\",...</td>\n",
       "      <td>RetrieverQueryEngine(llama_index.query_engine....</td>\n",
       "      <td>record_hash_9773fcab739cfe333c0c1faed8cd59b5</td>\n",
       "      <td>\"What organizational measures should be taken ...</td>\n",
       "      <td>\"Organizational measures such as evaluating ri...</td>\n",
       "      <td>-</td>\n",
       "      <td>{\"record_id\": \"record_hash_9773fcab739cfe333c0...</td>\n",
       "      <td>{\"n_requests\": 1, \"n_successful_requests\": 1, ...</td>\n",
       "      <td>{\"start_time\": \"2024-06-05T14:54:46.456717\", \"...</td>\n",
       "      <td>2024-06-05T14:54:48.790732</td>\n",
       "      <td>1.0</td>\n",
       "      <td>1.00</td>\n",
       "      <td>0.85</td>\n",
       "      <td>[{'args': {'prompt': 'What organizational meas...</td>\n",
       "      <td>[{'args': {'prompt': 'What organizational meas...</td>\n",
       "      <td>[{'args': {'source': 'Those measures shall be ...</td>\n",
       "      <td>2</td>\n",
       "      <td>2182</td>\n",
       "      <td>0.003299</td>\n",
       "    </tr>\n",
       "    <tr>\n",
       "      <th>2</th>\n",
       "      <td>Direct Query Engine</td>\n",
       "      <td>{\"app_id\": \"Direct Query Engine\", \"tags\": \"-\",...</td>\n",
       "      <td>RetrieverQueryEngine(llama_index.query_engine....</td>\n",
       "      <td>record_hash_fbec59609d2aca15b4d0db6ac64bf53f</td>\n",
       "      <td>\"What technical measures are essential for ens...</td>\n",
       "      <td>\"Implementing appropriate technical and organi...</td>\n",
       "      <td>-</td>\n",
       "      <td>{\"record_id\": \"record_hash_fbec59609d2aca15b4d...</td>\n",
       "      <td>{\"n_requests\": 1, \"n_successful_requests\": 1, ...</td>\n",
       "      <td>{\"start_time\": \"2024-06-05T14:54:49.006988\", \"...</td>\n",
       "      <td>2024-06-05T14:54:51.891685</td>\n",
       "      <td>1.0</td>\n",
       "      <td>0.55</td>\n",
       "      <td>1.00</td>\n",
       "      <td>[{'args': {'prompt': 'What technical measures ...</td>\n",
       "      <td>[{'args': {'prompt': 'What technical measures ...</td>\n",
       "      <td>[{'args': {'source': 'Those restr ictions shou...</td>\n",
       "      <td>2</td>\n",
       "      <td>2214</td>\n",
       "      <td>0.003362</td>\n",
       "    </tr>\n",
       "    <tr>\n",
       "      <th>3</th>\n",
       "      <td>Direct Query Engine</td>\n",
       "      <td>{\"app_id\": \"Direct Query Engine\", \"tags\": \"-\",...</td>\n",
       "      <td>RetrieverQueryEngine(llama_index.query_engine....</td>\n",
       "      <td>record_hash_5f0623e9ba4a591c6b018a575daf8ed2</td>\n",
       "      <td>\"What are the essential technical measures to ...</td>\n",
       "      <td>\"The essential technical measures to secure eq...</td>\n",
       "      <td>-</td>\n",
       "      <td>{\"record_id\": \"record_hash_5f0623e9ba4a591c6b0...</td>\n",
       "      <td>{\"n_requests\": 1, \"n_successful_requests\": 1, ...</td>\n",
       "      <td>{\"start_time\": \"2024-06-05T14:54:52.108464\", \"...</td>\n",
       "      <td>2024-06-05T14:54:54.642781</td>\n",
       "      <td>1.0</td>\n",
       "      <td>0.60</td>\n",
       "      <td>1.00</td>\n",
       "      <td>[{'args': {'prompt': 'What are the essential t...</td>\n",
       "      <td>[{'args': {'prompt': 'What are the essential t...</td>\n",
       "      <td>[{'args': {'source': 'When developing, designi...</td>\n",
       "      <td>2</td>\n",
       "      <td>2204</td>\n",
       "      <td>0.003338</td>\n",
       "    </tr>\n",
       "    <tr>\n",
       "      <th>4</th>\n",
       "      <td>Direct Query Engine</td>\n",
       "      <td>{\"app_id\": \"Direct Query Engine\", \"tags\": \"-\",...</td>\n",
       "      <td>RetrieverQueryEngine(llama_index.query_engine....</td>\n",
       "      <td>record_hash_160d725106456c916e2ddbf588091ed8</td>\n",
       "      <td>\"How should an organization protect its premis...</td>\n",
       "      <td>\"An organization should evaluate the risks inh...</td>\n",
       "      <td>-</td>\n",
       "      <td>{\"record_id\": \"record_hash_160d725106456c916e2...</td>\n",
       "      <td>{\"n_requests\": 1, \"n_successful_requests\": 1, ...</td>\n",
       "      <td>{\"start_time\": \"2024-06-05T14:54:54.842720\", \"...</td>\n",
       "      <td>2024-06-05T14:54:57.066385</td>\n",
       "      <td>1.0</td>\n",
       "      <td>0.60</td>\n",
       "      <td>1.00</td>\n",
       "      <td>[{'args': {'prompt': 'How should an organizati...</td>\n",
       "      <td>[{'args': {'prompt': 'How should an organizati...</td>\n",
       "      <td>[{'args': {'source': 'The \n",
       "controller and proc...</td>\n",
       "      <td>2</td>\n",
       "      <td>2204</td>\n",
       "      <td>0.003340</td>\n",
       "    </tr>\n",
       "  </tbody>\n",
       "</table>\n",
       "</div>"
      ],
      "text/plain": [
       "                app_id                                           app_json  \\\n",
       "0  Direct Query Engine  {\"app_id\": \"Direct Query Engine\", \"tags\": \"-\",...   \n",
       "1  Direct Query Engine  {\"app_id\": \"Direct Query Engine\", \"tags\": \"-\",...   \n",
       "2  Direct Query Engine  {\"app_id\": \"Direct Query Engine\", \"tags\": \"-\",...   \n",
       "3  Direct Query Engine  {\"app_id\": \"Direct Query Engine\", \"tags\": \"-\",...   \n",
       "4  Direct Query Engine  {\"app_id\": \"Direct Query Engine\", \"tags\": \"-\",...   \n",
       "\n",
       "                                                type  \\\n",
       "0  RetrieverQueryEngine(llama_index.query_engine....   \n",
       "1  RetrieverQueryEngine(llama_index.query_engine....   \n",
       "2  RetrieverQueryEngine(llama_index.query_engine....   \n",
       "3  RetrieverQueryEngine(llama_index.query_engine....   \n",
       "4  RetrieverQueryEngine(llama_index.query_engine....   \n",
       "\n",
       "                                      record_id  \\\n",
       "0  record_hash_62c341eb4737383f20816d6f4734d1de   \n",
       "1  record_hash_9773fcab739cfe333c0c1faed8cd59b5   \n",
       "2  record_hash_fbec59609d2aca15b4d0db6ac64bf53f   \n",
       "3  record_hash_5f0623e9ba4a591c6b018a575daf8ed2   \n",
       "4  record_hash_160d725106456c916e2ddbf588091ed8   \n",
       "\n",
       "                                               input  \\\n",
       "0  \"What are the essential security measures for ...   \n",
       "1  \"What organizational measures should be taken ...   \n",
       "2  \"What technical measures are essential for ens...   \n",
       "3  \"What are the essential technical measures to ...   \n",
       "4  \"How should an organization protect its premis...   \n",
       "\n",
       "                                              output tags  \\\n",
       "0  \"Essential security measures for effective tel...    -   \n",
       "1  \"Organizational measures such as evaluating ri...    -   \n",
       "2  \"Implementing appropriate technical and organi...    -   \n",
       "3  \"The essential technical measures to secure eq...    -   \n",
       "4  \"An organization should evaluate the risks inh...    -   \n",
       "\n",
       "                                         record_json  \\\n",
       "0  {\"record_id\": \"record_hash_62c341eb4737383f208...   \n",
       "1  {\"record_id\": \"record_hash_9773fcab739cfe333c0...   \n",
       "2  {\"record_id\": \"record_hash_fbec59609d2aca15b4d...   \n",
       "3  {\"record_id\": \"record_hash_5f0623e9ba4a591c6b0...   \n",
       "4  {\"record_id\": \"record_hash_160d725106456c916e2...   \n",
       "\n",
       "                                           cost_json  \\\n",
       "0  {\"n_requests\": 1, \"n_successful_requests\": 1, ...   \n",
       "1  {\"n_requests\": 1, \"n_successful_requests\": 1, ...   \n",
       "2  {\"n_requests\": 1, \"n_successful_requests\": 1, ...   \n",
       "3  {\"n_requests\": 1, \"n_successful_requests\": 1, ...   \n",
       "4  {\"n_requests\": 1, \"n_successful_requests\": 1, ...   \n",
       "\n",
       "                                           perf_json  \\\n",
       "0  {\"start_time\": \"2024-06-05T14:54:43.741329\", \"...   \n",
       "1  {\"start_time\": \"2024-06-05T14:54:46.456717\", \"...   \n",
       "2  {\"start_time\": \"2024-06-05T14:54:49.006988\", \"...   \n",
       "3  {\"start_time\": \"2024-06-05T14:54:52.108464\", \"...   \n",
       "4  {\"start_time\": \"2024-06-05T14:54:54.842720\", \"...   \n",
       "\n",
       "                           ts  Answer Relevance  Context Relevance  \\\n",
       "0  2024-06-05T14:54:46.239427               1.0               0.00   \n",
       "1  2024-06-05T14:54:48.790732               1.0               1.00   \n",
       "2  2024-06-05T14:54:51.891685               1.0               0.55   \n",
       "3  2024-06-05T14:54:54.642781               1.0               0.60   \n",
       "4  2024-06-05T14:54:57.066385               1.0               0.60   \n",
       "\n",
       "   Groundedness                             Answer Relevance_calls  \\\n",
       "0          0.88  [{'args': {'prompt': 'What are the essential s...   \n",
       "1          0.85  [{'args': {'prompt': 'What organizational meas...   \n",
       "2          1.00  [{'args': {'prompt': 'What technical measures ...   \n",
       "3          1.00  [{'args': {'prompt': 'What are the essential t...   \n",
       "4          1.00  [{'args': {'prompt': 'How should an organizati...   \n",
       "\n",
       "                             Context Relevance_calls  \\\n",
       "0  [{'args': {'prompt': 'What are the essential s...   \n",
       "1  [{'args': {'prompt': 'What organizational meas...   \n",
       "2  [{'args': {'prompt': 'What technical measures ...   \n",
       "3  [{'args': {'prompt': 'What are the essential t...   \n",
       "4  [{'args': {'prompt': 'How should an organizati...   \n",
       "\n",
       "                                  Groundedness_calls  latency  total_tokens  \\\n",
       "0  [{'args': {'source': 'Where such \n",
       "notification...        2          2108   \n",
       "1  [{'args': {'source': 'Those measures shall be ...        2          2182   \n",
       "2  [{'args': {'source': 'Those restr ictions shou...        2          2214   \n",
       "3  [{'args': {'source': 'When developing, designi...        2          2204   \n",
       "4  [{'args': {'source': 'The \n",
       "controller and proc...        2          2204   \n",
       "\n",
       "   total_cost  \n",
       "0    0.003197  \n",
       "1    0.003299  \n",
       "2    0.003362  \n",
       "3    0.003338  \n",
       "4    0.003340  "
      ]
     },
     "execution_count": 17,
     "metadata": {},
     "output_type": "execute_result"
    }
   ],
   "source": [
    "records.head()"
   ]
  },
  {
   "cell_type": "code",
   "execution_count": 19,
   "id": "64310897-179b-4081-aab8-f08a3392a078",
   "metadata": {
    "height": 47,
    "tags": []
   },
   "outputs": [
    {
     "name": "stdout",
     "output_type": "stream",
     "text": [
      "Starting dashboard ...\n",
      "Config file already exists. Skipping writing process.\n",
      "Credentials file already exists. Skipping writing process.\n",
      "Dashboard already running at path:   Network URL: http://192.168.178.104:8501\n",
      "\n"
     ]
    },
    {
     "data": {
      "text/plain": [
       "<Popen: returncode: None args: ['streamlit', 'run', '--server.headless=True'...>"
      ]
     },
     "execution_count": 19,
     "metadata": {},
     "output_type": "execute_result"
    }
   ],
   "source": [
    "# launches on http://localhost:8501/\n",
    "tru.run_dashboard()"
   ]
  },
  {
   "cell_type": "markdown",
   "id": "a4eedcef",
   "metadata": {},
   "source": [
    "## Advanced RAG pipeline"
   ]
  },
  {
   "cell_type": "markdown",
   "id": "9a17ea2b",
   "metadata": {},
   "source": [
    "### 1. Sentence Window retrieval"
   ]
  },
  {
   "cell_type": "code",
   "execution_count": 20,
   "id": "dae4a668-3699-4750-82f7-e53ae1bca3a7",
   "metadata": {
    "height": 64,
    "tags": []
   },
   "outputs": [],
   "source": [
    "from llama_index.llms import OpenAI\n",
    "\n",
    "llm = OpenAI(model=\"gpt-3.5-turbo\", temperature=0.1)"
   ]
  },
  {
   "cell_type": "code",
   "execution_count": 21,
   "id": "78f7678f-358d-448d-b153-11ac8e96a7fc",
   "metadata": {
    "height": 149,
    "tags": []
   },
   "outputs": [],
   "source": [
    "from utils import build_sentence_window_index\n",
    "\n",
    "sentence_index = build_sentence_window_index(\n",
    "    document,\n",
    "    llm,\n",
    "    embed_model=\"local:BAAI/bge-small-en-v1.5\",\n",
    "    save_dir=\"sentence_index\"\n",
    ")"
   ]
  },
  {
   "cell_type": "code",
   "execution_count": 22,
   "id": "72f904c3-9845-4df5-9d2e-e5115160f987",
   "metadata": {
    "height": 64,
    "tags": []
   },
   "outputs": [
    {
     "data": {
      "application/vnd.jupyter.widget-view+json": {
       "model_id": "7ed517a0ac9b4c69bb17869aeaabb775",
       "version_major": 2,
       "version_minor": 0
      },
      "text/plain": [
       "config.json:   0%|          | 0.00/799 [00:00<?, ?B/s]"
      ]
     },
     "metadata": {},
     "output_type": "display_data"
    },
    {
     "name": "stderr",
     "output_type": "stream",
     "text": [
      "c:\\Users\\Simon\\OneDrive\\UNI\\Semester 8\\RAG\\venv2\\lib\\site-packages\\huggingface_hub\\file_download.py:147: UserWarning: `huggingface_hub` cache-system uses symlinks by default to efficiently store duplicated files but your machine does not support them in C:\\Users\\Simon\\.cache\\huggingface\\hub. Caching files will still work but in a degraded version that might require more space on your disk. This warning can be disabled by setting the `HF_HUB_DISABLE_SYMLINKS_WARNING` environment variable. For more details, see https://huggingface.co/docs/huggingface_hub/how-to-cache#limitations.\n",
      "To support symlinks on Windows, you either need to activate Developer Mode or to run Python as an administrator. In order to see activate developer mode, see this article: https://docs.microsoft.com/en-us/windows/apps/get-started/enable-your-device-for-development\n",
      "  warnings.warn(message)\n"
     ]
    },
    {
     "data": {
      "application/vnd.jupyter.widget-view+json": {
       "model_id": "1c599dcf2fbd40b49a63f261b9bab526",
       "version_major": 2,
       "version_minor": 0
      },
      "text/plain": [
       "model.safetensors:   0%|          | 0.00/1.11G [00:00<?, ?B/s]"
      ]
     },
     "metadata": {},
     "output_type": "display_data"
    },
    {
     "data": {
      "application/vnd.jupyter.widget-view+json": {
       "model_id": "f41a715d42aa40eeab889dc163b631c4",
       "version_major": 2,
       "version_minor": 0
      },
      "text/plain": [
       "tokenizer_config.json:   0%|          | 0.00/443 [00:00<?, ?B/s]"
      ]
     },
     "metadata": {},
     "output_type": "display_data"
    },
    {
     "data": {
      "application/vnd.jupyter.widget-view+json": {
       "model_id": "14a7c060d5384d81907851a9747a24c6",
       "version_major": 2,
       "version_minor": 0
      },
      "text/plain": [
       "sentencepiece.bpe.model:   0%|          | 0.00/5.07M [00:00<?, ?B/s]"
      ]
     },
     "metadata": {},
     "output_type": "display_data"
    },
    {
     "data": {
      "application/vnd.jupyter.widget-view+json": {
       "model_id": "d4bb397168224665a2c1aa825e2647a0",
       "version_major": 2,
       "version_minor": 0
      },
      "text/plain": [
       "tokenizer.json:   0%|          | 0.00/17.1M [00:00<?, ?B/s]"
      ]
     },
     "metadata": {},
     "output_type": "display_data"
    },
    {
     "data": {
      "application/vnd.jupyter.widget-view+json": {
       "model_id": "c65a13e170024e4a950dc1cf6065eeed",
       "version_major": 2,
       "version_minor": 0
      },
      "text/plain": [
       "special_tokens_map.json:   0%|          | 0.00/279 [00:00<?, ?B/s]"
      ]
     },
     "metadata": {},
     "output_type": "display_data"
    }
   ],
   "source": [
    "from utils import get_sentence_window_query_engine\n",
    "\n",
    "sentence_window_engine = get_sentence_window_query_engine(sentence_index)"
   ]
  },
  {
   "cell_type": "code",
   "execution_count": 24,
   "id": "f59e2314-7cac-42f4-a552-9a8e4db641eb",
   "metadata": {
    "height": 81,
    "tags": []
   },
   "outputs": [
    {
     "name": "stdout",
     "output_type": "stream",
     "text": [
      "An organization should adopt internal policies and implement measures that meet the principles of data protection by design and data protection by default. This includes minimizing the processing of personal data, pseudonymizing personal data, ensuring transparency in data processing, enabling data subjects to monitor data processing, and creating and improving security features. Additionally, when developing applications, services, and products that involve processing personal data, organizations should consider data protection rights and ensure that controllers and processors can fulfill their data protection obligations. The principles of data protection by design and by default should also be considered in the context of public tenders.\n"
     ]
    }
   ],
   "source": [
    "window_response = sentence_window_engine.query(\n",
    "    \"How should an organization manage user authorizations to ensure data security under GDPR?\"\n",
    ")\n",
    "print(str(window_response))"
   ]
  },
  {
   "cell_type": "code",
   "execution_count": 25,
   "id": "b5c10917-8846-4e73-838d-6232c906a7db",
   "metadata": {
    "height": 115,
    "tags": []
   },
   "outputs": [],
   "source": [
    "tru.reset_database()\n",
    "\n",
    "tru_recorder_sentence_window = get_prebuilt_trulens_recorder(\n",
    "    sentence_window_engine,\n",
    "    app_id = \"Sentence Window Query Engine\"\n",
    ")"
   ]
  },
  {
   "cell_type": "code",
   "execution_count": 26,
   "id": "11710e67-aba8-479e-8585-c4c611e2c1d2",
   "metadata": {
    "height": 98,
    "tags": []
   },
   "outputs": [
    {
     "name": "stdout",
     "output_type": "stream",
     "text": [
      "What are the essential security measures for effective teleworking under GDPR?\n",
      "The essential security measures for effective teleworking under GDPR include implementing appropriate technological protection and organizational measures to promptly detect any personal data breaches, informing the supervisory authority and the data subject without undue delay in case of a breach likely to result in a high risk to the rights and freedoms of the individual, and communicating the nature of the breach along with recommendations to mitigate potential adverse effects to the data subject as soon as reasonably feasible.\n",
      "What organizational measures should be taken to ensure compliance with the GDPR in terms of data security?\n",
      "Organizational measures that should be taken to ensure compliance with the GDPR in terms of data security include adopting internal policies, implementing measures that align with data protection principles, such as data protection by design and by default, minimizing the processing of personal data, pseudonymizing personal data, ensuring transparency in data processing functions, enabling data subjects to monitor data processing, and creating and improving security features.\n",
      "What technical measures are essential for ensuring the security of personal data under GDPR?\n",
      "Appropriate technical measures essential for ensuring the security of personal data under GDPR include implementing data protection principles such as data minimization, pseudonymization, and ensuring that only necessary personal data for each specific purpose are processed. Additionally, measures should be in place to restrict access to personal data without the individual's intervention and to evaluate risks objectively to determine if data processing operations involve a risk or a high risk.\n",
      "What are the essential technical measures to secure equipment and workstations for protecting personal data?\n",
      "Essential technical measures to secure equipment and workstations for protecting personal data include implementing appropriate security features, enabling encryption where necessary, restricting access to authorized personnel only, regularly updating security protocols, and ensuring that only necessary personal data is processed on each workstation.\n",
      "How should an organization protect its premises to ensure the security of personal data?\n",
      "An organization should ensure appropriate security measures are in place to protect its premises, including preventing unauthorized access to or use of personal data and the equipment used for processing.\n",
      "How should an organization implement user authentication to protect personal data under GDPR requirements?\n",
      "An organization should implement user authentication measures that comply with GDPR requirements by ensuring that access to personal data is restricted to authorized individuals only. This can be achieved through the use of secure login credentials, such as passwords or biometric authentication, and implementing multi-factor authentication where appropriate. Additionally, organizations should regularly review and update their authentication processes to maintain the security of personal data in accordance with GDPR guidelines.\n",
      "How should an organization manage user authorizations to ensure data security under GDPR?\n",
      "An organization should adopt internal policies and implement measures that meet the principles of data protection by design and data protection by default. This includes minimizing the processing of personal data, pseudonymizing personal data, ensuring transparency in data processing, enabling data subjects to monitor data processing, and creating and improving security features. Additionally, when developing applications, services, and products that involve processing personal data, organizations should consider data protection rights and ensure that controllers and processors can fulfill their data protection obligations. The principles of data protection by design and by default should also be considered in the context of public tenders.\n",
      "What is pseudonymisation and how should it be implemented under GDPR?\n",
      "Pseudonymisation is a technique that can reduce risks to data subjects and help controllers and processors fulfill their data protection obligations. It allows for general analysis while ensuring that additional information needed to identify specific individuals is kept separately. To implement pseudonymisation under GDPR, the controller should take necessary technical and organizational measures to ensure compliance with the Regulation and keep the information that links the pseudonymized data to specific individuals separate. Additionally, authorized persons within the same controller should be indicated for handling the pseudonymised data.\n",
      "How does encryption and hash functions contribute to GDPR compliance?\n",
      "Encryption and hash functions contribute to GDPR compliance by providing appropriate technical measures to ensure the security and protection of personal data. Encryption helps in safeguarding data by converting it into a secure format that can only be accessed with the correct decryption key, thus protecting against unauthorized access or breaches. Hash functions play a role in GDPR compliance by securely storing passwords or sensitive data in a way that cannot be reversed to reveal the original information, enhancing data security and integrity. By utilizing encryption and hash functions, organizations can meet the GDPR requirement of ensuring appropriate security measures to protect personal data from unauthorized processing or accidental loss.\n",
      "What does data anonymisation involve under GDPR, and how is it distinguished from pseudonymisation?\n",
      "Data anonymisation under GDPR involves the processing of personal data in a way that the data can no longer be attributed to a specific data subject, even with additional information. This ensures that the data cannot be linked back to an identified or identifiable individual. On the other hand, pseudonymisation is a method where personal data is processed in a manner that it can no longer be directly attributed to a specific data subject without the use of additional information, but this additional information is kept separately and subject to technical and organizational measures to prevent re-identification.\n",
      "What are the essential security measures for effective teleworking under GDPR?\n",
      "The essential security measures for effective teleworking under GDPR include implementing appropriate technological protection and organizational measures to promptly detect any personal data breaches, informing the supervisory authority and the data subject without undue delay in case of a breach likely to result in a high risk to the rights and freedoms of the individual, and communicating the nature of the breach along with recommendations to mitigate potential adverse effects to the data subject as soon as reasonably feasible.\n"
     ]
    }
   ],
   "source": [
    "for question in eval_questions:\n",
    "    with tru_recorder_sentence_window as recording:\n",
    "        response = sentence_window_engine.query(question)\n",
    "        print(question)\n",
    "        print(str(response))"
   ]
  },
  {
   "cell_type": "code",
   "execution_count": 27,
   "id": "869d1e55-729b-45f2-a0f9-773c49d4616f",
   "metadata": {
    "height": 30,
    "tags": []
   },
   "outputs": [
    {
     "data": {
      "text/html": [
       "<div>\n",
       "<style scoped>\n",
       "    .dataframe tbody tr th:only-of-type {\n",
       "        vertical-align: middle;\n",
       "    }\n",
       "\n",
       "    .dataframe tbody tr th {\n",
       "        vertical-align: top;\n",
       "    }\n",
       "\n",
       "    .dataframe thead th {\n",
       "        text-align: right;\n",
       "    }\n",
       "</style>\n",
       "<table border=\"1\" class=\"dataframe\">\n",
       "  <thead>\n",
       "    <tr style=\"text-align: right;\">\n",
       "      <th></th>\n",
       "      <th>Answer Relevance</th>\n",
       "      <th>Context Relevance</th>\n",
       "      <th>Groundedness</th>\n",
       "      <th>latency</th>\n",
       "      <th>total_cost</th>\n",
       "    </tr>\n",
       "    <tr>\n",
       "      <th>app_id</th>\n",
       "      <th></th>\n",
       "      <th></th>\n",
       "      <th></th>\n",
       "      <th></th>\n",
       "      <th></th>\n",
       "    </tr>\n",
       "  </thead>\n",
       "  <tbody>\n",
       "    <tr>\n",
       "      <th>Sentence Window Query Engine</th>\n",
       "      <td>1.0</td>\n",
       "      <td>0.468182</td>\n",
       "      <td>0.701732</td>\n",
       "      <td>8.090909</td>\n",
       "      <td>0.001901</td>\n",
       "    </tr>\n",
       "  </tbody>\n",
       "</table>\n",
       "</div>"
      ],
      "text/plain": [
       "                              Answer Relevance  Context Relevance  \\\n",
       "app_id                                                              \n",
       "Sentence Window Query Engine               1.0           0.468182   \n",
       "\n",
       "                              Groundedness   latency  total_cost  \n",
       "app_id                                                            \n",
       "Sentence Window Query Engine      0.701732  8.090909    0.001901  "
      ]
     },
     "execution_count": 27,
     "metadata": {},
     "output_type": "execute_result"
    }
   ],
   "source": [
    "tru.get_leaderboard(app_ids=[])"
   ]
  },
  {
   "cell_type": "code",
   "execution_count": 28,
   "id": "0b92d0f2-2e80-48d5-92af-b3655eb03ea2",
   "metadata": {
    "height": 47,
    "tags": []
   },
   "outputs": [
    {
     "name": "stdout",
     "output_type": "stream",
     "text": [
      "Starting dashboard ...\n",
      "Config file already exists. Skipping writing process.\n",
      "Credentials file already exists. Skipping writing process.\n",
      "Dashboard already running at path:   Network URL: http://192.168.178.104:8501\n",
      "\n"
     ]
    },
    {
     "data": {
      "text/plain": [
       "<Popen: returncode: None args: ['streamlit', 'run', '--server.headless=True'...>"
      ]
     },
     "execution_count": 28,
     "metadata": {},
     "output_type": "execute_result"
    }
   ],
   "source": [
    "# launches on http://localhost:8501/\n",
    "tru.run_dashboard()"
   ]
  },
  {
   "cell_type": "markdown",
   "id": "a92e2c55",
   "metadata": {},
   "source": [
    "### 2. Auto-merging retrieval"
   ]
  },
  {
   "cell_type": "code",
   "execution_count": 29,
   "id": "558c639b-31eb-4c34-b6c4-fe6ae5717733",
   "metadata": {
    "height": 149,
    "tags": []
   },
   "outputs": [],
   "source": [
    "from utils import build_automerging_index\n",
    "\n",
    "automerging_index = build_automerging_index(\n",
    "    documents,\n",
    "    llm,\n",
    "    embed_model=\"local:BAAI/bge-small-en-v1.5\",\n",
    "    save_dir=\"merging_index\"\n",
    ")"
   ]
  },
  {
   "cell_type": "code",
   "execution_count": 30,
   "id": "b32265f2-0247-42df-9abe-97d52f69edcf",
   "metadata": {
    "height": 98,
    "tags": []
   },
   "outputs": [],
   "source": [
    "from utils import get_automerging_query_engine\n",
    "\n",
    "automerging_query_engine = get_automerging_query_engine(\n",
    "    automerging_index,\n",
    ")"
   ]
  },
  {
   "cell_type": "code",
   "execution_count": 31,
   "id": "918ed568-220e-4c7c-aa60-cfa58ef1fcbd",
   "metadata": {
    "height": 81,
    "tags": []
   },
   "outputs": [
    {
     "name": "stdout",
     "output_type": "stream",
     "text": [
      "An organization should adopt internal policies and implement measures that meet the principles of data protection by design and data protection by default in order to manage user authorizations and ensure data security under GDPR.\n"
     ]
    }
   ],
   "source": [
    "auto_merging_response = automerging_query_engine.query(\n",
    "    \"How should an organization manage user authorizations to ensure data security under GDPR?\"\n",
    ")\n",
    "print(str(auto_merging_response))"
   ]
  },
  {
   "cell_type": "code",
   "execution_count": 32,
   "id": "db4f18a9-7b8a-4ae2-ab11-3a6a941a5afc",
   "metadata": {
    "height": 81,
    "tags": []
   },
   "outputs": [],
   "source": [
    "tru.reset_database()\n",
    "\n",
    "tru_recorder_automerging = get_prebuilt_trulens_recorder(automerging_query_engine,\n",
    "                                                         app_id=\"Automerging Query Engine\")"
   ]
  },
  {
   "cell_type": "code",
   "execution_count": 33,
   "id": "99cc2cfe-7096-4fa0-aa72-094bebac35a3",
   "metadata": {
    "height": 98,
    "tags": []
   },
   "outputs": [
    {
     "name": "stdout",
     "output_type": "stream",
     "text": [
      "What are the essential security measures for effective teleworking under GDPR?\n",
      "The essential security measures for effective teleworking under GDPR include implementing technical and organizational measures to correct inaccuracies in personal data, minimize the risk of errors, and secure personal data in a way that considers potential risks to the interests and rights of data subjects. Additionally, measures should be in place to prevent discriminatory effects on individuals based on factors like racial or ethnic origin, political opinion, religion, or beliefs.\n",
      "What organizational measures should be taken to ensure compliance with the GDPR in terms of data security?\n",
      "Organizational measures such as adopting internal policies and implementing measures that adhere to the principles of data protection by design and data protection by default should be taken to ensure compliance with the GDPR in terms of data security. Additionally, safeguards should be in place to ensure technical and organizational measures that specifically focus on the principle of data minimization.\n",
      "What technical measures are essential for ensuring the security of personal data under GDPR?\n",
      "Appropriate technical and organizational measures are essential for ensuring the security of personal data under GDPR.\n",
      "What are the essential technical measures to secure equipment and workstations for protecting personal data?\n",
      "The essential technical measures to secure equipment and workstations for protecting personal data include ensuring an appropriate level of security, which encompasses confidentiality. These measures should consider the state of the art, the costs of implementation in relation to the risks involved, and the nature of the personal data being protected.\n",
      "How should an organization protect its premises to ensure the security of personal data?\n",
      "The organization should implement measures to address risks, including safeguards, security measures, and mechanisms to ensure the protection of personal data. These measures should demonstrate compliance with regulations while considering the rights and legitimate interests of data subjects and other individuals involved.\n",
      "How should an organization implement user authentication to protect personal data under GDPR requirements?\n",
      "An organization should implement user authentication by adopting appropriate technical and organizational measures, such as pseudonymisation, to ensure data protection principles like data minimization are effectively implemented. These measures should integrate necessary safeguards into the processing to meet GDPR requirements and protect the rights of data subjects. Additionally, internal policies should be established and measures implemented to adhere to data protection principles by design and by default in order to demonstrate compliance with the GDPR.\n",
      "How should an organization manage user authorizations to ensure data security under GDPR?\n",
      "An organization should adopt internal policies and implement measures that meet the principles of data protection by design and data protection by default in order to manage user authorizations and ensure data security under GDPR.\n",
      "What is pseudonymisation and how should it be implemented under GDPR?\n",
      "Pseudonymisation is a data protection technique that replaces or encrypts personally identifiable information with artificial identifiers, or pseudonyms. Under GDPR, pseudonymisation should allow for general analysis while ensuring that additional information needed to identify specific individuals is kept separately. Controllers must implement technical and organizational measures to ensure that GDPR requirements are met and that personal data can be attributed to specific data subjects separately.\n",
      "> Merging 3 nodes into parent node.\n",
      "> Parent node id: c27dc33b-40d4-4fa9-a55f-669acec3ceea.\n",
      "> Parent node text: (48)  Controllers that are part of a group of under takings or institutions affiliated to a centr...\n",
      "\n",
      "How does encryption and hash functions contribute to GDPR compliance?\n",
      "Encryption and hash functions contribute to GDPR compliance by ensuring that personal data is securely stored and transmitted. Encryption helps protect personal data from unauthorized access by converting it into a code that can only be accessed with the appropriate decryption key. Hash functions are used to securely store passwords and verify data integrity by generating unique hash values for each piece of data. By implementing encryption and hash functions, organizations can meet the GDPR requirement of securing personal data and minimizing the risk of unauthorized access or data breaches.\n",
      "What does data anonymisation involve under GDPR, and how is it distinguished from pseudonymisation?\n",
      "Data anonymisation involves the process of irreversibly transforming personal data in such a way that the individual to whom the data relates cannot be identified. This means that once data has been anonymised, it is no longer considered personal data under the GDPR. On the other hand, pseudonymisation is a data protection technique that involves replacing direct identifiers in a dataset with artificial identifiers or pseudonyms. Unlike anonymisation, pseudonymisation is a reversible process where the original data can still be re-identified with the use of additional information kept separately.\n",
      "What are the essential security measures for effective teleworking under GDPR?\n",
      "The essential security measures for effective teleworking under GDPR include implementing technical and organizational measures to correct inaccuracies in personal data, minimize the risk of errors, secure personal data considering potential risks for the interests and rights of data subjects, and prevent discriminatory effects on individuals based on racial or ethnic origin, political opinion, religion, or beliefs.\n"
     ]
    }
   ],
   "source": [
    "for question in eval_questions:\n",
    "    with tru_recorder_automerging as recording:\n",
    "        response = automerging_query_engine.query(question)\n",
    "        print(question)\n",
    "        print(response)"
   ]
  },
  {
   "cell_type": "code",
   "execution_count": 34,
   "id": "5404dec1-60ca-42fa-ac13-793a5423aa64",
   "metadata": {
    "height": 30,
    "tags": []
   },
   "outputs": [
    {
     "data": {
      "text/html": [
       "<div>\n",
       "<style scoped>\n",
       "    .dataframe tbody tr th:only-of-type {\n",
       "        vertical-align: middle;\n",
       "    }\n",
       "\n",
       "    .dataframe tbody tr th {\n",
       "        vertical-align: top;\n",
       "    }\n",
       "\n",
       "    .dataframe thead th {\n",
       "        text-align: right;\n",
       "    }\n",
       "</style>\n",
       "<table border=\"1\" class=\"dataframe\">\n",
       "  <thead>\n",
       "    <tr style=\"text-align: right;\">\n",
       "      <th></th>\n",
       "      <th>Answer Relevance</th>\n",
       "      <th>Context Relevance</th>\n",
       "      <th>Groundedness</th>\n",
       "      <th>latency</th>\n",
       "      <th>total_cost</th>\n",
       "    </tr>\n",
       "    <tr>\n",
       "      <th>app_id</th>\n",
       "      <th></th>\n",
       "      <th></th>\n",
       "      <th></th>\n",
       "      <th></th>\n",
       "      <th></th>\n",
       "    </tr>\n",
       "  </thead>\n",
       "  <tbody>\n",
       "    <tr>\n",
       "      <th>Automerging Query Engine</th>\n",
       "      <td>0.96</td>\n",
       "      <td>0.485</td>\n",
       "      <td>0.890741</td>\n",
       "      <td>5.272727</td>\n",
       "      <td>0.000631</td>\n",
       "    </tr>\n",
       "  </tbody>\n",
       "</table>\n",
       "</div>"
      ],
      "text/plain": [
       "                          Answer Relevance  Context Relevance  Groundedness  \\\n",
       "app_id                                                                        \n",
       "Automerging Query Engine              0.96              0.485      0.890741   \n",
       "\n",
       "                           latency  total_cost  \n",
       "app_id                                          \n",
       "Automerging Query Engine  5.272727    0.000631  "
      ]
     },
     "execution_count": 34,
     "metadata": {},
     "output_type": "execute_result"
    }
   ],
   "source": [
    "tru.get_leaderboard(app_ids=[])"
   ]
  },
  {
   "cell_type": "code",
   "execution_count": 35,
   "id": "0f545d41-0d98-446f-8214-8b59bef08d6c",
   "metadata": {
    "height": 47,
    "tags": []
   },
   "outputs": [
    {
     "name": "stdout",
     "output_type": "stream",
     "text": [
      "Starting dashboard ...\n",
      "Config file already exists. Skipping writing process.\n",
      "Credentials file already exists. Skipping writing process.\n",
      "Dashboard already running at path:   Network URL: http://192.168.178.104:8501\n",
      "\n"
     ]
    },
    {
     "data": {
      "text/plain": [
       "<Popen: returncode: None args: ['streamlit', 'run', '--server.headless=True'...>"
      ]
     },
     "execution_count": 35,
     "metadata": {},
     "output_type": "execute_result"
    }
   ],
   "source": [
    "# launches on http://localhost:8501/\n",
    "tru.run_dashboard()"
   ]
  },
  {
   "cell_type": "code",
   "execution_count": null,
   "id": "b4f43a49",
   "metadata": {},
   "outputs": [],
   "source": []
  }
 ],
 "metadata": {
  "kernelspec": {
   "display_name": "Python 3 (ipykernel)",
   "language": "python",
   "name": "python3"
  },
  "language_info": {
   "codemirror_mode": {
    "name": "ipython",
    "version": 3
   },
   "file_extension": ".py",
   "mimetype": "text/x-python",
   "name": "python",
   "nbconvert_exporter": "python",
   "pygments_lexer": "ipython3",
   "version": "3.10.14"
  }
 },
 "nbformat": 4,
 "nbformat_minor": 5
}
