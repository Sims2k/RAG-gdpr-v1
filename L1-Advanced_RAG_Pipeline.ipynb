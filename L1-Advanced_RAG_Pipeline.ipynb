{
 "cells": [
  {
   "cell_type": "markdown",
   "id": "a9bff53e",
   "metadata": {},
   "source": [
    "# Lesson 1: Advanced RAG Pipeline"
   ]
  },
  {
   "cell_type": "code",
   "execution_count": 1,
   "id": "feb98470-c136-471d-a63e-d50d8eb09c57",
   "metadata": {
    "height": 98,
    "tags": []
   },
   "outputs": [
    {
     "name": "stdout",
     "output_type": "stream",
     "text": [
      "✅ In Answer Relevance, input prompt will be set to __record__.main_input or `Select.RecordInput` .\n",
      "✅ In Answer Relevance, input response will be set to __record__.main_output or `Select.RecordOutput` .\n",
      "✅ In Context Relevance, input prompt will be set to __record__.main_input or `Select.RecordInput` .\n",
      "✅ In Context Relevance, input response will be set to __record__.app.query.rets.source_nodes[:].node.text .\n",
      "✅ In Groundedness, input source will be set to __record__.app.query.rets.source_nodes[:].node.text .\n",
      "✅ In Groundedness, input statement will be set to __record__.main_output or `Select.RecordOutput` .\n"
     ]
    }
   ],
   "source": [
    "import utils\n",
    "\n",
    "import os\n",
    "import openai\n",
    "openai.api_key = utils.get_openai_api_key()"
   ]
  },
  {
   "cell_type": "code",
   "execution_count": 8,
   "id": "31e2859b-596e-40b3-867b-f4d6e91f74bc",
   "metadata": {
    "height": 98,
    "tags": []
   },
   "outputs": [],
   "source": [
    "from llama_index import SimpleDirectoryReader\n",
    "\n",
    "documents = SimpleDirectoryReader(\n",
    "    input_files=[\"./CELEX_32016R0679_EN_TXT.pdf\"]\n",
    ").load_data()"
   ]
  },
  {
   "cell_type": "code",
   "execution_count": 9,
   "id": "2d7d0857-b9d1-4feb-8243-bfd2f4953acd",
   "metadata": {
    "height": 81,
    "tags": []
   },
   "outputs": [
    {
     "name": "stdout",
     "output_type": "stream",
     "text": [
      "<class 'list'> \n",
      "\n",
      "88 \n",
      "\n",
      "<class 'llama_index.schema.Document'>\n",
      "Doc ID: 5438ec01-0a2b-4b2d-9265-96e9a5162cbc\n",
      "Text: I  (Legislativ e acts)  REGUL ATIONS  REGUL ATION (EU) 2016/679\n",
      "OF THE EUR OPEAN PARLIAMENT AND OF THE COUNCIL  of 27 Apr il 2016  on\n",
      "the protection of natural persons with regard to the processing of\n",
      "personal data and on the free  movement of such data, and repealing\n",
      "Directiv e 95/46/EC (General Data Protection Regulation)  (Text with\n",
      "EEA relev...\n"
     ]
    }
   ],
   "source": [
    "print(type(documents), \"\\n\")\n",
    "print(len(documents), \"\\n\")\n",
    "print(type(documents[0]))\n",
    "print(documents[0])"
   ]
  },
  {
   "cell_type": "markdown",
   "id": "f3123d3d",
   "metadata": {},
   "source": [
    "## Basic RAG pipeline"
   ]
  },
  {
   "cell_type": "code",
   "execution_count": 10,
   "id": "b4abc806-64f5-46bb-8c9f-6469ecb18d20",
   "metadata": {
    "height": 64,
    "tags": []
   },
   "outputs": [],
   "source": [
    "from llama_index import Document\n",
    "\n",
    "document = Document(text=\"\\n\\n\".join([doc.text for doc in documents]))"
   ]
  },
  {
   "cell_type": "code",
   "execution_count": 11,
   "id": "afc2baff-5e8b-4733-9899-16f248777b23",
   "metadata": {
    "height": 183,
    "tags": []
   },
   "outputs": [],
   "source": [
    "from llama_index import VectorStoreIndex\n",
    "from llama_index import ServiceContext\n",
    "from llama_index.llms import OpenAI\n",
    "\n",
    "llm = OpenAI(model=\"gpt-3.5-turbo\", temperature=0.1)\n",
    "service_context = ServiceContext.from_defaults(\n",
    "    llm=llm, embed_model=\"local:BAAI/bge-small-en-v1.5\"\n",
    ")\n",
    "index = VectorStoreIndex.from_documents([document],\n",
    "                                        service_context=service_context)"
   ]
  },
  {
   "cell_type": "code",
   "execution_count": 12,
   "id": "ae52a26c-7d0c-44df-8043-4c7f19f794b9",
   "metadata": {
    "height": 30,
    "tags": []
   },
   "outputs": [],
   "source": [
    "query_engine = index.as_query_engine()"
   ]
  },
  {
   "cell_type": "code",
   "execution_count": 13,
   "id": "6b0d5b6e-cc2e-4648-b28c-5fa25a97d175",
   "metadata": {
    "height": 81,
    "tags": []
   },
   "outputs": [
    {
     "name": "stdout",
     "output_type": "stream",
     "text": [
      "An organization should manage user authorizations by implementing measures to mitigate risks inherent in the processing, such as encryption. These measures should ensure an appropriate level of security, including confidentiality, taking into account the state of the art and the costs of implementation in relation to the risks and the nature of the personal data being protected.\n"
     ]
    }
   ],
   "source": [
    "response = query_engine.query(\n",
    "    \"How should an organization manage user authorizations to ensure data security under GDPR?\"\n",
    ")\n",
    "print(str(response))"
   ]
  },
  {
   "cell_type": "markdown",
   "id": "e50a1ac5",
   "metadata": {},
   "source": [
    "## Evaluation setup using TruLens"
   ]
  },
  {
   "cell_type": "code",
   "execution_count": 14,
   "id": "0ead7dc1-71b2-4001-918f-bf8d610fd3fd",
   "metadata": {
    "height": 132,
    "tags": []
   },
   "outputs": [
    {
     "name": "stdout",
     "output_type": "stream",
     "text": [
      "What are the essential security measures for effective teleworking under GDPR?\n",
      "What organizational measures should be taken to ensure compliance with the GDPR in terms of data security?\n",
      "What technical measures are essential for ensuring the security of personal data under GDPR?\n",
      "What are the essential technical measures to secure equipment and workstations for protecting personal data?\n",
      "How should an organization protect its premises to ensure the security of personal data?\n",
      "How should an organization implement user authentication to protect personal data under GDPR requirements?\n",
      "How should an organization manage user authorizations to ensure data security under GDPR?\n",
      "What is pseudonymisation and how should it be implemented under GDPR?\n",
      "How does encryption and hash functions contribute to GDPR compliance?\n",
      "What does data anonymisation involve under GDPR, and how is it distinguished from pseudonymisation?\n"
     ]
    }
   ],
   "source": [
    "eval_questions = []\n",
    "with open('eval_questions.txt', 'r') as file:\n",
    "    for line in file:\n",
    "        # Remove newline character and convert to integer\n",
    "        item = line.strip()\n",
    "        print(item)\n",
    "        eval_questions.append(item)"
   ]
  },
  {
   "cell_type": "code",
   "execution_count": 15,
   "id": "87a278f8",
   "metadata": {
    "height": 64
   },
   "outputs": [],
   "source": [
    "# You can try your own question:\n",
    "new_question = \"What are the essential security measures for effective teleworking under GDPR?\"\n",
    "eval_questions.append(new_question)"
   ]
  },
  {
   "cell_type": "code",
   "execution_count": 16,
   "id": "8d5204e8",
   "metadata": {
    "height": 30
   },
   "outputs": [
    {
     "name": "stdout",
     "output_type": "stream",
     "text": [
      "['What are the essential security measures for effective teleworking under GDPR?', 'What organizational measures should be taken to ensure compliance with the GDPR in terms of data security?', 'What technical measures are essential for ensuring the security of personal data under GDPR?', 'What are the essential technical measures to secure equipment and workstations for protecting personal data?', 'How should an organization protect its premises to ensure the security of personal data?', 'How should an organization implement user authentication to protect personal data under GDPR requirements?', 'How should an organization manage user authorizations to ensure data security under GDPR?', 'What is pseudonymisation and how should it be implemented under GDPR?', 'How does encryption and hash functions contribute to GDPR compliance?', 'What does data anonymisation involve under GDPR, and how is it distinguished from pseudonymisation?', 'What are the essential security measures for effective teleworking under GDPR?']\n"
     ]
    }
   ],
   "source": [
    "print(eval_questions)"
   ]
  },
  {
   "cell_type": "code",
   "execution_count": 17,
   "id": "c063c9c7-bf1e-4b24-9a22-d4281c0f954e",
   "metadata": {
    "height": 81,
    "tags": []
   },
   "outputs": [
    {
     "name": "stdout",
     "output_type": "stream",
     "text": [
      "🦑 Tru initialized with db url sqlite:///default.sqlite .\n",
      "🛑 Secret keys may be written to the database. See the `database_redact_keys` option of `Tru` to prevent this.\n"
     ]
    }
   ],
   "source": [
    "from trulens_eval import Tru\n",
    "tru = Tru()\n",
    "\n",
    "tru.reset_database()"
   ]
  },
  {
   "cell_type": "markdown",
   "id": "03802825-6ce4-4563-aeec-d8d57e095ad1",
   "metadata": {},
   "source": [
    "For the classroom, we've written some of the code in helper functions inside a utils.py file.  \n",
    "- You can view the utils.py file in the file directory by clicking on the \"Jupyter\" logo at the top of the notebook.\n",
    "- In later lessons, you'll get to work directly with the code that's currently wrapped inside these helper functions, to give you more options to customize your RAG pipeline."
   ]
  },
  {
   "cell_type": "code",
   "execution_count": 18,
   "id": "4f754bed-d16f-4c8d-a1a1-b36096272570",
   "metadata": {
    "height": 81,
    "tags": []
   },
   "outputs": [],
   "source": [
    "from utils import get_prebuilt_trulens_recorder\n",
    "\n",
    "tru_recorder = get_prebuilt_trulens_recorder(query_engine,\n",
    "                                             app_id=\"Direct Query Engine\")"
   ]
  },
  {
   "cell_type": "code",
   "execution_count": 19,
   "id": "4dbdfbcc-aac7-4805-9894-4fc016c66bf6",
   "metadata": {
    "height": 64,
    "tags": []
   },
   "outputs": [],
   "source": [
    "with tru_recorder as recording:\n",
    "    for question in eval_questions:\n",
    "        response = query_engine.query(question)"
   ]
  },
  {
   "cell_type": "code",
   "execution_count": 20,
   "id": "e14f512b-601c-42d0-bfac-bf41d9c577e7",
   "metadata": {
    "height": 30,
    "tags": []
   },
   "outputs": [],
   "source": [
    "records, feedback = tru.get_records_and_feedback(app_ids=[])"
   ]
  },
  {
   "cell_type": "code",
   "execution_count": 21,
   "id": "2da4a602-0d56-4bf8-9fa6-03ef0b7e254b",
   "metadata": {
    "height": 30,
    "tags": []
   },
   "outputs": [
    {
     "data": {
      "text/html": [
       "<div>\n",
       "<style scoped>\n",
       "    .dataframe tbody tr th:only-of-type {\n",
       "        vertical-align: middle;\n",
       "    }\n",
       "\n",
       "    .dataframe tbody tr th {\n",
       "        vertical-align: top;\n",
       "    }\n",
       "\n",
       "    .dataframe thead th {\n",
       "        text-align: right;\n",
       "    }\n",
       "</style>\n",
       "<table border=\"1\" class=\"dataframe\">\n",
       "  <thead>\n",
       "    <tr style=\"text-align: right;\">\n",
       "      <th></th>\n",
       "      <th>app_id</th>\n",
       "      <th>app_json</th>\n",
       "      <th>type</th>\n",
       "      <th>record_id</th>\n",
       "      <th>input</th>\n",
       "      <th>output</th>\n",
       "      <th>tags</th>\n",
       "      <th>record_json</th>\n",
       "      <th>cost_json</th>\n",
       "      <th>perf_json</th>\n",
       "      <th>ts</th>\n",
       "      <th>Answer Relevance</th>\n",
       "      <th>Context Relevance</th>\n",
       "      <th>Groundedness</th>\n",
       "      <th>Answer Relevance_calls</th>\n",
       "      <th>Context Relevance_calls</th>\n",
       "      <th>Groundedness_calls</th>\n",
       "      <th>latency</th>\n",
       "      <th>total_tokens</th>\n",
       "      <th>total_cost</th>\n",
       "    </tr>\n",
       "  </thead>\n",
       "  <tbody>\n",
       "    <tr>\n",
       "      <th>0</th>\n",
       "      <td>Direct Query Engine</td>\n",
       "      <td>{\"app_id\": \"Direct Query Engine\", \"tags\": \"-\",...</td>\n",
       "      <td>RetrieverQueryEngine(llama_index.query_engine....</td>\n",
       "      <td>record_hash_afc5ad06d94e228038a6d5d9520f539b</td>\n",
       "      <td>\"What are the essential security measures for ...</td>\n",
       "      <td>\"The essential security measures for effective...</td>\n",
       "      <td>-</td>\n",
       "      <td>{\"record_id\": \"record_hash_afc5ad06d94e228038a...</td>\n",
       "      <td>{\"n_requests\": 1, \"n_successful_requests\": 1, ...</td>\n",
       "      <td>{\"start_time\": \"2024-06-03T05:49:33.851506\", \"...</td>\n",
       "      <td>2024-06-03T05:49:35.809208</td>\n",
       "      <td>1.0</td>\n",
       "      <td>0.0</td>\n",
       "      <td>0.30</td>\n",
       "      <td>[{'args': {'prompt': 'What are the essential s...</td>\n",
       "      <td>[{'args': {'prompt': 'What are the essential s...</td>\n",
       "      <td>[{'args': {'source': 'Where such \n",
       "notification...</td>\n",
       "      <td>1</td>\n",
       "      <td>2097</td>\n",
       "      <td>0.003175</td>\n",
       "    </tr>\n",
       "    <tr>\n",
       "      <th>1</th>\n",
       "      <td>Direct Query Engine</td>\n",
       "      <td>{\"app_id\": \"Direct Query Engine\", \"tags\": \"-\",...</td>\n",
       "      <td>RetrieverQueryEngine(llama_index.query_engine....</td>\n",
       "      <td>record_hash_1ac5b4e7f410235350056322a040516a</td>\n",
       "      <td>\"What organizational measures should be taken ...</td>\n",
       "      <td>\"Organizational measures such as evaluating ri...</td>\n",
       "      <td>-</td>\n",
       "      <td>{\"record_id\": \"record_hash_1ac5b4e7f4102353500...</td>\n",
       "      <td>{\"n_requests\": 1, \"n_successful_requests\": 1, ...</td>\n",
       "      <td>{\"start_time\": \"2024-06-03T05:49:35.973479\", \"...</td>\n",
       "      <td>2024-06-03T05:49:37.672573</td>\n",
       "      <td>1.0</td>\n",
       "      <td>1.0</td>\n",
       "      <td>0.35</td>\n",
       "      <td>[{'args': {'prompt': 'What organizational meas...</td>\n",
       "      <td>[{'args': {'prompt': 'What organizational meas...</td>\n",
       "      <td>[{'args': {'source': 'Those measures shall be ...</td>\n",
       "      <td>1</td>\n",
       "      <td>2182</td>\n",
       "      <td>0.003299</td>\n",
       "    </tr>\n",
       "    <tr>\n",
       "      <th>2</th>\n",
       "      <td>Direct Query Engine</td>\n",
       "      <td>{\"app_id\": \"Direct Query Engine\", \"tags\": \"-\",...</td>\n",
       "      <td>RetrieverQueryEngine(llama_index.query_engine....</td>\n",
       "      <td>record_hash_626f8c76d424f72ab2b046d647ed1d59</td>\n",
       "      <td>\"What technical measures are essential for ens...</td>\n",
       "      <td>\"Implementing appropriate technical and organi...</td>\n",
       "      <td>-</td>\n",
       "      <td>{\"record_id\": \"record_hash_626f8c76d424f72ab2b...</td>\n",
       "      <td>{\"n_requests\": 1, \"n_successful_requests\": 1, ...</td>\n",
       "      <td>{\"start_time\": \"2024-06-03T05:49:37.827962\", \"...</td>\n",
       "      <td>2024-06-03T05:49:40.235077</td>\n",
       "      <td>1.0</td>\n",
       "      <td>0.5</td>\n",
       "      <td>1.00</td>\n",
       "      <td>[{'args': {'prompt': 'What technical measures ...</td>\n",
       "      <td>[{'args': {'prompt': 'What technical measures ...</td>\n",
       "      <td>[{'args': {'source': 'Those restr ictions shou...</td>\n",
       "      <td>2</td>\n",
       "      <td>2213</td>\n",
       "      <td>0.003360</td>\n",
       "    </tr>\n",
       "    <tr>\n",
       "      <th>3</th>\n",
       "      <td>Direct Query Engine</td>\n",
       "      <td>{\"app_id\": \"Direct Query Engine\", \"tags\": \"-\",...</td>\n",
       "      <td>RetrieverQueryEngine(llama_index.query_engine....</td>\n",
       "      <td>record_hash_3da2d84da259874b0af4e134761ca82a</td>\n",
       "      <td>\"What are the essential technical measures to ...</td>\n",
       "      <td>\"The essential technical measures to secure eq...</td>\n",
       "      <td>-</td>\n",
       "      <td>{\"record_id\": \"record_hash_3da2d84da259874b0af...</td>\n",
       "      <td>{\"n_requests\": 1, \"n_successful_requests\": 1, ...</td>\n",
       "      <td>{\"start_time\": \"2024-06-03T05:49:40.393497\", \"...</td>\n",
       "      <td>2024-06-03T05:49:42.211371</td>\n",
       "      <td>1.0</td>\n",
       "      <td>0.6</td>\n",
       "      <td>1.00</td>\n",
       "      <td>[{'args': {'prompt': 'What are the essential t...</td>\n",
       "      <td>[{'args': {'prompt': 'What are the essential t...</td>\n",
       "      <td>[{'args': {'source': 'When developing, designi...</td>\n",
       "      <td>1</td>\n",
       "      <td>2198</td>\n",
       "      <td>0.003326</td>\n",
       "    </tr>\n",
       "    <tr>\n",
       "      <th>4</th>\n",
       "      <td>Direct Query Engine</td>\n",
       "      <td>{\"app_id\": \"Direct Query Engine\", \"tags\": \"-\",...</td>\n",
       "      <td>RetrieverQueryEngine(llama_index.query_engine....</td>\n",
       "      <td>record_hash_9eb80507a3d7eb5e0054d8718a81cd05</td>\n",
       "      <td>\"How should an organization protect its premis...</td>\n",
       "      <td>\"An organization should evaluate the risks inh...</td>\n",
       "      <td>-</td>\n",
       "      <td>{\"record_id\": \"record_hash_9eb80507a3d7eb5e005...</td>\n",
       "      <td>{\"n_requests\": 1, \"n_successful_requests\": 1, ...</td>\n",
       "      <td>{\"start_time\": \"2024-06-03T05:49:42.367805\", \"...</td>\n",
       "      <td>2024-06-03T05:49:44.618402</td>\n",
       "      <td>1.0</td>\n",
       "      <td>0.6</td>\n",
       "      <td>0.60</td>\n",
       "      <td>[{'args': {'prompt': 'How should an organizati...</td>\n",
       "      <td>[{'args': {'prompt': 'How should an organizati...</td>\n",
       "      <td>[{'args': {'source': 'The \n",
       "controller and proc...</td>\n",
       "      <td>2</td>\n",
       "      <td>2204</td>\n",
       "      <td>0.003340</td>\n",
       "    </tr>\n",
       "  </tbody>\n",
       "</table>\n",
       "</div>"
      ],
      "text/plain": [
       "                app_id                                           app_json  \\\n",
       "0  Direct Query Engine  {\"app_id\": \"Direct Query Engine\", \"tags\": \"-\",...   \n",
       "1  Direct Query Engine  {\"app_id\": \"Direct Query Engine\", \"tags\": \"-\",...   \n",
       "2  Direct Query Engine  {\"app_id\": \"Direct Query Engine\", \"tags\": \"-\",...   \n",
       "3  Direct Query Engine  {\"app_id\": \"Direct Query Engine\", \"tags\": \"-\",...   \n",
       "4  Direct Query Engine  {\"app_id\": \"Direct Query Engine\", \"tags\": \"-\",...   \n",
       "\n",
       "                                                type  \\\n",
       "0  RetrieverQueryEngine(llama_index.query_engine....   \n",
       "1  RetrieverQueryEngine(llama_index.query_engine....   \n",
       "2  RetrieverQueryEngine(llama_index.query_engine....   \n",
       "3  RetrieverQueryEngine(llama_index.query_engine....   \n",
       "4  RetrieverQueryEngine(llama_index.query_engine....   \n",
       "\n",
       "                                      record_id  \\\n",
       "0  record_hash_afc5ad06d94e228038a6d5d9520f539b   \n",
       "1  record_hash_1ac5b4e7f410235350056322a040516a   \n",
       "2  record_hash_626f8c76d424f72ab2b046d647ed1d59   \n",
       "3  record_hash_3da2d84da259874b0af4e134761ca82a   \n",
       "4  record_hash_9eb80507a3d7eb5e0054d8718a81cd05   \n",
       "\n",
       "                                               input  \\\n",
       "0  \"What are the essential security measures for ...   \n",
       "1  \"What organizational measures should be taken ...   \n",
       "2  \"What technical measures are essential for ens...   \n",
       "3  \"What are the essential technical measures to ...   \n",
       "4  \"How should an organization protect its premis...   \n",
       "\n",
       "                                              output tags  \\\n",
       "0  \"The essential security measures for effective...    -   \n",
       "1  \"Organizational measures such as evaluating ri...    -   \n",
       "2  \"Implementing appropriate technical and organi...    -   \n",
       "3  \"The essential technical measures to secure eq...    -   \n",
       "4  \"An organization should evaluate the risks inh...    -   \n",
       "\n",
       "                                         record_json  \\\n",
       "0  {\"record_id\": \"record_hash_afc5ad06d94e228038a...   \n",
       "1  {\"record_id\": \"record_hash_1ac5b4e7f4102353500...   \n",
       "2  {\"record_id\": \"record_hash_626f8c76d424f72ab2b...   \n",
       "3  {\"record_id\": \"record_hash_3da2d84da259874b0af...   \n",
       "4  {\"record_id\": \"record_hash_9eb80507a3d7eb5e005...   \n",
       "\n",
       "                                           cost_json  \\\n",
       "0  {\"n_requests\": 1, \"n_successful_requests\": 1, ...   \n",
       "1  {\"n_requests\": 1, \"n_successful_requests\": 1, ...   \n",
       "2  {\"n_requests\": 1, \"n_successful_requests\": 1, ...   \n",
       "3  {\"n_requests\": 1, \"n_successful_requests\": 1, ...   \n",
       "4  {\"n_requests\": 1, \"n_successful_requests\": 1, ...   \n",
       "\n",
       "                                           perf_json  \\\n",
       "0  {\"start_time\": \"2024-06-03T05:49:33.851506\", \"...   \n",
       "1  {\"start_time\": \"2024-06-03T05:49:35.973479\", \"...   \n",
       "2  {\"start_time\": \"2024-06-03T05:49:37.827962\", \"...   \n",
       "3  {\"start_time\": \"2024-06-03T05:49:40.393497\", \"...   \n",
       "4  {\"start_time\": \"2024-06-03T05:49:42.367805\", \"...   \n",
       "\n",
       "                           ts  Answer Relevance  Context Relevance  \\\n",
       "0  2024-06-03T05:49:35.809208               1.0                0.0   \n",
       "1  2024-06-03T05:49:37.672573               1.0                1.0   \n",
       "2  2024-06-03T05:49:40.235077               1.0                0.5   \n",
       "3  2024-06-03T05:49:42.211371               1.0                0.6   \n",
       "4  2024-06-03T05:49:44.618402               1.0                0.6   \n",
       "\n",
       "   Groundedness                             Answer Relevance_calls  \\\n",
       "0          0.30  [{'args': {'prompt': 'What are the essential s...   \n",
       "1          0.35  [{'args': {'prompt': 'What organizational meas...   \n",
       "2          1.00  [{'args': {'prompt': 'What technical measures ...   \n",
       "3          1.00  [{'args': {'prompt': 'What are the essential t...   \n",
       "4          0.60  [{'args': {'prompt': 'How should an organizati...   \n",
       "\n",
       "                             Context Relevance_calls  \\\n",
       "0  [{'args': {'prompt': 'What are the essential s...   \n",
       "1  [{'args': {'prompt': 'What organizational meas...   \n",
       "2  [{'args': {'prompt': 'What technical measures ...   \n",
       "3  [{'args': {'prompt': 'What are the essential t...   \n",
       "4  [{'args': {'prompt': 'How should an organizati...   \n",
       "\n",
       "                                  Groundedness_calls  latency  total_tokens  \\\n",
       "0  [{'args': {'source': 'Where such \n",
       "notification...        1          2097   \n",
       "1  [{'args': {'source': 'Those measures shall be ...        1          2182   \n",
       "2  [{'args': {'source': 'Those restr ictions shou...        2          2213   \n",
       "3  [{'args': {'source': 'When developing, designi...        1          2198   \n",
       "4  [{'args': {'source': 'The \n",
       "controller and proc...        2          2204   \n",
       "\n",
       "   total_cost  \n",
       "0    0.003175  \n",
       "1    0.003299  \n",
       "2    0.003360  \n",
       "3    0.003326  \n",
       "4    0.003340  "
      ]
     },
     "execution_count": 21,
     "metadata": {},
     "output_type": "execute_result"
    }
   ],
   "source": [
    "records.head()"
   ]
  },
  {
   "cell_type": "code",
   "execution_count": 22,
   "id": "64310897-179b-4081-aab8-f08a3392a078",
   "metadata": {
    "height": 47,
    "tags": []
   },
   "outputs": [
    {
     "name": "stdout",
     "output_type": "stream",
     "text": [
      "Starting dashboard ...\n",
      "Config file already exists. Skipping writing process.\n",
      "Credentials file already exists. Skipping writing process.\n"
     ]
    },
    {
     "data": {
      "application/vnd.jupyter.widget-view+json": {
       "model_id": "7f562b808ee14ab3b50b19becbfe54d4",
       "version_major": 2,
       "version_minor": 0
      },
      "text/plain": [
       "Accordion(children=(VBox(children=(VBox(children=(Label(value='STDOUT'), Output())), VBox(children=(Label(valu…"
      ]
     },
     "metadata": {},
     "output_type": "display_data"
    },
    {
     "name": "stdout",
     "output_type": "stream",
     "text": [
      "Dashboard started at https://s172-31-15-23p44922.lab-aws-production.deeplearning.ai/ .\n"
     ]
    },
    {
     "data": {
      "text/plain": [
       "<Popen: returncode: None args: ['streamlit', 'run', '--server.headless=True'...>"
      ]
     },
     "execution_count": 22,
     "metadata": {},
     "output_type": "execute_result"
    }
   ],
   "source": [
    "# launches on http://localhost:8501/\n",
    "tru.run_dashboard()"
   ]
  },
  {
   "cell_type": "markdown",
   "id": "a4eedcef",
   "metadata": {},
   "source": [
    "## Advanced RAG pipeline"
   ]
  },
  {
   "cell_type": "markdown",
   "id": "9a17ea2b",
   "metadata": {},
   "source": [
    "### 1. Sentence Window retrieval"
   ]
  },
  {
   "cell_type": "code",
   "execution_count": 23,
   "id": "dae4a668-3699-4750-82f7-e53ae1bca3a7",
   "metadata": {
    "height": 64,
    "tags": []
   },
   "outputs": [],
   "source": [
    "from llama_index.llms import OpenAI\n",
    "\n",
    "llm = OpenAI(model=\"gpt-3.5-turbo\", temperature=0.1)"
   ]
  },
  {
   "cell_type": "code",
   "execution_count": 27,
   "id": "78f7678f-358d-448d-b153-11ac8e96a7fc",
   "metadata": {
    "height": 149,
    "tags": []
   },
   "outputs": [],
   "source": [
    "from utils import build_sentence_window_index\n",
    "\n",
    "sentence_index = build_sentence_window_index(\n",
    "    document,\n",
    "    llm,\n",
    "    embed_model=\"local:BAAI/bge-small-en-v1.5\",\n",
    "    save_dir=\"sentence_index\"\n",
    ")"
   ]
  },
  {
   "cell_type": "code",
   "execution_count": 25,
   "id": "72f904c3-9845-4df5-9d2e-e5115160f987",
   "metadata": {
    "height": 64,
    "tags": []
   },
   "outputs": [
    {
     "data": {
      "application/vnd.jupyter.widget-view+json": {
       "model_id": "0551713ca81c41e2b4fe0393f54395d9",
       "version_major": 2,
       "version_minor": 0
      },
      "text/plain": [
       "config.json:   0%|          | 0.00/799 [00:00<?, ?B/s]"
      ]
     },
     "metadata": {},
     "output_type": "display_data"
    },
    {
     "data": {
      "application/vnd.jupyter.widget-view+json": {
       "model_id": "5c97affe5d994426bcdb65bf995797d1",
       "version_major": 2,
       "version_minor": 0
      },
      "text/plain": [
       "model.safetensors:   0%|          | 0.00/1.11G [00:00<?, ?B/s]"
      ]
     },
     "metadata": {},
     "output_type": "display_data"
    },
    {
     "data": {
      "application/vnd.jupyter.widget-view+json": {
       "model_id": "7876fc2aab1048c1a78da0d2eaed0d4c",
       "version_major": 2,
       "version_minor": 0
      },
      "text/plain": [
       "tokenizer_config.json:   0%|          | 0.00/443 [00:00<?, ?B/s]"
      ]
     },
     "metadata": {},
     "output_type": "display_data"
    },
    {
     "data": {
      "application/vnd.jupyter.widget-view+json": {
       "model_id": "9014ac6757d94806a8c273d3786674a2",
       "version_major": 2,
       "version_minor": 0
      },
      "text/plain": [
       "sentencepiece.bpe.model:   0%|          | 0.00/5.07M [00:00<?, ?B/s]"
      ]
     },
     "metadata": {},
     "output_type": "display_data"
    },
    {
     "data": {
      "application/vnd.jupyter.widget-view+json": {
       "model_id": "34090eddf0764d13ba87a84f3932aaf2",
       "version_major": 2,
       "version_minor": 0
      },
      "text/plain": [
       "tokenizer.json:   0%|          | 0.00/17.1M [00:00<?, ?B/s]"
      ]
     },
     "metadata": {},
     "output_type": "display_data"
    },
    {
     "data": {
      "application/vnd.jupyter.widget-view+json": {
       "model_id": "d346ca1e34b84237aae4a92e5a527b50",
       "version_major": 2,
       "version_minor": 0
      },
      "text/plain": [
       "special_tokens_map.json:   0%|          | 0.00/279 [00:00<?, ?B/s]"
      ]
     },
     "metadata": {},
     "output_type": "display_data"
    }
   ],
   "source": [
    "from utils import get_sentence_window_query_engine\n",
    "\n",
    "sentence_window_engine = get_sentence_window_query_engine(sentence_index)"
   ]
  },
  {
   "cell_type": "code",
   "execution_count": 26,
   "id": "f59e2314-7cac-42f4-a552-9a8e4db641eb",
   "metadata": {
    "height": 81,
    "tags": []
   },
   "outputs": [
    {
     "name": "stdout",
     "output_type": "stream",
     "text": [
      "An organization should adopt internal policies and implement measures that meet the principles of data protection by design and data protection by default. This includes minimizing the processing of personal data, pseudonymizing personal data as soon as possible, ensuring transparency in data processing functions, enabling data subjects to monitor data processing, and creating and improving security features. Additionally, when developing applications, services, and products that involve processing personal data, organizations should consider data protection rights and ensure that controllers and processors can fulfill their data protection obligations. The principles of data protection by design and by default should also be considered in the context of public tenders.\n"
     ]
    }
   ],
   "source": [
    "window_response = sentence_window_engine.query(\n",
    "    \"How should an organization manage user authorizations to ensure data security under GDPR?\"\n",
    ")\n",
    "print(str(window_response))"
   ]
  },
  {
   "cell_type": "code",
   "execution_count": 28,
   "id": "b5c10917-8846-4e73-838d-6232c906a7db",
   "metadata": {
    "height": 115,
    "tags": []
   },
   "outputs": [],
   "source": [
    "tru.reset_database()\n",
    "\n",
    "tru_recorder_sentence_window = get_prebuilt_trulens_recorder(\n",
    "    sentence_window_engine,\n",
    "    app_id = \"Sentence Window Query Engine\"\n",
    ")"
   ]
  },
  {
   "cell_type": "code",
   "execution_count": 29,
   "id": "11710e67-aba8-479e-8585-c4c611e2c1d2",
   "metadata": {
    "height": 98,
    "tags": []
   },
   "outputs": [
    {
     "name": "stdout",
     "output_type": "stream",
     "text": [
      "What are the essential security measures for effective teleworking under GDPR?\n",
      "The essential security measures for effective teleworking under GDPR include implementing appropriate technological protection and organizational measures to promptly detect any personal data breaches, informing the supervisory authority and the data subject without undue delay in case of a breach likely to result in a high risk to the rights and freedoms of the individual, and communicating the nature of the breach along with recommendations to mitigate potential adverse effects to the data subject as soon as reasonably feasible.\n",
      "What organizational measures should be taken to ensure compliance with the GDPR in terms of data security?\n",
      "Organizational measures that should be taken to ensure compliance with the GDPR in terms of data security include adopting internal policies, implementing measures that align with the principles of data protection by design and data protection by default, minimizing the processing of personal data, pseudonymizing personal data at the earliest opportunity, ensuring transparency regarding the functions and processing of personal data, enabling data subjects to monitor data processing, and creating and improving security features.\n",
      "What technical measures are essential for ensuring the security of personal data under GDPR?\n",
      "Appropriate technical measures essential for ensuring the security of personal data under GDPR include implementing data protection principles such as data minimization, pseudonymization, and ensuring that only necessary personal data for each specific purpose are processed. Additionally, measures should be in place to restrict access to personal data without the individual's intervention and to evaluate risks objectively to determine if data processing operations involve a risk or a high risk.\n",
      "What are the essential technical measures to secure equipment and workstations for protecting personal data?\n",
      "Essential technical measures to secure equipment and workstations for protecting personal data include implementing appropriate security features, enabling encryption where necessary, restricting access to authorized personnel only, regularly updating software and systems, utilizing strong authentication methods, monitoring and logging access to personal data, and ensuring secure data transmission and storage protocols are in place.\n",
      "How should an organization protect its premises to ensure the security of personal data?\n",
      "An organization should ensure appropriate security measures are in place to protect its premises, including preventing unauthorized access to or use of personal data and the equipment used for processing.\n",
      "How should an organization implement user authentication to protect personal data under GDPR requirements?\n",
      "An organization should implement user authentication measures to protect personal data under GDPR requirements by ensuring that access to personal data is restricted to authorized individuals only. This can be achieved through the use of secure login credentials, such as passwords, biometric data, or two-factor authentication. By verifying the identity of users before granting access to personal data, the organization can help prevent unauthorized access and protect the confidentiality and integrity of the data in compliance with GDPR regulations.\n",
      "How should an organization manage user authorizations to ensure data security under GDPR?\n",
      "An organization should adopt internal policies and implement measures that meet the principles of data protection by design and data protection by default. This includes minimizing the processing of personal data, pseudonymizing personal data, ensuring transparency in data processing, enabling data subjects to monitor data processing, and creating and improving security features. Additionally, when developing applications, services, and products that involve personal data processing, organizations should consider data protection rights and ensure that controllers and processors can fulfill their data protection obligations. The principles of data protection by design and by default should also be considered in the context of public tenders.\n",
      "What is pseudonymisation and how should it be implemented under GDPR?\n",
      "Pseudonymisation is a technique that can reduce risks to data subjects and help controllers and processors fulfill their data protection obligations. It allows for general analysis while ensuring that additional information needed to identify specific individuals is kept separately. To implement pseudonymisation under GDPR, controllers must take necessary technical and organizational measures to ensure compliance with the Regulation and keep the information that links the pseudonymized data to individuals separate. Additionally, authorized persons within the same controller should be indicated for handling the pseudonymised data.\n",
      "How does encryption and hash functions contribute to GDPR compliance?\n",
      "Encryption and hash functions contribute to GDPR compliance by ensuring appropriate security of personal data. Encryption helps protect data by converting it into a code that can only be accessed with a decryption key, safeguarding against unauthorized access or breaches. Hash functions play a role in GDPR compliance by securely storing passwords or sensitive data in a way that cannot be reversed to reveal the original information, enhancing data security and integrity. By utilizing encryption and hash functions, organizations can meet the GDPR requirement of processing personal data in a manner that ensures appropriate security and protection against unlawful processing or data breaches.\n",
      "What does data anonymisation involve under GDPR, and how is it distinguished from pseudonymisation?\n",
      "Data anonymisation involves the process of removing all identifiable information from data sets, making it impossible to link the data back to an individual. This ensures that the data cannot be used to identify a specific person. On the other hand, pseudonymisation involves replacing identifiable information within a data set with artificial identifiers, allowing the data to be linked back to an individual using additional information kept separately. This method still allows for some level of identification but provides added security and privacy measures compared to raw data.\n",
      "What are the essential security measures for effective teleworking under GDPR?\n",
      "The essential security measures for effective teleworking under GDPR include implementing appropriate technological protection and organizational measures to promptly detect any personal data breaches, informing the supervisory authority and the data subject without undue delay in case of a breach, and communicating with data subjects in a timely manner to mitigate potential adverse effects.\n"
     ]
    }
   ],
   "source": [
    "for question in eval_questions:\n",
    "    with tru_recorder_sentence_window as recording:\n",
    "        response = sentence_window_engine.query(question)\n",
    "        print(question)\n",
    "        print(str(response))"
   ]
  },
  {
   "cell_type": "code",
   "execution_count": 30,
   "id": "869d1e55-729b-45f2-a0f9-773c49d4616f",
   "metadata": {
    "height": 30,
    "tags": []
   },
   "outputs": [
    {
     "data": {
      "text/html": [
       "<div>\n",
       "<style scoped>\n",
       "    .dataframe tbody tr th:only-of-type {\n",
       "        vertical-align: middle;\n",
       "    }\n",
       "\n",
       "    .dataframe tbody tr th {\n",
       "        vertical-align: top;\n",
       "    }\n",
       "\n",
       "    .dataframe thead th {\n",
       "        text-align: right;\n",
       "    }\n",
       "</style>\n",
       "<table border=\"1\" class=\"dataframe\">\n",
       "  <thead>\n",
       "    <tr style=\"text-align: right;\">\n",
       "      <th></th>\n",
       "      <th>Context Relevance</th>\n",
       "      <th>Answer Relevance</th>\n",
       "      <th>Groundedness</th>\n",
       "      <th>latency</th>\n",
       "      <th>total_cost</th>\n",
       "    </tr>\n",
       "    <tr>\n",
       "      <th>app_id</th>\n",
       "      <th></th>\n",
       "      <th></th>\n",
       "      <th></th>\n",
       "      <th></th>\n",
       "      <th></th>\n",
       "    </tr>\n",
       "  </thead>\n",
       "  <tbody>\n",
       "    <tr>\n",
       "      <th>Sentence Window Query Engine</th>\n",
       "      <td>0.422727</td>\n",
       "      <td>1.0</td>\n",
       "      <td>0.834217</td>\n",
       "      <td>7.181818</td>\n",
       "      <td>0.001898</td>\n",
       "    </tr>\n",
       "  </tbody>\n",
       "</table>\n",
       "</div>"
      ],
      "text/plain": [
       "                              Context Relevance  Answer Relevance  \\\n",
       "app_id                                                              \n",
       "Sentence Window Query Engine           0.422727               1.0   \n",
       "\n",
       "                              Groundedness   latency  total_cost  \n",
       "app_id                                                            \n",
       "Sentence Window Query Engine      0.834217  7.181818    0.001898  "
      ]
     },
     "execution_count": 30,
     "metadata": {},
     "output_type": "execute_result"
    }
   ],
   "source": [
    "tru.get_leaderboard(app_ids=[])"
   ]
  },
  {
   "cell_type": "code",
   "execution_count": 31,
   "id": "0b92d0f2-2e80-48d5-92af-b3655eb03ea2",
   "metadata": {
    "height": 47,
    "tags": []
   },
   "outputs": [
    {
     "name": "stdout",
     "output_type": "stream",
     "text": [
      "Starting dashboard ...\n",
      "Config file already exists. Skipping writing process.\n",
      "Credentials file already exists. Skipping writing process.\n",
      "Dashboard already running at path: https://s172-31-15-23p44922.lab-aws-production.deeplearning.ai/\n"
     ]
    },
    {
     "data": {
      "text/plain": [
       "<Popen: returncode: None args: ['streamlit', 'run', '--server.headless=True'...>"
      ]
     },
     "execution_count": 31,
     "metadata": {},
     "output_type": "execute_result"
    }
   ],
   "source": [
    "# launches on http://localhost:8501/\n",
    "tru.run_dashboard()"
   ]
  },
  {
   "cell_type": "markdown",
   "id": "a92e2c55",
   "metadata": {},
   "source": [
    "### 2. Auto-merging retrieval"
   ]
  },
  {
   "cell_type": "code",
   "execution_count": 32,
   "id": "558c639b-31eb-4c34-b6c4-fe6ae5717733",
   "metadata": {
    "height": 149,
    "tags": []
   },
   "outputs": [],
   "source": [
    "from utils import build_automerging_index\n",
    "\n",
    "automerging_index = build_automerging_index(\n",
    "    documents,\n",
    "    llm,\n",
    "    embed_model=\"local:BAAI/bge-small-en-v1.5\",\n",
    "    save_dir=\"merging_index\"\n",
    ")"
   ]
  },
  {
   "cell_type": "code",
   "execution_count": 33,
   "id": "b32265f2-0247-42df-9abe-97d52f69edcf",
   "metadata": {
    "height": 98,
    "tags": []
   },
   "outputs": [],
   "source": [
    "from utils import get_automerging_query_engine\n",
    "\n",
    "automerging_query_engine = get_automerging_query_engine(\n",
    "    automerging_index,\n",
    ")"
   ]
  },
  {
   "cell_type": "code",
   "execution_count": 34,
   "id": "918ed568-220e-4c7c-aa60-cfa58ef1fcbd",
   "metadata": {
    "height": 81,
    "tags": []
   },
   "outputs": [
    {
     "name": "stdout",
     "output_type": "stream",
     "text": [
      "An organization should adopt internal policies and implement measures that meet the principles of data protection by design and data protection by default in order to manage user authorizations and ensure data security under GDPR.\n"
     ]
    }
   ],
   "source": [
    "auto_merging_response = automerging_query_engine.query(\n",
    "    \"How should an organization manage user authorizations to ensure data security under GDPR?\"\n",
    ")\n",
    "print(str(auto_merging_response))"
   ]
  },
  {
   "cell_type": "code",
   "execution_count": 35,
   "id": "db4f18a9-7b8a-4ae2-ab11-3a6a941a5afc",
   "metadata": {
    "height": 81,
    "tags": []
   },
   "outputs": [],
   "source": [
    "tru.reset_database()\n",
    "\n",
    "tru_recorder_automerging = get_prebuilt_trulens_recorder(automerging_query_engine,\n",
    "                                                         app_id=\"Automerging Query Engine\")"
   ]
  },
  {
   "cell_type": "code",
   "execution_count": 36,
   "id": "99cc2cfe-7096-4fa0-aa72-094bebac35a3",
   "metadata": {
    "height": 98,
    "tags": []
   },
   "outputs": [
    {
     "name": "stdout",
     "output_type": "stream",
     "text": [
      "What are the essential security measures for effective teleworking under GDPR?\n",
      "The essential security measures for effective teleworking under GDPR include implementing technical and organizational measures to correct inaccuracies in personal data, minimize the risk of errors, secure personal data considering potential risks for the interests and rights of the data subject, and prevent discriminatory effects on individuals based on racial or ethnic origin, political opinion, religion, or beliefs.\n",
      "What organizational measures should be taken to ensure compliance with the GDPR in terms of data security?\n",
      "Organizational measures such as adopting internal policies and implementing measures that meet the principles of data protection by design and data protection by default should be taken to ensure compliance with the GDPR in terms of data security. Additionally, safeguards should be in place to ensure technical and organizational measures that support the principle of data minimization.\n",
      "What technical measures are essential for ensuring the security of personal data under GDPR?\n",
      "Appropriate technical and organizational measures are essential for ensuring the security of personal data under GDPR.\n",
      "What are the essential technical measures to secure equipment and workstations for protecting personal data?\n",
      "The essential technical measures to secure equipment and workstations for protecting personal data include implementing appropriate levels of security, ensuring confidentiality, considering the state of the art, evaluating the costs of implementation in relation to the risks involved, and taking into account the nature of the personal data being protected.\n",
      "How should an organization protect its premises to ensure the security of personal data?\n",
      "The organization should implement measures to address risks, including safeguards, security measures, and mechanisms to ensure the protection of personal data. These measures should also demonstrate compliance with relevant regulations, taking into account the rights and legitimate interests of data subjects and other individuals concerned.\n",
      "How should an organization implement user authentication to protect personal data under GDPR requirements?\n",
      "An organization should implement user authentication by adopting appropriate technical and organizational measures that are designed to ensure data protection principles are effectively implemented. This includes integrating necessary safeguards into the processing of personal data to meet the requirements of the GDPR and protect the rights of data subjects.\n",
      "How should an organization manage user authorizations to ensure data security under GDPR?\n",
      "An organization should adopt internal policies and implement measures that meet the principles of data protection by design and data protection by default in order to manage user authorizations and ensure data security under GDPR.\n",
      "What is pseudonymisation and how should it be implemented under GDPR?\n",
      "Pseudonymisation is a method that allows for the processing of personal data in a way that the data can no longer be attributed to a specific data subject without the use of additional information. Under GDPR, pseudonymisation should be implemented by ensuring that measures are in place to separate the additional information needed to attribute the personal data to a specific data subject from the rest of the processed data. This separation should be maintained by technical and organizational measures to ensure compliance with the Regulation.\n",
      "> Merging 3 nodes into parent node.\n",
      "> Parent node id: 4e64b853-7364-4a0b-b1d8-9aa9cd6180f0.\n",
      "> Parent node text: (48)  Controllers that are part of a group of under takings or institutions affiliated to a centr...\n",
      "\n",
      "How does encryption and hash functions contribute to GDPR compliance?\n",
      "Encryption and hash functions contribute to GDPR compliance by ensuring that personal data is securely stored and transmitted. Encryption helps protect the confidentiality and integrity of personal data by encoding it in a way that only authorized parties can access it. Hash functions play a role in GDPR compliance by securely storing passwords and verifying data integrity through the generation of unique hash values. These measures help organizations meet the GDPR requirement of implementing technical and organizational measures to secure personal data and minimize the risk of unauthorized access or data breaches.\n",
      "What does data anonymisation involve under GDPR, and how is it distinguished from pseudonymisation?\n",
      "Data anonymisation involves the irreversible transformation of personal data in such a way that the individual to whom the data relates cannot be identified. This means that once data has been anonymised, it is no longer considered personal data under the GDPR. On the other hand, pseudonymisation is a data protection technique that involves replacing direct identifiers in a dataset with artificial identifiers or pseudonyms. Unlike anonymisation, pseudonymisation is a reversible process where the original data can still be re-identified with the use of additional information kept separately.\n",
      "What are the essential security measures for effective teleworking under GDPR?\n",
      "The essential security measures for effective teleworking under GDPR include implementing technical and organizational measures to ensure the correction of inaccuracies in personal data, minimizing the risk of errors, securing personal data considering potential risks for the interests and rights of data subjects, and preventing discriminatory effects on individuals based on racial or ethnic origin, political opinion, religion, or beliefs.\n"
     ]
    }
   ],
   "source": [
    "for question in eval_questions:\n",
    "    with tru_recorder_automerging as recording:\n",
    "        response = automerging_query_engine.query(question)\n",
    "        print(question)\n",
    "        print(response)"
   ]
  },
  {
   "cell_type": "code",
   "execution_count": 37,
   "id": "5404dec1-60ca-42fa-ac13-793a5423aa64",
   "metadata": {
    "height": 30,
    "tags": []
   },
   "outputs": [
    {
     "data": {
      "text/html": [
       "<div>\n",
       "<style scoped>\n",
       "    .dataframe tbody tr th:only-of-type {\n",
       "        vertical-align: middle;\n",
       "    }\n",
       "\n",
       "    .dataframe tbody tr th {\n",
       "        vertical-align: top;\n",
       "    }\n",
       "\n",
       "    .dataframe thead th {\n",
       "        text-align: right;\n",
       "    }\n",
       "</style>\n",
       "<table border=\"1\" class=\"dataframe\">\n",
       "  <thead>\n",
       "    <tr style=\"text-align: right;\">\n",
       "      <th></th>\n",
       "      <th>Context Relevance</th>\n",
       "      <th>Answer Relevance</th>\n",
       "      <th>Groundedness</th>\n",
       "      <th>latency</th>\n",
       "      <th>total_cost</th>\n",
       "    </tr>\n",
       "    <tr>\n",
       "      <th>app_id</th>\n",
       "      <th></th>\n",
       "      <th></th>\n",
       "      <th></th>\n",
       "      <th></th>\n",
       "      <th></th>\n",
       "    </tr>\n",
       "  </thead>\n",
       "  <tbody>\n",
       "    <tr>\n",
       "      <th>Automerging Query Engine</th>\n",
       "      <td>0.413636</td>\n",
       "      <td>0.981818</td>\n",
       "      <td>0.732424</td>\n",
       "      <td>6.181818</td>\n",
       "      <td>0.000626</td>\n",
       "    </tr>\n",
       "  </tbody>\n",
       "</table>\n",
       "</div>"
      ],
      "text/plain": [
       "                          Context Relevance  Answer Relevance  Groundedness  \\\n",
       "app_id                                                                        \n",
       "Automerging Query Engine           0.413636          0.981818      0.732424   \n",
       "\n",
       "                           latency  total_cost  \n",
       "app_id                                          \n",
       "Automerging Query Engine  6.181818    0.000626  "
      ]
     },
     "execution_count": 37,
     "metadata": {},
     "output_type": "execute_result"
    }
   ],
   "source": [
    "tru.get_leaderboard(app_ids=[])"
   ]
  },
  {
   "cell_type": "code",
   "execution_count": 38,
   "id": "0f545d41-0d98-446f-8214-8b59bef08d6c",
   "metadata": {
    "height": 47,
    "tags": []
   },
   "outputs": [
    {
     "name": "stdout",
     "output_type": "stream",
     "text": [
      "Starting dashboard ...\n",
      "Config file already exists. Skipping writing process.\n",
      "Credentials file already exists. Skipping writing process.\n",
      "Dashboard already running at path: https://s172-31-15-23p44922.lab-aws-production.deeplearning.ai/\n"
     ]
    },
    {
     "data": {
      "text/plain": [
       "<Popen: returncode: None args: ['streamlit', 'run', '--server.headless=True'...>"
      ]
     },
     "execution_count": 38,
     "metadata": {},
     "output_type": "execute_result"
    }
   ],
   "source": [
    "# launches on http://localhost:8501/\n",
    "tru.run_dashboard()"
   ]
  }
 ],
 "metadata": {
  "kernelspec": {
   "display_name": "Python 3 (ipykernel)",
   "language": "python",
   "name": "python3"
  },
  "language_info": {
   "codemirror_mode": {
    "name": "ipython",
    "version": 3
   },
   "file_extension": ".py",
   "mimetype": "text/x-python",
   "name": "python",
   "nbconvert_exporter": "python",
   "pygments_lexer": "ipython3",
   "version": "3.11.9"
  }
 },
 "nbformat": 4,
 "nbformat_minor": 5
}
