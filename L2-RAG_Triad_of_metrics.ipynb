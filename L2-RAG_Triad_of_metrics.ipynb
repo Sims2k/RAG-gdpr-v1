{
 "cells": [
  {
   "cell_type": "markdown",
   "metadata": {
    "id": "X6-q-gTUaZU7",
    "tags": []
   },
   "source": [
    "# Lesson 2: RAG Triad of metrics"
   ]
  },
  {
   "cell_type": "code",
   "execution_count": 1,
   "metadata": {
    "height": 47
   },
   "outputs": [],
   "source": [
    "import warnings\n",
    "warnings.filterwarnings('ignore')"
   ]
  },
  {
   "cell_type": "code",
   "execution_count": 2,
   "metadata": {
    "height": 98
   },
   "outputs": [
    {
     "name": "stdout",
     "output_type": "stream",
     "text": [
      "OPENAI_API_KEY:  sk-proj-QqtjsCZJacoM5OMr1mO3T3BlbkFJTyir0czUVQXsP4FHwMrU\n",
      "✅ In Answer Relevance, input prompt will be set to __record__.main_input or `Select.RecordInput` .\n",
      "✅ In Answer Relevance, input response will be set to __record__.main_output or `Select.RecordOutput` .\n",
      "✅ In Context Relevance, input prompt will be set to __record__.main_input or `Select.RecordInput` .\n",
      "✅ In Context Relevance, input response will be set to __record__.app.query.rets.source_nodes[:].node.text .\n",
      "✅ In Groundedness, input source will be set to __record__.app.query.rets.source_nodes[:].node.text .\n",
      "✅ In Groundedness, input statement will be set to __record__.main_output or `Select.RecordOutput` .\n"
     ]
    }
   ],
   "source": [
    "import utils\n",
    "\n",
    "import os\n",
    "import openai\n",
    "openai.api_key = utils.get_openai_api_key()"
   ]
  },
  {
   "cell_type": "code",
   "execution_count": 3,
   "metadata": {
    "height": 81,
    "id": "IBfdyn3MaZU9"
   },
   "outputs": [
    {
     "name": "stdout",
     "output_type": "stream",
     "text": [
      "🦑 Tru initialized with db url sqlite:///default.sqlite .\n",
      "🛑 Secret keys may be written to the database. See the `database_redact_keys` option of `Tru` to prevent this.\n"
     ]
    }
   ],
   "source": [
    "from trulens_eval import Tru\n",
    "\n",
    "tru = Tru()\n",
    "tru.reset_database()"
   ]
  },
  {
   "cell_type": "code",
   "execution_count": 4,
   "metadata": {
    "height": 98,
    "id": "wMvq1q8yaZU-"
   },
   "outputs": [],
   "source": [
    "from llama_index import SimpleDirectoryReader\n",
    "\n",
    "documents = SimpleDirectoryReader(\n",
    "    input_files=[\"./CELEX_32016R0679_EN_TXT.pdf\"]\n",
    ").load_data()"
   ]
  },
  {
   "cell_type": "code",
   "execution_count": 5,
   "metadata": {
    "height": 81,
    "id": "sY8Oui4taZU-"
   },
   "outputs": [],
   "source": [
    "from llama_index import Document\n",
    "\n",
    "document = Document(text=\"\\n\\n\".\\\n",
    "                    join([doc.text for doc in documents]))"
   ]
  },
  {
   "cell_type": "code",
   "execution_count": 6,
   "metadata": {
    "height": 217
   },
   "outputs": [],
   "source": [
    "from utils import build_sentence_window_index\n",
    "\n",
    "from llama_index.llms import OpenAI\n",
    "\n",
    "llm = OpenAI(model=\"gpt-3.5-turbo\", temperature=0.1)\n",
    "\n",
    "sentence_index = build_sentence_window_index(\n",
    "    document,\n",
    "    llm,\n",
    "    embed_model=\"local:BAAI/bge-small-en-v1.5\",\n",
    "    save_dir=\"sentence_index\"\n",
    ")"
   ]
  },
  {
   "cell_type": "code",
   "execution_count": 7,
   "metadata": {
    "height": 81
   },
   "outputs": [],
   "source": [
    "from utils import get_sentence_window_query_engine\n",
    "\n",
    "sentence_window_engine = \\\n",
    "get_sentence_window_query_engine(sentence_index)"
   ]
  },
  {
   "cell_type": "code",
   "execution_count": 8,
   "metadata": {
    "height": 64
   },
   "outputs": [
    {
     "data": {
      "text/plain": [
       "'An organization should adopt internal policies and implement measures that meet the principles of data protection by design and data protection by default. This includes minimizing the processing of personal data, pseudonymizing personal data, ensuring transparency in data processing, enabling data subjects to monitor data processing, and creating and improving security features. Additionally, when developing applications, services, and products that involve processing personal data, organizations should consider data protection rights and ensure that controllers and processors can fulfill their data protection obligations. The principles of data protection by design and by default should also be considered in the context of public tenders.'"
      ]
     },
     "execution_count": 8,
     "metadata": {},
     "output_type": "execute_result"
    }
   ],
   "source": [
    "output = sentence_window_engine.query(\n",
    "    \"How should an organization manage user authorizations to ensure data security under GDPR?\")\n",
    "output.response"
   ]
  },
  {
   "cell_type": "markdown",
   "metadata": {},
   "source": [
    "## Feedback functions"
   ]
  },
  {
   "cell_type": "code",
   "execution_count": 9,
   "metadata": {
    "height": 64,
    "id": "5KqV-IbQaZVB"
   },
   "outputs": [],
   "source": [
    "import nest_asyncio\n",
    "\n",
    "nest_asyncio.apply()"
   ]
  },
  {
   "cell_type": "code",
   "execution_count": 10,
   "metadata": {
    "height": 64
   },
   "outputs": [],
   "source": [
    "from trulens_eval import OpenAI as fOpenAI\n",
    "\n",
    "provider = fOpenAI()"
   ]
  },
  {
   "cell_type": "markdown",
   "metadata": {},
   "source": [
    "### 1. Answer Relevance"
   ]
  },
  {
   "cell_type": "code",
   "execution_count": 11,
   "metadata": {
    "height": 115
   },
   "outputs": [
    {
     "name": "stdout",
     "output_type": "stream",
     "text": [
      "✅ In Answer Relevance, input prompt will be set to __record__.main_input or `Select.RecordInput` .\n",
      "✅ In Answer Relevance, input response will be set to __record__.main_output or `Select.RecordOutput` .\n"
     ]
    }
   ],
   "source": [
    "from trulens_eval import Feedback\n",
    "\n",
    "f_qa_relevance = Feedback(\n",
    "    provider.relevance_with_cot_reasons,\n",
    "    name=\"Answer Relevance\"\n",
    ").on_input_output()"
   ]
  },
  {
   "cell_type": "markdown",
   "metadata": {},
   "source": [
    "### 2. Context Relevance"
   ]
  },
  {
   "cell_type": "code",
   "execution_count": 12,
   "metadata": {
    "height": 64
   },
   "outputs": [],
   "source": [
    "from trulens_eval import TruLlama\n",
    "\n",
    "context_selection = TruLlama.select_source_nodes().node.text"
   ]
  },
  {
   "cell_type": "code",
   "execution_count": 13,
   "metadata": {
    "height": 166
   },
   "outputs": [
    {
     "name": "stdout",
     "output_type": "stream",
     "text": [
      "✅ In Context Relevance, input question will be set to __record__.main_input or `Select.RecordInput` .\n",
      "✅ In Context Relevance, input statement will be set to __record__.app.query.rets.source_nodes[:].node.text .\n"
     ]
    }
   ],
   "source": [
    "import numpy as np\n",
    "\n",
    "f_qs_relevance = (\n",
    "    Feedback(provider.qs_relevance,\n",
    "             name=\"Context Relevance\")\n",
    "    .on_input()\n",
    "    .on(context_selection)\n",
    "    .aggregate(np.mean)\n",
    ")"
   ]
  },
  {
   "cell_type": "code",
   "execution_count": 14,
   "metadata": {
    "height": 166
   },
   "outputs": [
    {
     "name": "stdout",
     "output_type": "stream",
     "text": [
      "✅ In Context Relevance, input question will be set to __record__.main_input or `Select.RecordInput` .\n",
      "✅ In Context Relevance, input statement will be set to __record__.app.query.rets.source_nodes[:].node.text .\n"
     ]
    }
   ],
   "source": [
    "import numpy as np\n",
    "\n",
    "f_qs_relevance = (\n",
    "    Feedback(provider.qs_relevance_with_cot_reasons,\n",
    "             name=\"Context Relevance\")\n",
    "    .on_input()\n",
    "    .on(context_selection)\n",
    "    .aggregate(np.mean)\n",
    ")"
   ]
  },
  {
   "cell_type": "markdown",
   "metadata": {},
   "source": [
    "### 3. Groundedness"
   ]
  },
  {
   "cell_type": "code",
   "execution_count": 15,
   "metadata": {
    "height": 64
   },
   "outputs": [],
   "source": [
    "from trulens_eval.feedback import Groundedness\n",
    "\n",
    "grounded = Groundedness(groundedness_provider=provider)"
   ]
  },
  {
   "cell_type": "code",
   "execution_count": 16,
   "metadata": {
    "height": 149,
    "id": "kXJBD4gfaZVC"
   },
   "outputs": [
    {
     "name": "stdout",
     "output_type": "stream",
     "text": [
      "✅ In Groundedness, input source will be set to __record__.app.query.rets.source_nodes[:].node.text .\n",
      "✅ In Groundedness, input statement will be set to __record__.main_output or `Select.RecordOutput` .\n"
     ]
    }
   ],
   "source": [
    "f_groundedness = (\n",
    "    Feedback(grounded.groundedness_measure_with_cot_reasons,\n",
    "             name=\"Groundedness\"\n",
    "            )\n",
    "    .on(context_selection)\n",
    "    .on_output()\n",
    "    .aggregate(grounded.grounded_statements_aggregator)\n",
    ")"
   ]
  },
  {
   "cell_type": "markdown",
   "metadata": {},
   "source": [
    "## Evaluation of the RAG application"
   ]
  },
  {
   "cell_type": "code",
   "execution_count": 17,
   "metadata": {
    "height": 217,
    "id": "KUDHInR-aZVC"
   },
   "outputs": [],
   "source": [
    "from trulens_eval import TruLlama\n",
    "from trulens_eval import FeedbackMode\n",
    "\n",
    "tru_recorder = TruLlama(\n",
    "    sentence_window_engine,\n",
    "    app_id=\"App_1\",\n",
    "    feedbacks=[\n",
    "        f_qa_relevance,\n",
    "        f_qs_relevance,\n",
    "        f_groundedness\n",
    "    ]\n",
    ")"
   ]
  },
  {
   "cell_type": "code",
   "execution_count": 18,
   "metadata": {
    "height": 115,
    "id": "dsA3ziw1aZVD"
   },
   "outputs": [],
   "source": [
    "eval_questions = []\n",
    "with open('eval_questions.txt', 'r') as file:\n",
    "    for line in file:\n",
    "        # Remove newline character and convert to integer\n",
    "        item = line.strip()\n",
    "        eval_questions.append(item)"
   ]
  },
  {
   "cell_type": "code",
   "execution_count": 19,
   "metadata": {
    "height": 30
   },
   "outputs": [
    {
     "data": {
      "text/plain": [
       "['What are the essential security measures for effective teleworking under GDPR?',\n",
       " 'What organizational measures should be taken to ensure compliance with the GDPR in terms of data security?',\n",
       " 'What technical measures are essential for ensuring the security of personal data under GDPR?',\n",
       " 'What are the essential technical measures to secure equipment and workstations for protecting personal data?',\n",
       " 'How should an organization protect its premises to ensure the security of personal data?',\n",
       " 'How should an organization implement user authentication to protect personal data under GDPR requirements?',\n",
       " 'How should an organization manage user authorizations to ensure data security under GDPR?',\n",
       " 'What is pseudonymisation and how should it be implemented under GDPR?',\n",
       " 'How does encryption and hash functions contribute to GDPR compliance?',\n",
       " 'What does data anonymisation involve under GDPR, and how is it distinguished from pseudonymisation?']"
      ]
     },
     "execution_count": 19,
     "metadata": {},
     "output_type": "execute_result"
    }
   ],
   "source": [
    "eval_questions"
   ]
  },
  {
   "cell_type": "code",
   "execution_count": 20,
   "metadata": {
    "height": 30
   },
   "outputs": [],
   "source": [
    "eval_questions.append(\"What are the benefits of conducting a DPIA?\")"
   ]
  },
  {
   "cell_type": "code",
   "execution_count": 21,
   "metadata": {
    "height": 30
   },
   "outputs": [
    {
     "data": {
      "text/plain": [
       "['What are the essential security measures for effective teleworking under GDPR?',\n",
       " 'What organizational measures should be taken to ensure compliance with the GDPR in terms of data security?',\n",
       " 'What technical measures are essential for ensuring the security of personal data under GDPR?',\n",
       " 'What are the essential technical measures to secure equipment and workstations for protecting personal data?',\n",
       " 'How should an organization protect its premises to ensure the security of personal data?',\n",
       " 'How should an organization implement user authentication to protect personal data under GDPR requirements?',\n",
       " 'How should an organization manage user authorizations to ensure data security under GDPR?',\n",
       " 'What is pseudonymisation and how should it be implemented under GDPR?',\n",
       " 'How does encryption and hash functions contribute to GDPR compliance?',\n",
       " 'What does data anonymisation involve under GDPR, and how is it distinguished from pseudonymisation?',\n",
       " 'What are the benefits of conducting a DPIA?']"
      ]
     },
     "execution_count": 21,
     "metadata": {},
     "output_type": "execute_result"
    }
   ],
   "source": [
    "eval_questions"
   ]
  },
  {
   "cell_type": "code",
   "execution_count": 22,
   "metadata": {
    "height": 64,
    "id": "01_P6TxaaZVD"
   },
   "outputs": [],
   "source": [
    "for question in eval_questions:\n",
    "    with tru_recorder as recording:\n",
    "        sentence_window_engine.query(question)"
   ]
  },
  {
   "cell_type": "code",
   "execution_count": 23,
   "metadata": {
    "height": 47,
    "id": "sNPhDde6ZArq"
   },
   "outputs": [
    {
     "data": {
      "text/html": [
       "<div>\n",
       "<style scoped>\n",
       "    .dataframe tbody tr th:only-of-type {\n",
       "        vertical-align: middle;\n",
       "    }\n",
       "\n",
       "    .dataframe tbody tr th {\n",
       "        vertical-align: top;\n",
       "    }\n",
       "\n",
       "    .dataframe thead th {\n",
       "        text-align: right;\n",
       "    }\n",
       "</style>\n",
       "<table border=\"1\" class=\"dataframe\">\n",
       "  <thead>\n",
       "    <tr style=\"text-align: right;\">\n",
       "      <th></th>\n",
       "      <th>app_id</th>\n",
       "      <th>app_json</th>\n",
       "      <th>type</th>\n",
       "      <th>record_id</th>\n",
       "      <th>input</th>\n",
       "      <th>output</th>\n",
       "      <th>tags</th>\n",
       "      <th>record_json</th>\n",
       "      <th>cost_json</th>\n",
       "      <th>perf_json</th>\n",
       "      <th>ts</th>\n",
       "      <th>Answer Relevance</th>\n",
       "      <th>Context Relevance</th>\n",
       "      <th>Groundedness</th>\n",
       "      <th>Answer Relevance_calls</th>\n",
       "      <th>Context Relevance_calls</th>\n",
       "      <th>Groundedness_calls</th>\n",
       "      <th>latency</th>\n",
       "      <th>total_tokens</th>\n",
       "      <th>total_cost</th>\n",
       "    </tr>\n",
       "  </thead>\n",
       "  <tbody>\n",
       "    <tr>\n",
       "      <th>0</th>\n",
       "      <td>App_1</td>\n",
       "      <td>{\"app_id\": \"App_1\", \"tags\": \"-\", \"metadata\": {...</td>\n",
       "      <td>RetrieverQueryEngine(llama_index.query_engine....</td>\n",
       "      <td>record_hash_f34d59b1448845cf3ccac4aa74a1eb2b</td>\n",
       "      <td>\"What are the essential security measures for ...</td>\n",
       "      <td>\"The essential security measures for effective...</td>\n",
       "      <td>-</td>\n",
       "      <td>{\"record_id\": \"record_hash_f34d59b1448845cf3cc...</td>\n",
       "      <td>{\"n_requests\": 1, \"n_successful_requests\": 1, ...</td>\n",
       "      <td>{\"start_time\": \"2024-06-05T22:26:12.163223\", \"...</td>\n",
       "      <td>2024-06-05T22:26:19.675786</td>\n",
       "      <td>1.0</td>\n",
       "      <td>0.50</td>\n",
       "      <td>2.325000</td>\n",
       "      <td>[{'args': {'prompt': 'What are the essential s...</td>\n",
       "      <td>[{'args': {'question': 'What are the essential...</td>\n",
       "      <td>[{'args': {'source': '1). \n",
       "\n",
       " household activit...</td>\n",
       "      <td>7</td>\n",
       "      <td>752</td>\n",
       "      <td>0.001170</td>\n",
       "    </tr>\n",
       "    <tr>\n",
       "      <th>1</th>\n",
       "      <td>App_1</td>\n",
       "      <td>{\"app_id\": \"App_1\", \"tags\": \"-\", \"metadata\": {...</td>\n",
       "      <td>RetrieverQueryEngine(llama_index.query_engine....</td>\n",
       "      <td>record_hash_796bdc3fa745c5b5af63431a5c632f1f</td>\n",
       "      <td>\"What organizational measures should be taken ...</td>\n",
       "      <td>\"Organizational measures that should be taken ...</td>\n",
       "      <td>-</td>\n",
       "      <td>{\"record_id\": \"record_hash_796bdc3fa745c5b5af6...</td>\n",
       "      <td>{\"n_requests\": 1, \"n_successful_requests\": 1, ...</td>\n",
       "      <td>{\"start_time\": \"2024-06-05T22:26:20.007986\", \"...</td>\n",
       "      <td>2024-06-05T22:26:26.963858</td>\n",
       "      <td>1.0</td>\n",
       "      <td>0.60</td>\n",
       "      <td>0.314286</td>\n",
       "      <td>[{'args': {'prompt': 'What organizational meas...</td>\n",
       "      <td>[{'args': {'question': 'What organizational me...</td>\n",
       "      <td>[{'args': {'source': 'Risk should be evaluated...</td>\n",
       "      <td>6</td>\n",
       "      <td>964</td>\n",
       "      <td>0.001488</td>\n",
       "    </tr>\n",
       "    <tr>\n",
       "      <th>2</th>\n",
       "      <td>App_1</td>\n",
       "      <td>{\"app_id\": \"App_1\", \"tags\": \"-\", \"metadata\": {...</td>\n",
       "      <td>RetrieverQueryEngine(llama_index.query_engine....</td>\n",
       "      <td>record_hash_6278247c3c6c7169b920db8506b5691d</td>\n",
       "      <td>\"What technical measures are essential for ens...</td>\n",
       "      <td>\"Appropriate technical measures essential for ...</td>\n",
       "      <td>-</td>\n",
       "      <td>{\"record_id\": \"record_hash_6278247c3c6c7169b92...</td>\n",
       "      <td>{\"n_requests\": 1, \"n_successful_requests\": 1, ...</td>\n",
       "      <td>{\"start_time\": \"2024-06-05T22:26:27.229305\", \"...</td>\n",
       "      <td>2024-06-05T22:26:37.849809</td>\n",
       "      <td>1.0</td>\n",
       "      <td>0.95</td>\n",
       "      <td>0.900000</td>\n",
       "      <td>[{'args': {'prompt': 'What technical measures ...</td>\n",
       "      <td>[{'args': {'question': 'What technical measure...</td>\n",
       "      <td>[{'args': {'source': '4.5.2016 L 119/47 Offici...</td>\n",
       "      <td>10</td>\n",
       "      <td>870</td>\n",
       "      <td>0.001345</td>\n",
       "    </tr>\n",
       "    <tr>\n",
       "      <th>3</th>\n",
       "      <td>App_1</td>\n",
       "      <td>{\"app_id\": \"App_1\", \"tags\": \"-\", \"metadata\": {...</td>\n",
       "      <td>RetrieverQueryEngine(llama_index.query_engine....</td>\n",
       "      <td>record_hash_4c3c939041ebdeff35a713970421b396</td>\n",
       "      <td>\"What are the essential technical measures to ...</td>\n",
       "      <td>\"Essential technical measures to secure equipm...</td>\n",
       "      <td>-</td>\n",
       "      <td>{\"record_id\": \"record_hash_4c3c939041ebdeff35a...</td>\n",
       "      <td>{\"n_requests\": 1, \"n_successful_requests\": 1, ...</td>\n",
       "      <td>{\"start_time\": \"2024-06-05T22:26:38.093652\", \"...</td>\n",
       "      <td>2024-06-05T22:26:46.128416</td>\n",
       "      <td>1.0</td>\n",
       "      <td>0.85</td>\n",
       "      <td>0.333333</td>\n",
       "      <td>[{'args': {'prompt': 'What are the essential t...</td>\n",
       "      <td>[{'args': {'question': 'What are the essential...</td>\n",
       "      <td>[{'args': {'source': '(78)  The prote ction of...</td>\n",
       "      <td>8</td>\n",
       "      <td>870</td>\n",
       "      <td>0.001332</td>\n",
       "    </tr>\n",
       "    <tr>\n",
       "      <th>4</th>\n",
       "      <td>App_1</td>\n",
       "      <td>{\"app_id\": \"App_1\", \"tags\": \"-\", \"metadata\": {...</td>\n",
       "      <td>RetrieverQueryEngine(llama_index.query_engine....</td>\n",
       "      <td>record_hash_03039b441a11ceaec340e8b34334b1a9</td>\n",
       "      <td>\"How should an organization protect its premis...</td>\n",
       "      <td>\"An organization should ensure appropriate sec...</td>\n",
       "      <td>-</td>\n",
       "      <td>{\"record_id\": \"record_hash_03039b441a11ceaec34...</td>\n",
       "      <td>{\"n_requests\": 1, \"n_successful_requests\": 1, ...</td>\n",
       "      <td>{\"start_time\": \"2024-06-05T22:26:46.360887\", \"...</td>\n",
       "      <td>2024-06-05T22:26:55.799914</td>\n",
       "      <td>1.0</td>\n",
       "      <td>0.90</td>\n",
       "      <td>0.750000</td>\n",
       "      <td>[{'args': {'prompt': 'How should an organizati...</td>\n",
       "      <td>[{'args': {'question': 'How should an organiza...</td>\n",
       "      <td>[{'args': {'source': 'Personal data should be ...</td>\n",
       "      <td>9</td>\n",
       "      <td>1017</td>\n",
       "      <td>0.001542</td>\n",
       "    </tr>\n",
       "  </tbody>\n",
       "</table>\n",
       "</div>"
      ],
      "text/plain": [
       "  app_id                                           app_json  \\\n",
       "0  App_1  {\"app_id\": \"App_1\", \"tags\": \"-\", \"metadata\": {...   \n",
       "1  App_1  {\"app_id\": \"App_1\", \"tags\": \"-\", \"metadata\": {...   \n",
       "2  App_1  {\"app_id\": \"App_1\", \"tags\": \"-\", \"metadata\": {...   \n",
       "3  App_1  {\"app_id\": \"App_1\", \"tags\": \"-\", \"metadata\": {...   \n",
       "4  App_1  {\"app_id\": \"App_1\", \"tags\": \"-\", \"metadata\": {...   \n",
       "\n",
       "                                                type  \\\n",
       "0  RetrieverQueryEngine(llama_index.query_engine....   \n",
       "1  RetrieverQueryEngine(llama_index.query_engine....   \n",
       "2  RetrieverQueryEngine(llama_index.query_engine....   \n",
       "3  RetrieverQueryEngine(llama_index.query_engine....   \n",
       "4  RetrieverQueryEngine(llama_index.query_engine....   \n",
       "\n",
       "                                      record_id  \\\n",
       "0  record_hash_f34d59b1448845cf3ccac4aa74a1eb2b   \n",
       "1  record_hash_796bdc3fa745c5b5af63431a5c632f1f   \n",
       "2  record_hash_6278247c3c6c7169b920db8506b5691d   \n",
       "3  record_hash_4c3c939041ebdeff35a713970421b396   \n",
       "4  record_hash_03039b441a11ceaec340e8b34334b1a9   \n",
       "\n",
       "                                               input  \\\n",
       "0  \"What are the essential security measures for ...   \n",
       "1  \"What organizational measures should be taken ...   \n",
       "2  \"What technical measures are essential for ens...   \n",
       "3  \"What are the essential technical measures to ...   \n",
       "4  \"How should an organization protect its premis...   \n",
       "\n",
       "                                              output tags  \\\n",
       "0  \"The essential security measures for effective...    -   \n",
       "1  \"Organizational measures that should be taken ...    -   \n",
       "2  \"Appropriate technical measures essential for ...    -   \n",
       "3  \"Essential technical measures to secure equipm...    -   \n",
       "4  \"An organization should ensure appropriate sec...    -   \n",
       "\n",
       "                                         record_json  \\\n",
       "0  {\"record_id\": \"record_hash_f34d59b1448845cf3cc...   \n",
       "1  {\"record_id\": \"record_hash_796bdc3fa745c5b5af6...   \n",
       "2  {\"record_id\": \"record_hash_6278247c3c6c7169b92...   \n",
       "3  {\"record_id\": \"record_hash_4c3c939041ebdeff35a...   \n",
       "4  {\"record_id\": \"record_hash_03039b441a11ceaec34...   \n",
       "\n",
       "                                           cost_json  \\\n",
       "0  {\"n_requests\": 1, \"n_successful_requests\": 1, ...   \n",
       "1  {\"n_requests\": 1, \"n_successful_requests\": 1, ...   \n",
       "2  {\"n_requests\": 1, \"n_successful_requests\": 1, ...   \n",
       "3  {\"n_requests\": 1, \"n_successful_requests\": 1, ...   \n",
       "4  {\"n_requests\": 1, \"n_successful_requests\": 1, ...   \n",
       "\n",
       "                                           perf_json  \\\n",
       "0  {\"start_time\": \"2024-06-05T22:26:12.163223\", \"...   \n",
       "1  {\"start_time\": \"2024-06-05T22:26:20.007986\", \"...   \n",
       "2  {\"start_time\": \"2024-06-05T22:26:27.229305\", \"...   \n",
       "3  {\"start_time\": \"2024-06-05T22:26:38.093652\", \"...   \n",
       "4  {\"start_time\": \"2024-06-05T22:26:46.360887\", \"...   \n",
       "\n",
       "                           ts  Answer Relevance  Context Relevance  \\\n",
       "0  2024-06-05T22:26:19.675786               1.0               0.50   \n",
       "1  2024-06-05T22:26:26.963858               1.0               0.60   \n",
       "2  2024-06-05T22:26:37.849809               1.0               0.95   \n",
       "3  2024-06-05T22:26:46.128416               1.0               0.85   \n",
       "4  2024-06-05T22:26:55.799914               1.0               0.90   \n",
       "\n",
       "   Groundedness                             Answer Relevance_calls  \\\n",
       "0      2.325000  [{'args': {'prompt': 'What are the essential s...   \n",
       "1      0.314286  [{'args': {'prompt': 'What organizational meas...   \n",
       "2      0.900000  [{'args': {'prompt': 'What technical measures ...   \n",
       "3      0.333333  [{'args': {'prompt': 'What are the essential t...   \n",
       "4      0.750000  [{'args': {'prompt': 'How should an organizati...   \n",
       "\n",
       "                             Context Relevance_calls  \\\n",
       "0  [{'args': {'question': 'What are the essential...   \n",
       "1  [{'args': {'question': 'What organizational me...   \n",
       "2  [{'args': {'question': 'What technical measure...   \n",
       "3  [{'args': {'question': 'What are the essential...   \n",
       "4  [{'args': {'question': 'How should an organiza...   \n",
       "\n",
       "                                  Groundedness_calls  latency  total_tokens  \\\n",
       "0  [{'args': {'source': '1). \n",
       "\n",
       " household activit...        7           752   \n",
       "1  [{'args': {'source': 'Risk should be evaluated...        6           964   \n",
       "2  [{'args': {'source': '4.5.2016 L 119/47 Offici...       10           870   \n",
       "3  [{'args': {'source': '(78)  The prote ction of...        8           870   \n",
       "4  [{'args': {'source': 'Personal data should be ...        9          1017   \n",
       "\n",
       "   total_cost  \n",
       "0    0.001170  \n",
       "1    0.001488  \n",
       "2    0.001345  \n",
       "3    0.001332  \n",
       "4    0.001542  "
      ]
     },
     "execution_count": 23,
     "metadata": {},
     "output_type": "execute_result"
    }
   ],
   "source": [
    "records, feedback = tru.get_records_and_feedback(app_ids=[])\n",
    "records.head()"
   ]
  },
  {
   "cell_type": "code",
   "execution_count": 24,
   "metadata": {
    "height": 81
   },
   "outputs": [
    {
     "data": {
      "text/html": [
       "<div>\n",
       "<style scoped>\n",
       "    .dataframe tbody tr th:only-of-type {\n",
       "        vertical-align: middle;\n",
       "    }\n",
       "\n",
       "    .dataframe tbody tr th {\n",
       "        vertical-align: top;\n",
       "    }\n",
       "\n",
       "    .dataframe thead th {\n",
       "        text-align: right;\n",
       "    }\n",
       "</style>\n",
       "<table border=\"1\" class=\"dataframe\">\n",
       "  <thead>\n",
       "    <tr style=\"text-align: right;\">\n",
       "      <th></th>\n",
       "      <th>input</th>\n",
       "      <th>output</th>\n",
       "      <th>Groundedness</th>\n",
       "      <th>Context Relevance</th>\n",
       "      <th>Answer Relevance</th>\n",
       "    </tr>\n",
       "  </thead>\n",
       "  <tbody>\n",
       "    <tr>\n",
       "      <th>0</th>\n",
       "      <td>\"What are the essential security measures for effective teleworking under GDPR?\"</td>\n",
       "      <td>\"The essential security measures for effective teleworking under GDPR include implementing appropriate technological protection and organizational measures to promptly detect any personal data breaches, informing the supervisory authority and the data subject without undue delay in case of a breach likely to result in a high risk to the rights and freedoms of the individual, and communicating the nature of the breach along with recommendations to mitigate potential adverse effects to the data subject as soon as reasonably feasible.\"</td>\n",
       "      <td>2.325000</td>\n",
       "      <td>0.50</td>\n",
       "      <td>1.0</td>\n",
       "    </tr>\n",
       "    <tr>\n",
       "      <th>1</th>\n",
       "      <td>\"What organizational measures should be taken to ensure compliance with the GDPR in terms of data security?\"</td>\n",
       "      <td>\"Organizational measures that should be taken to ensure compliance with the GDPR in terms of data security include adopting internal policies, implementing measures that align with the principles of data protection by design and data protection by default, minimizing the processing of personal data, pseudonymizing personal data at the earliest opportunity, ensuring transparency regarding the functions and processing of personal data, enabling data subjects to monitor data processing, and creating and improving security features.\"</td>\n",
       "      <td>0.314286</td>\n",
       "      <td>0.60</td>\n",
       "      <td>1.0</td>\n",
       "    </tr>\n",
       "    <tr>\n",
       "      <th>2</th>\n",
       "      <td>\"What technical measures are essential for ensuring the security of personal data under GDPR?\"</td>\n",
       "      <td>\"Appropriate technical measures essential for ensuring the security of personal data under GDPR include implementing data protection principles such as data minimization, pseudonymization, and ensuring that only necessary personal data for each specific purpose are processed. Additionally, measures should be in place to restrict access to personal data without the individual's intervention and to evaluate risks objectively to determine if data processing operations pose a risk or a high risk.\"</td>\n",
       "      <td>0.900000</td>\n",
       "      <td>0.95</td>\n",
       "      <td>1.0</td>\n",
       "    </tr>\n",
       "    <tr>\n",
       "      <th>3</th>\n",
       "      <td>\"What are the essential technical measures to secure equipment and workstations for protecting personal data?\"</td>\n",
       "      <td>\"Essential technical measures to secure equipment and workstations for protecting personal data include implementing appropriate security features, enabling encryption where necessary, restricting access to authorized personnel only, regularly updating software and systems to address vulnerabilities, and ensuring that only necessary personal data is processed on each workstation.\"</td>\n",
       "      <td>0.333333</td>\n",
       "      <td>0.85</td>\n",
       "      <td>1.0</td>\n",
       "    </tr>\n",
       "    <tr>\n",
       "      <th>4</th>\n",
       "      <td>\"How should an organization protect its premises to ensure the security of personal data?\"</td>\n",
       "      <td>\"An organization should ensure appropriate security measures are in place to protect its premises, including preventing unauthorized access to or use of personal data and the equipment used for processing.\"</td>\n",
       "      <td>0.750000</td>\n",
       "      <td>0.90</td>\n",
       "      <td>1.0</td>\n",
       "    </tr>\n",
       "    <tr>\n",
       "      <th>5</th>\n",
       "      <td>\"How should an organization implement user authentication to protect personal data under GDPR requirements?\"</td>\n",
       "      <td>\"An organization should implement user authentication measures to protect personal data under GDPR requirements by ensuring that access to personal data is restricted to authorized individuals only. This can be achieved through the use of secure login credentials, such as passwords, biometric data, or two-factor authentication. By verifying the identity of users before granting access to personal data, the organization can help prevent unauthorized access and protect the confidentiality and integrity of the data in compliance with GDPR regulations.\"</td>\n",
       "      <td>0.166667</td>\n",
       "      <td>0.35</td>\n",
       "      <td>1.0</td>\n",
       "    </tr>\n",
       "    <tr>\n",
       "      <th>6</th>\n",
       "      <td>\"How should an organization manage user authorizations to ensure data security under GDPR?\"</td>\n",
       "      <td>\"An organization should adopt internal policies and implement measures that meet the principles of data protection by design and data protection by default. This includes minimizing the processing of personal data, pseudonymizing personal data, ensuring transparency in data processing, enabling data subjects to monitor data processing, and creating and improving security features. Additionally, when developing applications, services, and products that involve processing personal data, organizations should consider data protection rights and ensure that controllers and processors can fulfill their data protection obligations. The principles of data protection by design and by default should also be considered in the context of public tenders.\"</td>\n",
       "      <td>1.000000</td>\n",
       "      <td>0.50</td>\n",
       "      <td>1.0</td>\n",
       "    </tr>\n",
       "    <tr>\n",
       "      <th>7</th>\n",
       "      <td>\"What is pseudonymisation and how should it be implemented under GDPR?\"</td>\n",
       "      <td>\"Pseudonymisation is a technique that can reduce risks to data subjects and help controllers and processors fulfill their data protection obligations. It allows for general analysis while ensuring that additional information needed to identify specific individuals is kept separately. To implement pseudonymisation under GDPR, controllers must take necessary technical and organizational measures to ensure compliance with the Regulation and keep the information that links personal data to specific individuals separate from the pseudonymised data.\"</td>\n",
       "      <td>0.666667</td>\n",
       "      <td>0.80</td>\n",
       "      <td>1.0</td>\n",
       "    </tr>\n",
       "    <tr>\n",
       "      <th>8</th>\n",
       "      <td>\"How does encryption and hash functions contribute to GDPR compliance?\"</td>\n",
       "      <td>\"Encryption and hash functions contribute to GDPR compliance by providing appropriate technical measures to ensure the security and protection of personal data. Encryption helps in safeguarding data by converting it into a secure format that can only be accessed with the correct decryption key, thus preventing unauthorized access. Hash functions play a role in GDPR compliance by securely storing passwords and sensitive information in a way that makes it difficult to reverse engineer the original data, enhancing data security and integrity. By implementing encryption and hash functions, organizations can meet the GDPR requirement of ensuring appropriate security measures to protect personal data from unauthorized processing, loss, or damage.\"</td>\n",
       "      <td>0.250000</td>\n",
       "      <td>0.20</td>\n",
       "      <td>1.0</td>\n",
       "    </tr>\n",
       "    <tr>\n",
       "      <th>9</th>\n",
       "      <td>\"What does data anonymisation involve under GDPR, and how is it distinguished from pseudonymisation?\"</td>\n",
       "      <td>\"Data anonymisation involves the processing of personal data in a way that the data can no longer be attributed to a specific data subject, even with additional information. This ensures that the data is irreversibly altered in such a manner that the individual cannot be identified. On the other hand, pseudonymisation is a data processing technique where personal data is altered in a way that prevents direct identification of the data subject without additional information, but this additional information is kept separately and subject to technical and organizational measures to ensure that the personal data can be attributed to an identified or identifiable natural person if necessary.\"</td>\n",
       "      <td>0.566667</td>\n",
       "      <td>0.20</td>\n",
       "      <td>1.0</td>\n",
       "    </tr>\n",
       "    <tr>\n",
       "      <th>10</th>\n",
       "      <td>\"What are the benefits of conducting a DPIA?\"</td>\n",
       "      <td>\"Conducting a Data Protection Impact Assessment (DPIA) can help in identifying and mitigating risks associated with processing personal data, ensuring compliance with data protection regulations, enhancing transparency in data processing activities, and ultimately building trust with data subjects.\"</td>\n",
       "      <td>NaN</td>\n",
       "      <td>NaN</td>\n",
       "      <td>NaN</td>\n",
       "    </tr>\n",
       "  </tbody>\n",
       "</table>\n",
       "</div>"
      ],
      "text/plain": [
       "                                                                                                             input  \\\n",
       "0                                 \"What are the essential security measures for effective teleworking under GDPR?\"   \n",
       "1     \"What organizational measures should be taken to ensure compliance with the GDPR in terms of data security?\"   \n",
       "2                   \"What technical measures are essential for ensuring the security of personal data under GDPR?\"   \n",
       "3   \"What are the essential technical measures to secure equipment and workstations for protecting personal data?\"   \n",
       "4                       \"How should an organization protect its premises to ensure the security of personal data?\"   \n",
       "5     \"How should an organization implement user authentication to protect personal data under GDPR requirements?\"   \n",
       "6                      \"How should an organization manage user authorizations to ensure data security under GDPR?\"   \n",
       "7                                          \"What is pseudonymisation and how should it be implemented under GDPR?\"   \n",
       "8                                          \"How does encryption and hash functions contribute to GDPR compliance?\"   \n",
       "9            \"What does data anonymisation involve under GDPR, and how is it distinguished from pseudonymisation?\"   \n",
       "10                                                                   \"What are the benefits of conducting a DPIA?\"   \n",
       "\n",
       "                                                                                                                                                                                                                                                                                                                                                                                                                                                                                                                                                                                                                                                                                                                                                                              output  \\\n",
       "0                                                                                                                                                                                                                         \"The essential security measures for effective teleworking under GDPR include implementing appropriate technological protection and organizational measures to promptly detect any personal data breaches, informing the supervisory authority and the data subject without undue delay in case of a breach likely to result in a high risk to the rights and freedoms of the individual, and communicating the nature of the breach along with recommendations to mitigate potential adverse effects to the data subject as soon as reasonably feasible.\"   \n",
       "1                                                                                                                                                                                                                            \"Organizational measures that should be taken to ensure compliance with the GDPR in terms of data security include adopting internal policies, implementing measures that align with the principles of data protection by design and data protection by default, minimizing the processing of personal data, pseudonymizing personal data at the earliest opportunity, ensuring transparency regarding the functions and processing of personal data, enabling data subjects to monitor data processing, and creating and improving security features.\"   \n",
       "2                                                                                                                                                                                                                                                                 \"Appropriate technical measures essential for ensuring the security of personal data under GDPR include implementing data protection principles such as data minimization, pseudonymization, and ensuring that only necessary personal data for each specific purpose are processed. Additionally, measures should be in place to restrict access to personal data without the individual's intervention and to evaluate risks objectively to determine if data processing operations pose a risk or a high risk.\"   \n",
       "3                                                                                                                                                                                                                                                                                                                                                                                    \"Essential technical measures to secure equipment and workstations for protecting personal data include implementing appropriate security features, enabling encryption where necessary, restricting access to authorized personnel only, regularly updating software and systems to address vulnerabilities, and ensuring that only necessary personal data is processed on each workstation.\"   \n",
       "4                                                                                                                                                                                                                                                                                                                                                                                                                                                                                                                                                                     \"An organization should ensure appropriate security measures are in place to protect its premises, including preventing unauthorized access to or use of personal data and the equipment used for processing.\"   \n",
       "5                                                                                                                                                                                                        \"An organization should implement user authentication measures to protect personal data under GDPR requirements by ensuring that access to personal data is restricted to authorized individuals only. This can be achieved through the use of secure login credentials, such as passwords, biometric data, or two-factor authentication. By verifying the identity of users before granting access to personal data, the organization can help prevent unauthorized access and protect the confidentiality and integrity of the data in compliance with GDPR regulations.\"   \n",
       "6   \"An organization should adopt internal policies and implement measures that meet the principles of data protection by design and data protection by default. This includes minimizing the processing of personal data, pseudonymizing personal data, ensuring transparency in data processing, enabling data subjects to monitor data processing, and creating and improving security features. Additionally, when developing applications, services, and products that involve processing personal data, organizations should consider data protection rights and ensure that controllers and processors can fulfill their data protection obligations. The principles of data protection by design and by default should also be considered in the context of public tenders.\"   \n",
       "7                                                                                                                                                                                                             \"Pseudonymisation is a technique that can reduce risks to data subjects and help controllers and processors fulfill their data protection obligations. It allows for general analysis while ensuring that additional information needed to identify specific individuals is kept separately. To implement pseudonymisation under GDPR, controllers must take necessary technical and organizational measures to ensure compliance with the Regulation and keep the information that links personal data to specific individuals separate from the pseudonymised data.\"   \n",
       "8    \"Encryption and hash functions contribute to GDPR compliance by providing appropriate technical measures to ensure the security and protection of personal data. Encryption helps in safeguarding data by converting it into a secure format that can only be accessed with the correct decryption key, thus preventing unauthorized access. Hash functions play a role in GDPR compliance by securely storing passwords and sensitive information in a way that makes it difficult to reverse engineer the original data, enhancing data security and integrity. By implementing encryption and hash functions, organizations can meet the GDPR requirement of ensuring appropriate security measures to protect personal data from unauthorized processing, loss, or damage.\"   \n",
       "9                                                           \"Data anonymisation involves the processing of personal data in a way that the data can no longer be attributed to a specific data subject, even with additional information. This ensures that the data is irreversibly altered in such a manner that the individual cannot be identified. On the other hand, pseudonymisation is a data processing technique where personal data is altered in a way that prevents direct identification of the data subject without additional information, but this additional information is kept separately and subject to technical and organizational measures to ensure that the personal data can be attributed to an identified or identifiable natural person if necessary.\"   \n",
       "10                                                                                                                                                                                                                                                                                                                                                                                                                                                                      \"Conducting a Data Protection Impact Assessment (DPIA) can help in identifying and mitigating risks associated with processing personal data, ensuring compliance with data protection regulations, enhancing transparency in data processing activities, and ultimately building trust with data subjects.\"   \n",
       "\n",
       "    Groundedness  Context Relevance  Answer Relevance  \n",
       "0       2.325000               0.50               1.0  \n",
       "1       0.314286               0.60               1.0  \n",
       "2       0.900000               0.95               1.0  \n",
       "3       0.333333               0.85               1.0  \n",
       "4       0.750000               0.90               1.0  \n",
       "5       0.166667               0.35               1.0  \n",
       "6       1.000000               0.50               1.0  \n",
       "7       0.666667               0.80               1.0  \n",
       "8       0.250000               0.20               1.0  \n",
       "9       0.566667               0.20               1.0  \n",
       "10           NaN                NaN               NaN  "
      ]
     },
     "execution_count": 24,
     "metadata": {},
     "output_type": "execute_result"
    }
   ],
   "source": [
    "import pandas as pd\n",
    "\n",
    "pd.set_option(\"display.max_colwidth\", None)\n",
    "records[[\"input\", \"output\"] + feedback]"
   ]
  },
  {
   "cell_type": "code",
   "execution_count": 25,
   "metadata": {
    "height": 30
   },
   "outputs": [
    {
     "data": {
      "text/html": [
       "<div>\n",
       "<style scoped>\n",
       "    .dataframe tbody tr th:only-of-type {\n",
       "        vertical-align: middle;\n",
       "    }\n",
       "\n",
       "    .dataframe tbody tr th {\n",
       "        vertical-align: top;\n",
       "    }\n",
       "\n",
       "    .dataframe thead th {\n",
       "        text-align: right;\n",
       "    }\n",
       "</style>\n",
       "<table border=\"1\" class=\"dataframe\">\n",
       "  <thead>\n",
       "    <tr style=\"text-align: right;\">\n",
       "      <th></th>\n",
       "      <th>Groundedness</th>\n",
       "      <th>Context Relevance</th>\n",
       "      <th>Answer Relevance</th>\n",
       "      <th>latency</th>\n",
       "      <th>total_cost</th>\n",
       "    </tr>\n",
       "    <tr>\n",
       "      <th>app_id</th>\n",
       "      <th></th>\n",
       "      <th></th>\n",
       "      <th></th>\n",
       "      <th></th>\n",
       "      <th></th>\n",
       "    </tr>\n",
       "  </thead>\n",
       "  <tbody>\n",
       "    <tr>\n",
       "      <th>App_1</th>\n",
       "      <td>0.727262</td>\n",
       "      <td>0.577273</td>\n",
       "      <td>1.0</td>\n",
       "      <td>9.090909</td>\n",
       "      <td>0.001903</td>\n",
       "    </tr>\n",
       "  </tbody>\n",
       "</table>\n",
       "</div>"
      ],
      "text/plain": [
       "        Groundedness  Context Relevance  Answer Relevance   latency  \\\n",
       "app_id                                                                \n",
       "App_1       0.727262           0.577273               1.0  9.090909   \n",
       "\n",
       "        total_cost  \n",
       "app_id              \n",
       "App_1     0.001903  "
      ]
     },
     "execution_count": 25,
     "metadata": {},
     "output_type": "execute_result"
    }
   ],
   "source": [
    "tru.get_leaderboard(app_ids=[])"
   ]
  },
  {
   "cell_type": "code",
   "execution_count": 26,
   "metadata": {
    "height": 30,
    "id": "6Yp4_e4faZVD"
   },
   "outputs": [
    {
     "name": "stdout",
     "output_type": "stream",
     "text": [
      "Starting dashboard ...\n",
      "Config file already exists. Skipping writing process.\n",
      "Credentials file already exists. Skipping writing process.\n"
     ]
    },
    {
     "data": {
      "application/vnd.jupyter.widget-view+json": {
       "model_id": "b51947d4acc44db49ca86ca56e64dcbb",
       "version_major": 2,
       "version_minor": 0
      },
      "text/plain": [
       "Accordion(children=(VBox(children=(VBox(children=(Label(value='STDOUT'), Output())), VBox(children=(Label(valu…"
      ]
     },
     "metadata": {},
     "output_type": "display_data"
    },
    {
     "name": "stdout",
     "output_type": "stream",
     "text": [
      "Dashboard started at http://192.168.178.104:8501 .\n"
     ]
    },
    {
     "data": {
      "text/plain": [
       "<Popen: returncode: None args: ['streamlit', 'run', '--server.headless=True'...>"
      ]
     },
     "execution_count": 26,
     "metadata": {},
     "output_type": "execute_result"
    }
   ],
   "source": [
    "tru.run_dashboard()"
   ]
  },
  {
   "cell_type": "code",
   "execution_count": null,
   "metadata": {},
   "outputs": [],
   "source": []
  }
 ],
 "metadata": {
  "accelerator": "GPU",
  "colab": {
   "gpuType": "T4",
   "provenance": [
    {
     "file_id": "1ChKW1kEIUcUVDDTWjpA5Tf_ib3Hhp3uS",
     "timestamp": 1695164681916
    }
   ]
  },
  "kernelspec": {
   "display_name": "Python 3 (ipykernel)",
   "language": "python",
   "name": "python3"
  },
  "language_info": {
   "codemirror_mode": {
    "name": "ipython",
    "version": 3
   },
   "file_extension": ".py",
   "mimetype": "text/x-python",
   "name": "python",
   "nbconvert_exporter": "python",
   "pygments_lexer": "ipython3",
   "version": "3.10.11"
  }
 },
 "nbformat": 4,
 "nbformat_minor": 4
}
