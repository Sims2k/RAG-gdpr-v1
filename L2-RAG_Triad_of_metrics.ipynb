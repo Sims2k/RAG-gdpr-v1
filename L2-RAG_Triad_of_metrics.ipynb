{
 "cells": [
  {
   "cell_type": "markdown",
   "metadata": {
    "id": "X6-q-gTUaZU7",
    "tags": []
   },
   "source": [
    "# Lesson 2: RAG Triad of metrics"
   ]
  },
  {
   "cell_type": "code",
   "execution_count": 1,
   "metadata": {
    "height": 47
   },
   "outputs": [],
   "source": [
    "import warnings\n",
    "warnings.filterwarnings('ignore')"
   ]
  },
  {
   "cell_type": "code",
   "execution_count": 2,
   "metadata": {
    "height": 98
   },
   "outputs": [],
   "source": [
    "import utils\n",
    "\n",
    "import os\n",
    "import openai\n",
    "openai.api_key = utils.get_openai_api_key()"
   ]
  },
  {
   "cell_type": "code",
   "execution_count": 3,
   "metadata": {
    "height": 81,
    "id": "IBfdyn3MaZU9"
   },
   "outputs": [
    {
     "name": "stdout",
     "output_type": "stream",
     "text": [
      "🦑 Tru initialized with db url sqlite:///default.sqlite .\n",
      "🛑 Secret keys may be written to the database. See the `database_redact_keys` option of `Tru` to prevent this.\n"
     ]
    }
   ],
   "source": [
    "from trulens_eval import Tru\n",
    "\n",
    "tru = Tru()\n",
    "tru.reset_database()"
   ]
  },
  {
   "cell_type": "code",
   "execution_count": 4,
   "metadata": {
    "height": 98,
    "id": "wMvq1q8yaZU-"
   },
   "outputs": [],
   "source": [
    "from llama_index import SimpleDirectoryReader\n",
    "\n",
    "documents = SimpleDirectoryReader(\n",
    "    input_files=[\"./CELEX_32016R0679_EN_TXT.pdf\"]\n",
    ").load_data()"
   ]
  },
  {
   "cell_type": "code",
   "execution_count": 5,
   "metadata": {
    "height": 81,
    "id": "sY8Oui4taZU-"
   },
   "outputs": [],
   "source": [
    "from llama_index import Document\n",
    "\n",
    "document = Document(text=\"\\n\\n\".\\\n",
    "                    join([doc.text for doc in documents]))"
   ]
  },
  {
   "cell_type": "code",
   "execution_count": 6,
   "metadata": {
    "height": 217
   },
   "outputs": [
    {
     "name": "stderr",
     "output_type": "stream",
     "text": [
      "[nltk_data] Downloading package punkt to /tmp/llama_index...\n",
      "[nltk_data]   Unzipping tokenizers/punkt.zip.\n"
     ]
    },
    {
     "data": {
      "application/vnd.jupyter.widget-view+json": {
       "model_id": "a352aa38286b4b8e907039b9ede94819",
       "version_major": 2,
       "version_minor": 0
      },
      "text/plain": [
       "config.json:   0%|          | 0.00/743 [00:00<?, ?B/s]"
      ]
     },
     "metadata": {},
     "output_type": "display_data"
    },
    {
     "data": {
      "application/vnd.jupyter.widget-view+json": {
       "model_id": "a55bbfe1f8cc41cd8a9dc3afc098d973",
       "version_major": 2,
       "version_minor": 0
      },
      "text/plain": [
       "model.safetensors:   0%|          | 0.00/133M [00:00<?, ?B/s]"
      ]
     },
     "metadata": {},
     "output_type": "display_data"
    },
    {
     "data": {
      "application/vnd.jupyter.widget-view+json": {
       "model_id": "76af14eb26c14c25956401456543b721",
       "version_major": 2,
       "version_minor": 0
      },
      "text/plain": [
       "tokenizer_config.json:   0%|          | 0.00/366 [00:00<?, ?B/s]"
      ]
     },
     "metadata": {},
     "output_type": "display_data"
    },
    {
     "data": {
      "application/vnd.jupyter.widget-view+json": {
       "model_id": "eedadb6bb6404ae49b20b23a1c75c99b",
       "version_major": 2,
       "version_minor": 0
      },
      "text/plain": [
       "vocab.txt:   0%|          | 0.00/232k [00:00<?, ?B/s]"
      ]
     },
     "metadata": {},
     "output_type": "display_data"
    },
    {
     "data": {
      "application/vnd.jupyter.widget-view+json": {
       "model_id": "43cf97fbbf6741acb8f726b43db154d6",
       "version_major": 2,
       "version_minor": 0
      },
      "text/plain": [
       "tokenizer.json:   0%|          | 0.00/711k [00:00<?, ?B/s]"
      ]
     },
     "metadata": {},
     "output_type": "display_data"
    },
    {
     "data": {
      "application/vnd.jupyter.widget-view+json": {
       "model_id": "f1a49d978f3b42d4a6490e548b78025d",
       "version_major": 2,
       "version_minor": 0
      },
      "text/plain": [
       "special_tokens_map.json:   0%|          | 0.00/125 [00:00<?, ?B/s]"
      ]
     },
     "metadata": {},
     "output_type": "display_data"
    }
   ],
   "source": [
    "from utils import build_sentence_window_index\n",
    "\n",
    "from llama_index.llms import OpenAI\n",
    "\n",
    "llm = OpenAI(model=\"gpt-3.5-turbo\", temperature=0.1)\n",
    "\n",
    "sentence_index = build_sentence_window_index(\n",
    "    document,\n",
    "    llm,\n",
    "    embed_model=\"local:BAAI/bge-small-en-v1.5\",\n",
    "    save_dir=\"sentence_index\"\n",
    ")"
   ]
  },
  {
   "cell_type": "code",
   "execution_count": 7,
   "metadata": {
    "height": 81
   },
   "outputs": [
    {
     "data": {
      "application/vnd.jupyter.widget-view+json": {
       "model_id": "7b49eebaa4274ef292188cdb23b1bff8",
       "version_major": 2,
       "version_minor": 0
      },
      "text/plain": [
       "config.json:   0%|          | 0.00/799 [00:00<?, ?B/s]"
      ]
     },
     "metadata": {},
     "output_type": "display_data"
    },
    {
     "data": {
      "application/vnd.jupyter.widget-view+json": {
       "model_id": "d82d92ab380c448eaafec164a712c28e",
       "version_major": 2,
       "version_minor": 0
      },
      "text/plain": [
       "model.safetensors:   0%|          | 0.00/1.11G [00:00<?, ?B/s]"
      ]
     },
     "metadata": {},
     "output_type": "display_data"
    },
    {
     "data": {
      "application/vnd.jupyter.widget-view+json": {
       "model_id": "96936cf7fcf84090b92fb755440a77b6",
       "version_major": 2,
       "version_minor": 0
      },
      "text/plain": [
       "tokenizer_config.json:   0%|          | 0.00/443 [00:00<?, ?B/s]"
      ]
     },
     "metadata": {},
     "output_type": "display_data"
    },
    {
     "data": {
      "application/vnd.jupyter.widget-view+json": {
       "model_id": "3e4f7234d6774edeb29cdebdd23a3885",
       "version_major": 2,
       "version_minor": 0
      },
      "text/plain": [
       "sentencepiece.bpe.model:   0%|          | 0.00/5.07M [00:00<?, ?B/s]"
      ]
     },
     "metadata": {},
     "output_type": "display_data"
    },
    {
     "data": {
      "application/vnd.jupyter.widget-view+json": {
       "model_id": "8d3eb7141e5b41ef83a72c187d98508e",
       "version_major": 2,
       "version_minor": 0
      },
      "text/plain": [
       "tokenizer.json:   0%|          | 0.00/17.1M [00:00<?, ?B/s]"
      ]
     },
     "metadata": {},
     "output_type": "display_data"
    },
    {
     "data": {
      "application/vnd.jupyter.widget-view+json": {
       "model_id": "2e0c5fe6d22341fa8c9096c6cddf20ae",
       "version_major": 2,
       "version_minor": 0
      },
      "text/plain": [
       "special_tokens_map.json:   0%|          | 0.00/279 [00:00<?, ?B/s]"
      ]
     },
     "metadata": {},
     "output_type": "display_data"
    }
   ],
   "source": [
    "from utils import get_sentence_window_query_engine\n",
    "\n",
    "sentence_window_engine = \\\n",
    "get_sentence_window_query_engine(sentence_index)"
   ]
  },
  {
   "cell_type": "code",
   "execution_count": 8,
   "metadata": {
    "height": 64
   },
   "outputs": [
    {
     "data": {
      "text/plain": [
       "'An organization should adopt internal policies and implement measures that meet the principles of data protection by design and data protection by default. This includes minimizing the processing of personal data, pseudonymizing personal data as soon as possible, ensuring transparency regarding the functions and processing of personal data, enabling data subjects to monitor data processing, and creating and improving security features. Additionally, when developing applications, services, and products that involve processing personal data, organizations should consider the right to data protection and ensure that controllers and processors can fulfill their data protection obligations. The principles of data protection by design and by default should also be considered in the context of public tenders.'"
      ]
     },
     "execution_count": 8,
     "metadata": {},
     "output_type": "execute_result"
    }
   ],
   "source": [
    "output = sentence_window_engine.query(\n",
    "    \"How should an organization manage user authorizations to ensure data security under GDPR?\")\n",
    "output.response"
   ]
  },
  {
   "cell_type": "markdown",
   "metadata": {},
   "source": [
    "## Feedback functions"
   ]
  },
  {
   "cell_type": "code",
   "execution_count": 9,
   "metadata": {
    "height": 64,
    "id": "5KqV-IbQaZVB"
   },
   "outputs": [],
   "source": [
    "import nest_asyncio\n",
    "\n",
    "nest_asyncio.apply()"
   ]
  },
  {
   "cell_type": "code",
   "execution_count": 10,
   "metadata": {
    "height": 64
   },
   "outputs": [],
   "source": [
    "from trulens_eval import OpenAI as fOpenAI\n",
    "\n",
    "provider = fOpenAI()"
   ]
  },
  {
   "cell_type": "markdown",
   "metadata": {},
   "source": [
    "### 1. Answer Relevance"
   ]
  },
  {
   "cell_type": "code",
   "execution_count": 11,
   "metadata": {
    "height": 115
   },
   "outputs": [
    {
     "name": "stdout",
     "output_type": "stream",
     "text": [
      "✅ In Answer Relevance, input prompt will be set to __record__.main_input or `Select.RecordInput` .\n",
      "✅ In Answer Relevance, input response will be set to __record__.main_output or `Select.RecordOutput` .\n"
     ]
    }
   ],
   "source": [
    "from trulens_eval import Feedback\n",
    "\n",
    "f_qa_relevance = Feedback(\n",
    "    provider.relevance_with_cot_reasons,\n",
    "    name=\"Answer Relevance\"\n",
    ").on_input_output()"
   ]
  },
  {
   "cell_type": "markdown",
   "metadata": {},
   "source": [
    "### 2. Context Relevance"
   ]
  },
  {
   "cell_type": "code",
   "execution_count": 12,
   "metadata": {
    "height": 64
   },
   "outputs": [],
   "source": [
    "from trulens_eval import TruLlama\n",
    "\n",
    "context_selection = TruLlama.select_source_nodes().node.text"
   ]
  },
  {
   "cell_type": "code",
   "execution_count": 13,
   "metadata": {
    "height": 166
   },
   "outputs": [
    {
     "name": "stdout",
     "output_type": "stream",
     "text": [
      "✅ In Context Relevance, input question will be set to __record__.main_input or `Select.RecordInput` .\n",
      "✅ In Context Relevance, input statement will be set to __record__.app.query.rets.source_nodes[:].node.text .\n"
     ]
    }
   ],
   "source": [
    "import numpy as np\n",
    "\n",
    "f_qs_relevance = (\n",
    "    Feedback(provider.qs_relevance,\n",
    "             name=\"Context Relevance\")\n",
    "    .on_input()\n",
    "    .on(context_selection)\n",
    "    .aggregate(np.mean)\n",
    ")"
   ]
  },
  {
   "cell_type": "code",
   "execution_count": 14,
   "metadata": {
    "height": 166
   },
   "outputs": [
    {
     "name": "stdout",
     "output_type": "stream",
     "text": [
      "✅ In Context Relevance, input question will be set to __record__.main_input or `Select.RecordInput` .\n",
      "✅ In Context Relevance, input statement will be set to __record__.app.query.rets.source_nodes[:].node.text .\n"
     ]
    }
   ],
   "source": [
    "import numpy as np\n",
    "\n",
    "f_qs_relevance = (\n",
    "    Feedback(provider.qs_relevance_with_cot_reasons,\n",
    "             name=\"Context Relevance\")\n",
    "    .on_input()\n",
    "    .on(context_selection)\n",
    "    .aggregate(np.mean)\n",
    ")"
   ]
  },
  {
   "cell_type": "markdown",
   "metadata": {},
   "source": [
    "### 3. Groundedness"
   ]
  },
  {
   "cell_type": "code",
   "execution_count": 15,
   "metadata": {
    "height": 64
   },
   "outputs": [],
   "source": [
    "from trulens_eval.feedback import Groundedness\n",
    "\n",
    "grounded = Groundedness(groundedness_provider=provider)"
   ]
  },
  {
   "cell_type": "code",
   "execution_count": 19,
   "metadata": {
    "height": 149,
    "id": "kXJBD4gfaZVC"
   },
   "outputs": [
    {
     "name": "stdout",
     "output_type": "stream",
     "text": [
      "✅ In Groundedness, input source will be set to __record__.app.query.rets.source_nodes[:].node.text .\n",
      "✅ In Groundedness, input statement will be set to __record__.main_output or `Select.RecordOutput` .\n"
     ]
    }
   ],
   "source": [
    "f_groundedness = (\n",
    "    Feedback(grounded.groundedness_measure_with_cot_reasons,\n",
    "             name=\"Groundedness\"\n",
    "            )\n",
    "    .on(context_selection)\n",
    "    .on_output()\n",
    "    .aggregate(grounded.grounded_statements_aggregator)\n",
    ")"
   ]
  },
  {
   "cell_type": "markdown",
   "metadata": {},
   "source": [
    "## Evaluation of the RAG application"
   ]
  },
  {
   "cell_type": "code",
   "execution_count": 18,
   "metadata": {
    "height": 217,
    "id": "KUDHInR-aZVC"
   },
   "outputs": [
    {
     "ename": "TypeError",
     "evalue": "Object of type 'OpenAI' is not JSON serializable",
     "output_type": "error",
     "traceback": [
      "\u001b[0;31m---------------------------------------------------------------------------\u001b[0m",
      "\u001b[0;31mTypeError\u001b[0m                                 Traceback (most recent call last)",
      "Cell \u001b[0;32mIn[18], line 4\u001b[0m\n\u001b[1;32m      1\u001b[0m \u001b[38;5;28;01mfrom\u001b[39;00m \u001b[38;5;21;01mtrulens_eval\u001b[39;00m \u001b[38;5;28;01mimport\u001b[39;00m TruLlama\n\u001b[1;32m      2\u001b[0m \u001b[38;5;28;01mfrom\u001b[39;00m \u001b[38;5;21;01mtrulens_eval\u001b[39;00m \u001b[38;5;28;01mimport\u001b[39;00m FeedbackMode\n\u001b[0;32m----> 4\u001b[0m tru_recorder \u001b[38;5;241m=\u001b[39m \u001b[43mTruLlama\u001b[49m\u001b[43m(\u001b[49m\n\u001b[1;32m      5\u001b[0m \u001b[43m    \u001b[49m\u001b[43msentence_window_engine\u001b[49m\u001b[43m,\u001b[49m\n\u001b[1;32m      6\u001b[0m \u001b[43m    \u001b[49m\u001b[43mapp_id\u001b[49m\u001b[38;5;241;43m=\u001b[39;49m\u001b[38;5;124;43m\"\u001b[39;49m\u001b[38;5;124;43mApp_1\u001b[39;49m\u001b[38;5;124;43m\"\u001b[39;49m\u001b[43m,\u001b[49m\n\u001b[1;32m      7\u001b[0m \u001b[43m    \u001b[49m\u001b[43mfeedbacks\u001b[49m\u001b[38;5;241;43m=\u001b[39;49m\u001b[43m[\u001b[49m\n\u001b[1;32m      8\u001b[0m \u001b[43m        \u001b[49m\u001b[43mf_qa_relevance\u001b[49m\u001b[43m,\u001b[49m\n\u001b[1;32m      9\u001b[0m \u001b[43m        \u001b[49m\u001b[43mf_qs_relevance\u001b[49m\u001b[43m,\u001b[49m\n\u001b[1;32m     10\u001b[0m \u001b[43m        \u001b[49m\u001b[43mf_groundedness\u001b[49m\n\u001b[1;32m     11\u001b[0m \u001b[43m    \u001b[49m\u001b[43m]\u001b[49m\n\u001b[1;32m     12\u001b[0m \u001b[43m)\u001b[49m\n",
      "File \u001b[0;32m/usr/local/lib/python3.10/site-packages/trulens_eval/tru_llama.py:250\u001b[0m, in \u001b[0;36mTruLlama.__init__\u001b[0;34m(self, app, **kwargs)\u001b[0m\n\u001b[1;32m    246\u001b[0m kwargs[\u001b[38;5;124m'\u001b[39m\u001b[38;5;124minstrument\u001b[39m\u001b[38;5;124m'\u001b[39m] \u001b[38;5;241m=\u001b[39m LlamaInstrument(app\u001b[38;5;241m=\u001b[39m\u001b[38;5;28mself\u001b[39m)\n\u001b[1;32m    248\u001b[0m \u001b[38;5;28msuper\u001b[39m()\u001b[38;5;241m.\u001b[39m\u001b[38;5;21m__init__\u001b[39m(\u001b[38;5;241m*\u001b[39m\u001b[38;5;241m*\u001b[39mkwargs)\n\u001b[0;32m--> 250\u001b[0m \u001b[38;5;28;43mself\u001b[39;49m\u001b[38;5;241;43m.\u001b[39;49m\u001b[43mpost_init\u001b[49m\u001b[43m(\u001b[49m\u001b[43m)\u001b[49m\n",
      "File \u001b[0;32m/usr/local/lib/python3.10/site-packages/trulens_eval/app.py:486\u001b[0m, in \u001b[0;36mApp.post_init\u001b[0;34m(self)\u001b[0m\n\u001b[1;32m    483\u001b[0m         logger\u001b[38;5;241m.\u001b[39mdebug(\u001b[38;5;124m\"\u001b[39m\u001b[38;5;124mInserting feedback function definitions to db.\u001b[39m\u001b[38;5;124m\"\u001b[39m)\n\u001b[1;32m    485\u001b[0m         \u001b[38;5;28;01mfor\u001b[39;00m f \u001b[38;5;129;01min\u001b[39;00m \u001b[38;5;28mself\u001b[39m\u001b[38;5;241m.\u001b[39mfeedbacks:\n\u001b[0;32m--> 486\u001b[0m             \u001b[38;5;28;43mself\u001b[39;49m\u001b[38;5;241;43m.\u001b[39;49m\u001b[43mdb\u001b[49m\u001b[38;5;241;43m.\u001b[39;49m\u001b[43minsert_feedback_definition\u001b[49m\u001b[43m(\u001b[49m\u001b[43mf\u001b[49m\u001b[43m)\u001b[49m\n\u001b[1;32m    488\u001b[0m \u001b[38;5;28;01melse\u001b[39;00m:\n\u001b[1;32m    489\u001b[0m     \u001b[38;5;28;01mif\u001b[39;00m \u001b[38;5;28mlen\u001b[39m(\u001b[38;5;28mself\u001b[39m\u001b[38;5;241m.\u001b[39mfeedbacks) \u001b[38;5;241m>\u001b[39m \u001b[38;5;241m0\u001b[39m:\n",
      "File \u001b[0;32m/usr/local/lib/python3.10/site-packages/trulens_eval/database/utils.py:61\u001b[0m, in \u001b[0;36mrun_before.<locals>.decorator.<locals>.wrapper\u001b[0;34m(*args, **kwargs)\u001b[0m\n\u001b[1;32m     59\u001b[0m \u001b[38;5;28;01mdef\u001b[39;00m \u001b[38;5;21mwrapper\u001b[39m(\u001b[38;5;241m*\u001b[39margs, \u001b[38;5;241m*\u001b[39m\u001b[38;5;241m*\u001b[39mkwargs):\n\u001b[1;32m     60\u001b[0m     callback(\u001b[38;5;241m*\u001b[39margs, \u001b[38;5;241m*\u001b[39m\u001b[38;5;241m*\u001b[39mkwargs)\n\u001b[0;32m---> 61\u001b[0m     \u001b[38;5;28;01mreturn\u001b[39;00m \u001b[43mfunc\u001b[49m\u001b[43m(\u001b[49m\u001b[38;5;241;43m*\u001b[39;49m\u001b[43margs\u001b[49m\u001b[43m,\u001b[49m\u001b[43m \u001b[49m\u001b[38;5;241;43m*\u001b[39;49m\u001b[38;5;241;43m*\u001b[39;49m\u001b[43mkwargs\u001b[49m\u001b[43m)\u001b[49m\n",
      "File \u001b[0;32m/usr/local/lib/python3.10/site-packages/trulens_eval/database/sqlalchemy_db.py:195\u001b[0m, in \u001b[0;36mSqlAlchemyDB.insert_feedback_definition\u001b[0;34m(self, feedback_definition)\u001b[0m\n\u001b[1;32m    191\u001b[0m \u001b[38;5;28;01mwith\u001b[39;00m \u001b[38;5;28mself\u001b[39m\u001b[38;5;241m.\u001b[39mSession\u001b[38;5;241m.\u001b[39mbegin() \u001b[38;5;28;01mas\u001b[39;00m session:\n\u001b[1;32m    192\u001b[0m     \u001b[38;5;28;01mif\u001b[39;00m _fb_def \u001b[38;5;241m:=\u001b[39m session\u001b[38;5;241m.\u001b[39mquery(orm\u001b[38;5;241m.\u001b[39mFeedbackDefinition) \\\n\u001b[1;32m    193\u001b[0m             \u001b[38;5;241m.\u001b[39mfilter_by(feedback_definition_id\u001b[38;5;241m=\u001b[39mfeedback_definition\u001b[38;5;241m.\u001b[39mfeedback_definition_id) \\\n\u001b[1;32m    194\u001b[0m             \u001b[38;5;241m.\u001b[39mfirst():\n\u001b[0;32m--> 195\u001b[0m         _fb_def\u001b[38;5;241m.\u001b[39mapp_json \u001b[38;5;241m=\u001b[39m \u001b[43mfeedback_definition\u001b[49m\u001b[38;5;241;43m.\u001b[39;49m\u001b[43mjson\u001b[49m\u001b[43m(\u001b[49m\u001b[43m)\u001b[49m\n\u001b[1;32m    196\u001b[0m     \u001b[38;5;28;01melse\u001b[39;00m:\n\u001b[1;32m    197\u001b[0m         _fb_def \u001b[38;5;241m=\u001b[39m orm\u001b[38;5;241m.\u001b[39mFeedbackDefinition\u001b[38;5;241m.\u001b[39mparse(\n\u001b[1;32m    198\u001b[0m             feedback_definition, redact_keys\u001b[38;5;241m=\u001b[39m\u001b[38;5;28mself\u001b[39m\u001b[38;5;241m.\u001b[39mredact_keys\n\u001b[1;32m    199\u001b[0m         )\n",
      "File \u001b[0;32m/usr/local/lib/python3.10/site-packages/pydantic/main.py:504\u001b[0m, in \u001b[0;36mpydantic.main.BaseModel.json\u001b[0;34m()\u001b[0m\n",
      "File \u001b[0;32m/usr/local/lib/python3.10/json/__init__.py:238\u001b[0m, in \u001b[0;36mdumps\u001b[0;34m(obj, skipkeys, ensure_ascii, check_circular, allow_nan, cls, indent, separators, default, sort_keys, **kw)\u001b[0m\n\u001b[1;32m    232\u001b[0m \u001b[38;5;28;01mif\u001b[39;00m \u001b[38;5;28mcls\u001b[39m \u001b[38;5;129;01mis\u001b[39;00m \u001b[38;5;28;01mNone\u001b[39;00m:\n\u001b[1;32m    233\u001b[0m     \u001b[38;5;28mcls\u001b[39m \u001b[38;5;241m=\u001b[39m JSONEncoder\n\u001b[1;32m    234\u001b[0m \u001b[38;5;28;01mreturn\u001b[39;00m \u001b[38;5;28;43mcls\u001b[39;49m\u001b[43m(\u001b[49m\n\u001b[1;32m    235\u001b[0m \u001b[43m    \u001b[49m\u001b[43mskipkeys\u001b[49m\u001b[38;5;241;43m=\u001b[39;49m\u001b[43mskipkeys\u001b[49m\u001b[43m,\u001b[49m\u001b[43m \u001b[49m\u001b[43mensure_ascii\u001b[49m\u001b[38;5;241;43m=\u001b[39;49m\u001b[43mensure_ascii\u001b[49m\u001b[43m,\u001b[49m\n\u001b[1;32m    236\u001b[0m \u001b[43m    \u001b[49m\u001b[43mcheck_circular\u001b[49m\u001b[38;5;241;43m=\u001b[39;49m\u001b[43mcheck_circular\u001b[49m\u001b[43m,\u001b[49m\u001b[43m \u001b[49m\u001b[43mallow_nan\u001b[49m\u001b[38;5;241;43m=\u001b[39;49m\u001b[43mallow_nan\u001b[49m\u001b[43m,\u001b[49m\u001b[43m \u001b[49m\u001b[43mindent\u001b[49m\u001b[38;5;241;43m=\u001b[39;49m\u001b[43mindent\u001b[49m\u001b[43m,\u001b[49m\n\u001b[1;32m    237\u001b[0m \u001b[43m    \u001b[49m\u001b[43mseparators\u001b[49m\u001b[38;5;241;43m=\u001b[39;49m\u001b[43mseparators\u001b[49m\u001b[43m,\u001b[49m\u001b[43m \u001b[49m\u001b[43mdefault\u001b[49m\u001b[38;5;241;43m=\u001b[39;49m\u001b[43mdefault\u001b[49m\u001b[43m,\u001b[49m\u001b[43m \u001b[49m\u001b[43msort_keys\u001b[49m\u001b[38;5;241;43m=\u001b[39;49m\u001b[43msort_keys\u001b[49m\u001b[43m,\u001b[49m\n\u001b[0;32m--> 238\u001b[0m \u001b[43m    \u001b[49m\u001b[38;5;241;43m*\u001b[39;49m\u001b[38;5;241;43m*\u001b[39;49m\u001b[43mkw\u001b[49m\u001b[43m)\u001b[49m\u001b[38;5;241;43m.\u001b[39;49m\u001b[43mencode\u001b[49m\u001b[43m(\u001b[49m\u001b[43mobj\u001b[49m\u001b[43m)\u001b[49m\n",
      "File \u001b[0;32m/usr/local/lib/python3.10/json/encoder.py:199\u001b[0m, in \u001b[0;36mJSONEncoder.encode\u001b[0;34m(self, o)\u001b[0m\n\u001b[1;32m    195\u001b[0m         \u001b[38;5;28;01mreturn\u001b[39;00m encode_basestring(o)\n\u001b[1;32m    196\u001b[0m \u001b[38;5;66;03m# This doesn't pass the iterator directly to ''.join() because the\u001b[39;00m\n\u001b[1;32m    197\u001b[0m \u001b[38;5;66;03m# exceptions aren't as detailed.  The list call should be roughly\u001b[39;00m\n\u001b[1;32m    198\u001b[0m \u001b[38;5;66;03m# equivalent to the PySequence_Fast that ''.join() would do.\u001b[39;00m\n\u001b[0;32m--> 199\u001b[0m chunks \u001b[38;5;241m=\u001b[39m \u001b[38;5;28;43mself\u001b[39;49m\u001b[38;5;241;43m.\u001b[39;49m\u001b[43miterencode\u001b[49m\u001b[43m(\u001b[49m\u001b[43mo\u001b[49m\u001b[43m,\u001b[49m\u001b[43m \u001b[49m\u001b[43m_one_shot\u001b[49m\u001b[38;5;241;43m=\u001b[39;49m\u001b[38;5;28;43;01mTrue\u001b[39;49;00m\u001b[43m)\u001b[49m\n\u001b[1;32m    200\u001b[0m \u001b[38;5;28;01mif\u001b[39;00m \u001b[38;5;129;01mnot\u001b[39;00m \u001b[38;5;28misinstance\u001b[39m(chunks, (\u001b[38;5;28mlist\u001b[39m, \u001b[38;5;28mtuple\u001b[39m)):\n\u001b[1;32m    201\u001b[0m     chunks \u001b[38;5;241m=\u001b[39m \u001b[38;5;28mlist\u001b[39m(chunks)\n",
      "File \u001b[0;32m/usr/local/lib/python3.10/json/encoder.py:257\u001b[0m, in \u001b[0;36mJSONEncoder.iterencode\u001b[0;34m(self, o, _one_shot)\u001b[0m\n\u001b[1;32m    252\u001b[0m \u001b[38;5;28;01melse\u001b[39;00m:\n\u001b[1;32m    253\u001b[0m     _iterencode \u001b[38;5;241m=\u001b[39m _make_iterencode(\n\u001b[1;32m    254\u001b[0m         markers, \u001b[38;5;28mself\u001b[39m\u001b[38;5;241m.\u001b[39mdefault, _encoder, \u001b[38;5;28mself\u001b[39m\u001b[38;5;241m.\u001b[39mindent, floatstr,\n\u001b[1;32m    255\u001b[0m         \u001b[38;5;28mself\u001b[39m\u001b[38;5;241m.\u001b[39mkey_separator, \u001b[38;5;28mself\u001b[39m\u001b[38;5;241m.\u001b[39mitem_separator, \u001b[38;5;28mself\u001b[39m\u001b[38;5;241m.\u001b[39msort_keys,\n\u001b[1;32m    256\u001b[0m         \u001b[38;5;28mself\u001b[39m\u001b[38;5;241m.\u001b[39mskipkeys, _one_shot)\n\u001b[0;32m--> 257\u001b[0m \u001b[38;5;28;01mreturn\u001b[39;00m \u001b[43m_iterencode\u001b[49m\u001b[43m(\u001b[49m\u001b[43mo\u001b[49m\u001b[43m,\u001b[49m\u001b[43m \u001b[49m\u001b[38;5;241;43m0\u001b[39;49m\u001b[43m)\u001b[49m\n",
      "File \u001b[0;32m/usr/local/lib/python3.10/site-packages/pydantic/json.py:90\u001b[0m, in \u001b[0;36mpydantic.json.pydantic_encoder\u001b[0;34m()\u001b[0m\n",
      "\u001b[0;31mTypeError\u001b[0m: Object of type 'OpenAI' is not JSON serializable"
     ]
    }
   ],
   "source": [
    "from trulens_eval import TruLlama\n",
    "from trulens_eval import FeedbackMode\n",
    "\n",
    "tru_recorder = TruLlama(\n",
    "    sentence_window_engine,\n",
    "    app_id=\"App_1\",\n",
    "    feedbacks=[\n",
    "        f_qa_relevance,\n",
    "        f_qs_relevance,\n",
    "        f_groundedness\n",
    "    ]\n",
    ")"
   ]
  },
  {
   "cell_type": "code",
   "execution_count": 20,
   "metadata": {
    "height": 115,
    "id": "dsA3ziw1aZVD"
   },
   "outputs": [],
   "source": [
    "eval_questions = []\n",
    "with open('eval_questions.txt', 'r') as file:\n",
    "    for line in file:\n",
    "        # Remove newline character and convert to integer\n",
    "        item = line.strip()\n",
    "        eval_questions.append(item)"
   ]
  },
  {
   "cell_type": "code",
   "execution_count": 21,
   "metadata": {
    "height": 30
   },
   "outputs": [
    {
     "data": {
      "text/plain": [
       "['What are the essential security measures for effective teleworking under GDPR?',\n",
       " 'What organizational measures should be taken to ensure compliance with the GDPR in terms of data security?',\n",
       " 'What technical measures are essential for ensuring the security of personal data under GDPR?',\n",
       " 'What are the essential technical measures to secure equipment and workstations for protecting personal data?',\n",
       " 'How should an organization protect its premises to ensure the security of personal data?',\n",
       " 'How should an organization implement user authentication to protect personal data under GDPR requirements?',\n",
       " 'How should an organization manage user authorizations to ensure data security under GDPR?',\n",
       " 'What is pseudonymisation and how should it be implemented under GDPR?',\n",
       " 'How does encryption and hash functions contribute to GDPR compliance?',\n",
       " 'What does data anonymisation involve under GDPR, and how is it distinguished from pseudonymisation?']"
      ]
     },
     "execution_count": 21,
     "metadata": {},
     "output_type": "execute_result"
    }
   ],
   "source": [
    "eval_questions"
   ]
  },
  {
   "cell_type": "code",
   "execution_count": 22,
   "metadata": {
    "height": 30
   },
   "outputs": [],
   "source": [
    "eval_questions.append(\"What are the benefits of conducting a DPIA?\")"
   ]
  },
  {
   "cell_type": "code",
   "execution_count": 23,
   "metadata": {
    "height": 30
   },
   "outputs": [
    {
     "data": {
      "text/plain": [
       "['What are the essential security measures for effective teleworking under GDPR?',\n",
       " 'What organizational measures should be taken to ensure compliance with the GDPR in terms of data security?',\n",
       " 'What technical measures are essential for ensuring the security of personal data under GDPR?',\n",
       " 'What are the essential technical measures to secure equipment and workstations for protecting personal data?',\n",
       " 'How should an organization protect its premises to ensure the security of personal data?',\n",
       " 'How should an organization implement user authentication to protect personal data under GDPR requirements?',\n",
       " 'How should an organization manage user authorizations to ensure data security under GDPR?',\n",
       " 'What is pseudonymisation and how should it be implemented under GDPR?',\n",
       " 'How does encryption and hash functions contribute to GDPR compliance?',\n",
       " 'What does data anonymisation involve under GDPR, and how is it distinguished from pseudonymisation?',\n",
       " 'What are the benefits of conducting a DPIA?']"
      ]
     },
     "execution_count": 23,
     "metadata": {},
     "output_type": "execute_result"
    }
   ],
   "source": [
    "eval_questions"
   ]
  },
  {
   "cell_type": "code",
   "execution_count": 24,
   "metadata": {
    "height": 64,
    "id": "01_P6TxaaZVD"
   },
   "outputs": [],
   "source": [
    "for question in eval_questions:\n",
    "    with tru_recorder as recording:\n",
    "        sentence_window_engine.query(question)"
   ]
  },
  {
   "cell_type": "code",
   "execution_count": 25,
   "metadata": {
    "height": 47,
    "id": "sNPhDde6ZArq"
   },
   "outputs": [
    {
     "data": {
      "text/html": [
       "<div>\n",
       "<style scoped>\n",
       "    .dataframe tbody tr th:only-of-type {\n",
       "        vertical-align: middle;\n",
       "    }\n",
       "\n",
       "    .dataframe tbody tr th {\n",
       "        vertical-align: top;\n",
       "    }\n",
       "\n",
       "    .dataframe thead th {\n",
       "        text-align: right;\n",
       "    }\n",
       "</style>\n",
       "<table border=\"1\" class=\"dataframe\">\n",
       "  <thead>\n",
       "    <tr style=\"text-align: right;\">\n",
       "      <th></th>\n",
       "      <th>app_id</th>\n",
       "      <th>app_json</th>\n",
       "      <th>type</th>\n",
       "      <th>record_id</th>\n",
       "      <th>input</th>\n",
       "      <th>output</th>\n",
       "      <th>tags</th>\n",
       "      <th>record_json</th>\n",
       "      <th>cost_json</th>\n",
       "      <th>perf_json</th>\n",
       "      <th>ts</th>\n",
       "      <th>Answer Relevance</th>\n",
       "      <th>Context Relevance</th>\n",
       "      <th>Groundedness</th>\n",
       "      <th>Answer Relevance_calls</th>\n",
       "      <th>Context Relevance_calls</th>\n",
       "      <th>Groundedness_calls</th>\n",
       "      <th>latency</th>\n",
       "      <th>total_tokens</th>\n",
       "      <th>total_cost</th>\n",
       "    </tr>\n",
       "  </thead>\n",
       "  <tbody>\n",
       "    <tr>\n",
       "      <th>0</th>\n",
       "      <td>App_1</td>\n",
       "      <td>{\"app_id\": \"App_1\", \"tags\": \"-\", \"metadata\": {...</td>\n",
       "      <td>RetrieverQueryEngine(llama_index.query_engine....</td>\n",
       "      <td>record_hash_8ec33b90d51e6f3cc8959703f5eefb59</td>\n",
       "      <td>\"What are the essential security measures for ...</td>\n",
       "      <td>\"The essential security measures for effective...</td>\n",
       "      <td>-</td>\n",
       "      <td>{\"record_id\": \"record_hash_8ec33b90d51e6f3cc89...</td>\n",
       "      <td>{\"n_requests\": 1, \"n_successful_requests\": 1, ...</td>\n",
       "      <td>{\"start_time\": \"2024-06-03T08:17:48.466835\", \"...</td>\n",
       "      <td>2024-06-03T08:17:55.740594</td>\n",
       "      <td>1.0</td>\n",
       "      <td>0.40</td>\n",
       "      <td>2.325000</td>\n",
       "      <td>[{'args': {'prompt': 'What are the essential s...</td>\n",
       "      <td>[{'args': {'question': 'What are the essential...</td>\n",
       "      <td>[{'args': {'source': '1). \n",
       "\n",
       " household activit...</td>\n",
       "      <td>7</td>\n",
       "      <td>752</td>\n",
       "      <td>0.001170</td>\n",
       "    </tr>\n",
       "    <tr>\n",
       "      <th>1</th>\n",
       "      <td>App_1</td>\n",
       "      <td>{\"app_id\": \"App_1\", \"tags\": \"-\", \"metadata\": {...</td>\n",
       "      <td>RetrieverQueryEngine(llama_index.query_engine....</td>\n",
       "      <td>record_hash_f81594e2173d2c34f9cb4f123a6bea17</td>\n",
       "      <td>\"What organizational measures should be taken ...</td>\n",
       "      <td>\"Organizational measures that should be taken ...</td>\n",
       "      <td>-</td>\n",
       "      <td>{\"record_id\": \"record_hash_f81594e2173d2c34f9c...</td>\n",
       "      <td>{\"n_requests\": 1, \"n_successful_requests\": 1, ...</td>\n",
       "      <td>{\"start_time\": \"2024-06-03T08:17:55.924461\", \"...</td>\n",
       "      <td>2024-06-03T08:18:03.058293</td>\n",
       "      <td>1.0</td>\n",
       "      <td>0.55</td>\n",
       "      <td>0.250000</td>\n",
       "      <td>[{'args': {'prompt': 'What organizational meas...</td>\n",
       "      <td>[{'args': {'question': 'What organizational me...</td>\n",
       "      <td>[{'args': {'source': 'Risk should be evaluated...</td>\n",
       "      <td>7</td>\n",
       "      <td>964</td>\n",
       "      <td>0.001488</td>\n",
       "    </tr>\n",
       "    <tr>\n",
       "      <th>2</th>\n",
       "      <td>App_1</td>\n",
       "      <td>{\"app_id\": \"App_1\", \"tags\": \"-\", \"metadata\": {...</td>\n",
       "      <td>RetrieverQueryEngine(llama_index.query_engine....</td>\n",
       "      <td>record_hash_a338ea74b6ce100f8638e2d7a08c9d83</td>\n",
       "      <td>\"What technical measures are essential for ens...</td>\n",
       "      <td>\"Appropriate technical measures essential for ...</td>\n",
       "      <td>-</td>\n",
       "      <td>{\"record_id\": \"record_hash_a338ea74b6ce100f863...</td>\n",
       "      <td>{\"n_requests\": 1, \"n_successful_requests\": 1, ...</td>\n",
       "      <td>{\"start_time\": \"2024-06-03T08:18:03.242302\", \"...</td>\n",
       "      <td>2024-06-03T08:18:11.847055</td>\n",
       "      <td>1.0</td>\n",
       "      <td>0.95</td>\n",
       "      <td>1.000000</td>\n",
       "      <td>[{'args': {'prompt': 'What technical measures ...</td>\n",
       "      <td>[{'args': {'question': 'What technical measure...</td>\n",
       "      <td>[{'args': {'source': '4.5.2016 L 119/47 Offici...</td>\n",
       "      <td>8</td>\n",
       "      <td>861</td>\n",
       "      <td>0.001327</td>\n",
       "    </tr>\n",
       "    <tr>\n",
       "      <th>3</th>\n",
       "      <td>App_1</td>\n",
       "      <td>{\"app_id\": \"App_1\", \"tags\": \"-\", \"metadata\": {...</td>\n",
       "      <td>RetrieverQueryEngine(llama_index.query_engine....</td>\n",
       "      <td>record_hash_6cbfe28b5318978a93c7757437ba332f</td>\n",
       "      <td>\"What are the essential technical measures to ...</td>\n",
       "      <td>\"Essential technical measures to secure equipm...</td>\n",
       "      <td>-</td>\n",
       "      <td>{\"record_id\": \"record_hash_6cbfe28b5318978a93c...</td>\n",
       "      <td>{\"n_requests\": 1, \"n_successful_requests\": 1, ...</td>\n",
       "      <td>{\"start_time\": \"2024-06-03T08:18:12.042262\", \"...</td>\n",
       "      <td>2024-06-03T08:18:18.546759</td>\n",
       "      <td>1.0</td>\n",
       "      <td>0.75</td>\n",
       "      <td>0.083333</td>\n",
       "      <td>[{'args': {'prompt': 'What are the essential t...</td>\n",
       "      <td>[{'args': {'question': 'What are the essential...</td>\n",
       "      <td>[{'args': {'source': '(78)  The prote ction of...</td>\n",
       "      <td>6</td>\n",
       "      <td>870</td>\n",
       "      <td>0.001332</td>\n",
       "    </tr>\n",
       "    <tr>\n",
       "      <th>4</th>\n",
       "      <td>App_1</td>\n",
       "      <td>{\"app_id\": \"App_1\", \"tags\": \"-\", \"metadata\": {...</td>\n",
       "      <td>RetrieverQueryEngine(llama_index.query_engine....</td>\n",
       "      <td>record_hash_bc4386738363178202dd902acaa25b3f</td>\n",
       "      <td>\"How should an organization protect its premis...</td>\n",
       "      <td>\"An organization should ensure appropriate sec...</td>\n",
       "      <td>-</td>\n",
       "      <td>{\"record_id\": \"record_hash_bc4386738363178202d...</td>\n",
       "      <td>{\"n_requests\": 1, \"n_successful_requests\": 1, ...</td>\n",
       "      <td>{\"start_time\": \"2024-06-03T08:18:18.737686\", \"...</td>\n",
       "      <td>2024-06-03T08:18:26.045565</td>\n",
       "      <td>1.0</td>\n",
       "      <td>0.95</td>\n",
       "      <td>1.000000</td>\n",
       "      <td>[{'args': {'prompt': 'How should an organizati...</td>\n",
       "      <td>[{'args': {'question': 'How should an organiza...</td>\n",
       "      <td>[{'args': {'source': 'Personal data should be ...</td>\n",
       "      <td>7</td>\n",
       "      <td>1017</td>\n",
       "      <td>0.001542</td>\n",
       "    </tr>\n",
       "  </tbody>\n",
       "</table>\n",
       "</div>"
      ],
      "text/plain": [
       "  app_id                                           app_json  \\\n",
       "0  App_1  {\"app_id\": \"App_1\", \"tags\": \"-\", \"metadata\": {...   \n",
       "1  App_1  {\"app_id\": \"App_1\", \"tags\": \"-\", \"metadata\": {...   \n",
       "2  App_1  {\"app_id\": \"App_1\", \"tags\": \"-\", \"metadata\": {...   \n",
       "3  App_1  {\"app_id\": \"App_1\", \"tags\": \"-\", \"metadata\": {...   \n",
       "4  App_1  {\"app_id\": \"App_1\", \"tags\": \"-\", \"metadata\": {...   \n",
       "\n",
       "                                                type  \\\n",
       "0  RetrieverQueryEngine(llama_index.query_engine....   \n",
       "1  RetrieverQueryEngine(llama_index.query_engine....   \n",
       "2  RetrieverQueryEngine(llama_index.query_engine....   \n",
       "3  RetrieverQueryEngine(llama_index.query_engine....   \n",
       "4  RetrieverQueryEngine(llama_index.query_engine....   \n",
       "\n",
       "                                      record_id  \\\n",
       "0  record_hash_8ec33b90d51e6f3cc8959703f5eefb59   \n",
       "1  record_hash_f81594e2173d2c34f9cb4f123a6bea17   \n",
       "2  record_hash_a338ea74b6ce100f8638e2d7a08c9d83   \n",
       "3  record_hash_6cbfe28b5318978a93c7757437ba332f   \n",
       "4  record_hash_bc4386738363178202dd902acaa25b3f   \n",
       "\n",
       "                                               input  \\\n",
       "0  \"What are the essential security measures for ...   \n",
       "1  \"What organizational measures should be taken ...   \n",
       "2  \"What technical measures are essential for ens...   \n",
       "3  \"What are the essential technical measures to ...   \n",
       "4  \"How should an organization protect its premis...   \n",
       "\n",
       "                                              output tags  \\\n",
       "0  \"The essential security measures for effective...    -   \n",
       "1  \"Organizational measures that should be taken ...    -   \n",
       "2  \"Appropriate technical measures essential for ...    -   \n",
       "3  \"Essential technical measures to secure equipm...    -   \n",
       "4  \"An organization should ensure appropriate sec...    -   \n",
       "\n",
       "                                         record_json  \\\n",
       "0  {\"record_id\": \"record_hash_8ec33b90d51e6f3cc89...   \n",
       "1  {\"record_id\": \"record_hash_f81594e2173d2c34f9c...   \n",
       "2  {\"record_id\": \"record_hash_a338ea74b6ce100f863...   \n",
       "3  {\"record_id\": \"record_hash_6cbfe28b5318978a93c...   \n",
       "4  {\"record_id\": \"record_hash_bc4386738363178202d...   \n",
       "\n",
       "                                           cost_json  \\\n",
       "0  {\"n_requests\": 1, \"n_successful_requests\": 1, ...   \n",
       "1  {\"n_requests\": 1, \"n_successful_requests\": 1, ...   \n",
       "2  {\"n_requests\": 1, \"n_successful_requests\": 1, ...   \n",
       "3  {\"n_requests\": 1, \"n_successful_requests\": 1, ...   \n",
       "4  {\"n_requests\": 1, \"n_successful_requests\": 1, ...   \n",
       "\n",
       "                                           perf_json  \\\n",
       "0  {\"start_time\": \"2024-06-03T08:17:48.466835\", \"...   \n",
       "1  {\"start_time\": \"2024-06-03T08:17:55.924461\", \"...   \n",
       "2  {\"start_time\": \"2024-06-03T08:18:03.242302\", \"...   \n",
       "3  {\"start_time\": \"2024-06-03T08:18:12.042262\", \"...   \n",
       "4  {\"start_time\": \"2024-06-03T08:18:18.737686\", \"...   \n",
       "\n",
       "                           ts  Answer Relevance  Context Relevance  \\\n",
       "0  2024-06-03T08:17:55.740594               1.0               0.40   \n",
       "1  2024-06-03T08:18:03.058293               1.0               0.55   \n",
       "2  2024-06-03T08:18:11.847055               1.0               0.95   \n",
       "3  2024-06-03T08:18:18.546759               1.0               0.75   \n",
       "4  2024-06-03T08:18:26.045565               1.0               0.95   \n",
       "\n",
       "   Groundedness                             Answer Relevance_calls  \\\n",
       "0      2.325000  [{'args': {'prompt': 'What are the essential s...   \n",
       "1      0.250000  [{'args': {'prompt': 'What organizational meas...   \n",
       "2      1.000000  [{'args': {'prompt': 'What technical measures ...   \n",
       "3      0.083333  [{'args': {'prompt': 'What are the essential t...   \n",
       "4      1.000000  [{'args': {'prompt': 'How should an organizati...   \n",
       "\n",
       "                             Context Relevance_calls  \\\n",
       "0  [{'args': {'question': 'What are the essential...   \n",
       "1  [{'args': {'question': 'What organizational me...   \n",
       "2  [{'args': {'question': 'What technical measure...   \n",
       "3  [{'args': {'question': 'What are the essential...   \n",
       "4  [{'args': {'question': 'How should an organiza...   \n",
       "\n",
       "                                  Groundedness_calls  latency  total_tokens  \\\n",
       "0  [{'args': {'source': '1). \n",
       "\n",
       " household activit...        7           752   \n",
       "1  [{'args': {'source': 'Risk should be evaluated...        7           964   \n",
       "2  [{'args': {'source': '4.5.2016 L 119/47 Offici...        8           861   \n",
       "3  [{'args': {'source': '(78)  The prote ction of...        6           870   \n",
       "4  [{'args': {'source': 'Personal data should be ...        7          1017   \n",
       "\n",
       "   total_cost  \n",
       "0    0.001170  \n",
       "1    0.001488  \n",
       "2    0.001327  \n",
       "3    0.001332  \n",
       "4    0.001542  "
      ]
     },
     "execution_count": 25,
     "metadata": {},
     "output_type": "execute_result"
    }
   ],
   "source": [
    "records, feedback = tru.get_records_and_feedback(app_ids=[])\n",
    "records.head()"
   ]
  },
  {
   "cell_type": "code",
   "execution_count": 26,
   "metadata": {
    "height": 81
   },
   "outputs": [
    {
     "data": {
      "text/html": [
       "<div>\n",
       "<style scoped>\n",
       "    .dataframe tbody tr th:only-of-type {\n",
       "        vertical-align: middle;\n",
       "    }\n",
       "\n",
       "    .dataframe tbody tr th {\n",
       "        vertical-align: top;\n",
       "    }\n",
       "\n",
       "    .dataframe thead th {\n",
       "        text-align: right;\n",
       "    }\n",
       "</style>\n",
       "<table border=\"1\" class=\"dataframe\">\n",
       "  <thead>\n",
       "    <tr style=\"text-align: right;\">\n",
       "      <th></th>\n",
       "      <th>input</th>\n",
       "      <th>output</th>\n",
       "      <th>Context Relevance</th>\n",
       "      <th>Groundedness</th>\n",
       "      <th>Answer Relevance</th>\n",
       "    </tr>\n",
       "  </thead>\n",
       "  <tbody>\n",
       "    <tr>\n",
       "      <th>0</th>\n",
       "      <td>\"What are the essential security measures for effective teleworking under GDPR?\"</td>\n",
       "      <td>\"The essential security measures for effective teleworking under GDPR include implementing appropriate technological protection and organizational measures to promptly detect any personal data breaches, informing the supervisory authority and the data subject without undue delay in case of a breach likely to result in a high risk to the rights and freedoms of the individual, and communicating the nature of the breach along with recommendations to mitigate potential adverse effects to the data subject as soon as reasonably feasible.\"</td>\n",
       "      <td>0.40</td>\n",
       "      <td>2.325000</td>\n",
       "      <td>1.0</td>\n",
       "    </tr>\n",
       "    <tr>\n",
       "      <th>1</th>\n",
       "      <td>\"What organizational measures should be taken to ensure compliance with the GDPR in terms of data security?\"</td>\n",
       "      <td>\"Organizational measures that should be taken to ensure compliance with the GDPR in terms of data security include adopting internal policies, implementing measures that align with the principles of data protection by design and data protection by default, minimizing the processing of personal data, pseudonymizing personal data at the earliest opportunity, ensuring transparency regarding the functions and processing of personal data, enabling data subjects to monitor data processing, and creating and improving security features.\"</td>\n",
       "      <td>0.55</td>\n",
       "      <td>0.250000</td>\n",
       "      <td>1.0</td>\n",
       "    </tr>\n",
       "    <tr>\n",
       "      <th>2</th>\n",
       "      <td>\"What technical measures are essential for ensuring the security of personal data under GDPR?\"</td>\n",
       "      <td>\"Appropriate technical measures essential for ensuring the security of personal data under GDPR include implementing data protection principles such as data minimization, pseudonymization, and ensuring that only necessary personal data for each specific purpose are processed. Additionally, measures should be in place to restrict access to personal data without individual intervention and to evaluate and address risks associated with data processing operations.\"</td>\n",
       "      <td>0.95</td>\n",
       "      <td>1.000000</td>\n",
       "      <td>1.0</td>\n",
       "    </tr>\n",
       "    <tr>\n",
       "      <th>3</th>\n",
       "      <td>\"What are the essential technical measures to secure equipment and workstations for protecting personal data?\"</td>\n",
       "      <td>\"Essential technical measures to secure equipment and workstations for protecting personal data include implementing appropriate security features, enabling encryption where necessary, restricting access to authorized personnel only, regularly updating software and systems to address vulnerabilities, and ensuring that only necessary personal data is processed on each workstation.\"</td>\n",
       "      <td>0.75</td>\n",
       "      <td>0.083333</td>\n",
       "      <td>1.0</td>\n",
       "    </tr>\n",
       "    <tr>\n",
       "      <th>4</th>\n",
       "      <td>\"How should an organization protect its premises to ensure the security of personal data?\"</td>\n",
       "      <td>\"An organization should ensure appropriate security measures are in place to protect its premises, including preventing unauthorized access to or use of personal data and the equipment used for processing.\"</td>\n",
       "      <td>0.95</td>\n",
       "      <td>1.000000</td>\n",
       "      <td>1.0</td>\n",
       "    </tr>\n",
       "    <tr>\n",
       "      <th>5</th>\n",
       "      <td>\"How should an organization implement user authentication to protect personal data under GDPR requirements?\"</td>\n",
       "      <td>\"An organization should implement user authentication measures to protect personal data under GDPR requirements by ensuring that only authorized individuals have access to personal data. This can involve using secure login credentials, such as passwords or biometric data, and implementing multi-factor authentication where possible. Additionally, organizations should regularly review and update their authentication processes to maintain the security of personal data in compliance with GDPR regulations.\"</td>\n",
       "      <td>0.35</td>\n",
       "      <td>0.433333</td>\n",
       "      <td>1.0</td>\n",
       "    </tr>\n",
       "    <tr>\n",
       "      <th>6</th>\n",
       "      <td>\"How should an organization manage user authorizations to ensure data security under GDPR?\"</td>\n",
       "      <td>\"An organization should adopt internal policies and implement measures that meet the principles of data protection by design and data protection by default. This includes minimizing the processing of personal data, pseudonymizing personal data, ensuring transparency in data processing, enabling data subjects to monitor data processing, and creating and improving security features. Additionally, when developing applications, services, and products that involve processing personal data, organizations should consider data protection rights and ensure that controllers and processors can fulfill their data protection obligations. The principles of data protection by design and by default should also be considered in the context of public tenders.\"</td>\n",
       "      <td>0.55</td>\n",
       "      <td>1.000000</td>\n",
       "      <td>1.0</td>\n",
       "    </tr>\n",
       "    <tr>\n",
       "      <th>7</th>\n",
       "      <td>\"What is pseudonymisation and how should it be implemented under GDPR?\"</td>\n",
       "      <td>\"Pseudonymisation is a data protection technique that replaces identifying information with artificial identifiers. It should be implemented in a way that allows for general analysis while ensuring that additional information needed to identify specific individuals is kept separately. The controller processing the personal data should also specify the authorized persons within the same controller.\"</td>\n",
       "      <td>0.80</td>\n",
       "      <td>0.933333</td>\n",
       "      <td>0.9</td>\n",
       "    </tr>\n",
       "    <tr>\n",
       "      <th>8</th>\n",
       "      <td>\"How does encryption and hash functions contribute to GDPR compliance?\"</td>\n",
       "      <td>\"Encryption and hash functions contribute to GDPR compliance by ensuring appropriate security of personal data. Encryption helps protect data by converting it into a code that can only be accessed with a decryption key, thus safeguarding against unauthorized or unlawful processing. Hash functions play a role in GDPR compliance by securely storing passwords or sensitive data in a way that cannot be reversed to reveal the original information, enhancing the integrity and confidentiality of personal data. By utilizing encryption and hash functions, organizations can meet the GDPR requirement of processing personal data in a manner that ensures appropriate security measures are in place to prevent data breaches and unauthorized access.\"</td>\n",
       "      <td>0.20</td>\n",
       "      <td>0.500000</td>\n",
       "      <td>1.0</td>\n",
       "    </tr>\n",
       "    <tr>\n",
       "      <th>9</th>\n",
       "      <td>\"What does data anonymisation involve under GDPR, and how is it distinguished from pseudonymisation?\"</td>\n",
       "      <td>\"Data anonymisation involves the process of removing all identifying information from personal data so that the data cannot be linked back to an individual. This ensures that the data is no longer considered personal data under the GDPR.\\n\\nOn the other hand, pseudonymisation is a data processing technique where personal data is altered in such a way that it can no longer be attributed to a specific individual without the use of additional information. Unlike anonymisation, pseudonymisation still allows for the identification of individuals if additional information is used.\"</td>\n",
       "      <td>0.20</td>\n",
       "      <td>0.250000</td>\n",
       "      <td>1.0</td>\n",
       "    </tr>\n",
       "    <tr>\n",
       "      <th>10</th>\n",
       "      <td>\"What are the benefits of conducting a DPIA?\"</td>\n",
       "      <td>\"Conducting a Data Protection Impact Assessment (DPIA) allows for the identification and mitigation of risks associated with the processing of personal data. It helps ensure compliance with data protection regulations, enhances transparency, and promotes accountability in data processing activities. Additionally, a DPIA can help organizations assess the necessity and proportionality of their data processing activities, ultimately leading to improved data protection measures and increased trust among data subjects.\"</td>\n",
       "      <td>0.40</td>\n",
       "      <td>0.525000</td>\n",
       "      <td>1.0</td>\n",
       "    </tr>\n",
       "  </tbody>\n",
       "</table>\n",
       "</div>"
      ],
      "text/plain": [
       "                                                                                                             input  \\\n",
       "0                                 \"What are the essential security measures for effective teleworking under GDPR?\"   \n",
       "1     \"What organizational measures should be taken to ensure compliance with the GDPR in terms of data security?\"   \n",
       "2                   \"What technical measures are essential for ensuring the security of personal data under GDPR?\"   \n",
       "3   \"What are the essential technical measures to secure equipment and workstations for protecting personal data?\"   \n",
       "4                       \"How should an organization protect its premises to ensure the security of personal data?\"   \n",
       "5     \"How should an organization implement user authentication to protect personal data under GDPR requirements?\"   \n",
       "6                      \"How should an organization manage user authorizations to ensure data security under GDPR?\"   \n",
       "7                                          \"What is pseudonymisation and how should it be implemented under GDPR?\"   \n",
       "8                                          \"How does encryption and hash functions contribute to GDPR compliance?\"   \n",
       "9            \"What does data anonymisation involve under GDPR, and how is it distinguished from pseudonymisation?\"   \n",
       "10                                                                   \"What are the benefits of conducting a DPIA?\"   \n",
       "\n",
       "                                                                                                                                                                                                                                                                                                                                                                                                                                                                                                                                                                                                                                                                                                                                                                              output  \\\n",
       "0                                                                                                                                                                                                                         \"The essential security measures for effective teleworking under GDPR include implementing appropriate technological protection and organizational measures to promptly detect any personal data breaches, informing the supervisory authority and the data subject without undue delay in case of a breach likely to result in a high risk to the rights and freedoms of the individual, and communicating the nature of the breach along with recommendations to mitigate potential adverse effects to the data subject as soon as reasonably feasible.\"   \n",
       "1                                                                                                                                                                                                                            \"Organizational measures that should be taken to ensure compliance with the GDPR in terms of data security include adopting internal policies, implementing measures that align with the principles of data protection by design and data protection by default, minimizing the processing of personal data, pseudonymizing personal data at the earliest opportunity, ensuring transparency regarding the functions and processing of personal data, enabling data subjects to monitor data processing, and creating and improving security features.\"   \n",
       "2                                                                                                                                                                                                                                                                                                  \"Appropriate technical measures essential for ensuring the security of personal data under GDPR include implementing data protection principles such as data minimization, pseudonymization, and ensuring that only necessary personal data for each specific purpose are processed. Additionally, measures should be in place to restrict access to personal data without individual intervention and to evaluate and address risks associated with data processing operations.\"   \n",
       "3                                                                                                                                                                                                                                                                                                                                                                                    \"Essential technical measures to secure equipment and workstations for protecting personal data include implementing appropriate security features, enabling encryption where necessary, restricting access to authorized personnel only, regularly updating software and systems to address vulnerabilities, and ensuring that only necessary personal data is processed on each workstation.\"   \n",
       "4                                                                                                                                                                                                                                                                                                                                                                                                                                                                                                                                                                     \"An organization should ensure appropriate security measures are in place to protect its premises, including preventing unauthorized access to or use of personal data and the equipment used for processing.\"   \n",
       "5                                                                                                                                                                                                                                                        \"An organization should implement user authentication measures to protect personal data under GDPR requirements by ensuring that only authorized individuals have access to personal data. This can involve using secure login credentials, such as passwords or biometric data, and implementing multi-factor authentication where possible. Additionally, organizations should regularly review and update their authentication processes to maintain the security of personal data in compliance with GDPR regulations.\"   \n",
       "6   \"An organization should adopt internal policies and implement measures that meet the principles of data protection by design and data protection by default. This includes minimizing the processing of personal data, pseudonymizing personal data, ensuring transparency in data processing, enabling data subjects to monitor data processing, and creating and improving security features. Additionally, when developing applications, services, and products that involve processing personal data, organizations should consider data protection rights and ensure that controllers and processors can fulfill their data protection obligations. The principles of data protection by design and by default should also be considered in the context of public tenders.\"   \n",
       "7                                                                                                                                                                                                                                                                                                                                                                  \"Pseudonymisation is a data protection technique that replaces identifying information with artificial identifiers. It should be implemented in a way that allows for general analysis while ensuring that additional information needed to identify specific individuals is kept separately. The controller processing the personal data should also specify the authorized persons within the same controller.\"   \n",
       "8             \"Encryption and hash functions contribute to GDPR compliance by ensuring appropriate security of personal data. Encryption helps protect data by converting it into a code that can only be accessed with a decryption key, thus safeguarding against unauthorized or unlawful processing. Hash functions play a role in GDPR compliance by securely storing passwords or sensitive data in a way that cannot be reversed to reveal the original information, enhancing the integrity and confidentiality of personal data. By utilizing encryption and hash functions, organizations can meet the GDPR requirement of processing personal data in a manner that ensures appropriate security measures are in place to prevent data breaches and unauthorized access.\"   \n",
       "9                                                                                                                                                                             \"Data anonymisation involves the process of removing all identifying information from personal data so that the data cannot be linked back to an individual. This ensures that the data is no longer considered personal data under the GDPR.\\n\\nOn the other hand, pseudonymisation is a data processing technique where personal data is altered in such a way that it can no longer be attributed to a specific individual without the use of additional information. Unlike anonymisation, pseudonymisation still allows for the identification of individuals if additional information is used.\"   \n",
       "10                                                                                                                                                                                                                                          \"Conducting a Data Protection Impact Assessment (DPIA) allows for the identification and mitigation of risks associated with the processing of personal data. It helps ensure compliance with data protection regulations, enhances transparency, and promotes accountability in data processing activities. Additionally, a DPIA can help organizations assess the necessity and proportionality of their data processing activities, ultimately leading to improved data protection measures and increased trust among data subjects.\"   \n",
       "\n",
       "    Context Relevance  Groundedness  Answer Relevance  \n",
       "0                0.40      2.325000               1.0  \n",
       "1                0.55      0.250000               1.0  \n",
       "2                0.95      1.000000               1.0  \n",
       "3                0.75      0.083333               1.0  \n",
       "4                0.95      1.000000               1.0  \n",
       "5                0.35      0.433333               1.0  \n",
       "6                0.55      1.000000               1.0  \n",
       "7                0.80      0.933333               0.9  \n",
       "8                0.20      0.500000               1.0  \n",
       "9                0.20      0.250000               1.0  \n",
       "10               0.40      0.525000               1.0  "
      ]
     },
     "execution_count": 26,
     "metadata": {},
     "output_type": "execute_result"
    }
   ],
   "source": [
    "import pandas as pd\n",
    "\n",
    "pd.set_option(\"display.max_colwidth\", None)\n",
    "records[[\"input\", \"output\"] + feedback]"
   ]
  },
  {
   "cell_type": "code",
   "execution_count": 27,
   "metadata": {
    "height": 30
   },
   "outputs": [
    {
     "data": {
      "text/html": [
       "<div>\n",
       "<style scoped>\n",
       "    .dataframe tbody tr th:only-of-type {\n",
       "        vertical-align: middle;\n",
       "    }\n",
       "\n",
       "    .dataframe tbody tr th {\n",
       "        vertical-align: top;\n",
       "    }\n",
       "\n",
       "    .dataframe thead th {\n",
       "        text-align: right;\n",
       "    }\n",
       "</style>\n",
       "<table border=\"1\" class=\"dataframe\">\n",
       "  <thead>\n",
       "    <tr style=\"text-align: right;\">\n",
       "      <th></th>\n",
       "      <th>Context Relevance</th>\n",
       "      <th>Groundedness</th>\n",
       "      <th>Answer Relevance</th>\n",
       "      <th>latency</th>\n",
       "      <th>total_cost</th>\n",
       "    </tr>\n",
       "    <tr>\n",
       "      <th>app_id</th>\n",
       "      <th></th>\n",
       "      <th></th>\n",
       "      <th></th>\n",
       "      <th></th>\n",
       "      <th></th>\n",
       "    </tr>\n",
       "  </thead>\n",
       "  <tbody>\n",
       "    <tr>\n",
       "      <th>App_1</th>\n",
       "      <td>0.554545</td>\n",
       "      <td>0.754545</td>\n",
       "      <td>0.990909</td>\n",
       "      <td>7.272727</td>\n",
       "      <td>0.001898</td>\n",
       "    </tr>\n",
       "  </tbody>\n",
       "</table>\n",
       "</div>"
      ],
      "text/plain": [
       "        Context Relevance  Groundedness  Answer Relevance   latency  \\\n",
       "app_id                                                                \n",
       "App_1            0.554545      0.754545          0.990909  7.272727   \n",
       "\n",
       "        total_cost  \n",
       "app_id              \n",
       "App_1     0.001898  "
      ]
     },
     "execution_count": 27,
     "metadata": {},
     "output_type": "execute_result"
    }
   ],
   "source": [
    "tru.get_leaderboard(app_ids=[])"
   ]
  },
  {
   "cell_type": "code",
   "execution_count": null,
   "metadata": {
    "height": 30,
    "id": "6Yp4_e4faZVD"
   },
   "outputs": [
    {
     "name": "stdout",
     "output_type": "stream",
     "text": [
      "Starting dashboard ...\n",
      "Config file already exists. Skipping writing process.\n",
      "Credentials file already exists. Skipping writing process.\n"
     ]
    },
    {
     "data": {
      "application/vnd.jupyter.widget-view+json": {
       "model_id": "1d4a8af2683b4ed7beae1354eb61c160",
       "version_major": 2,
       "version_minor": 0
      },
      "text/plain": [
       "Accordion(children=(VBox(children=(VBox(children=(Label(value='STDOUT'), Output())), VBox(children=(Label(valu…"
      ]
     },
     "metadata": {},
     "output_type": "display_data"
    }
   ],
   "source": [
    "tru.run_dashboard()"
   ]
  }
 ],
 "metadata": {
  "accelerator": "GPU",
  "colab": {
   "gpuType": "T4",
   "provenance": [
    {
     "file_id": "1ChKW1kEIUcUVDDTWjpA5Tf_ib3Hhp3uS",
     "timestamp": 1695164681916
    }
   ]
  },
  "kernelspec": {
   "display_name": "Python 3 (ipykernel)",
   "language": "python",
   "name": "python3"
  },
  "language_info": {
   "codemirror_mode": {
    "name": "ipython",
    "version": 3
   },
   "file_extension": ".py",
   "mimetype": "text/x-python",
   "name": "python",
   "nbconvert_exporter": "python",
   "pygments_lexer": "ipython3",
   "version": "3.11.9"
  }
 },
 "nbformat": 4,
 "nbformat_minor": 4
}
